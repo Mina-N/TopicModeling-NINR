{
 "cells": [
  {
   "cell_type": "markdown",
   "metadata": {},
   "source": [
    "#### B1 Topics — Alaz Sengul"
   ]
  },
  {
   "cell_type": "markdown",
   "metadata": {},
   "source": [
    "***\n",
    "###### Setup"
   ]
  },
  {
   "cell_type": "markdown",
   "metadata": {},
   "source": [
    "Start off by importing the necessary libraries and tools."
   ]
  },
  {
   "cell_type": "code",
   "execution_count": 3,
   "metadata": {},
   "outputs": [],
   "source": [
    "import pandas # reading/maniuplating CSV files\n",
    "import nltk # preprocessing\n",
    "import spacy # preprocessing\n",
    "import en_core_web_sm #Mina edit\n",
    "import gensim # Latent Dirichlet Allocation\n",
    "from pprint import pprint # pretty print\n",
    "\n",
    "# plotting tools\n",
    "import pyLDAvis\n",
    "import pyLDAvis.gensim\n",
    "import matplotlib.pyplot as plt\n",
    "%matplotlib inline\n",
    "plt.style.use('seaborn-colorblind')\n",
    "\n",
    "# analysis tools\n",
    "import collections\n",
    "import numpy as np\n",
    "\n",
    "# ignore warnings\n",
    "import warnings\n",
    "warnings.filterwarnings(\"ignore\")"
   ]
  },
  {
   "cell_type": "markdown",
   "metadata": {},
   "source": [
    "Define constants."
   ]
  },
  {
   "cell_type": "code",
   "execution_count": 4,
   "metadata": {},
   "outputs": [],
   "source": [
    "NUM_TOPICS = 4\n",
    "ALPHA = 0.05\n",
    "BETA = 0.05"
   ]
  },
  {
   "cell_type": "markdown",
   "metadata": {},
   "source": [
    "Initialize spacy 'en' model."
   ]
  },
  {
   "cell_type": "code",
   "execution_count": 5,
   "metadata": {
    "scrolled": true
   },
   "outputs": [],
   "source": [
    "# nlp = spacy.load('en_core_web_sm', disable=['parser', 'ner']) # keeping only tagger component for efficiency\n",
    "\n",
    "nlp = en_core_web_sm.load(disable=['parser', 'ner'])# Mina edit"
   ]
  },
  {
   "cell_type": "markdown",
   "metadata": {},
   "source": [
    "***\n",
    "###### Data Compilation"
   ]
  },
  {
   "cell_type": "markdown",
   "metadata": {},
   "source": [
    "Load the relevant meta and text data of the active grants, while extracting the relevant data rows."
   ]
  },
  {
   "cell_type": "code",
   "execution_count": 6,
   "metadata": {
    "scrolled": true
   },
   "outputs": [],
   "source": [
    "db_meta = pandas.read_csv(r\"B1_metadata.csv\",\n",
    "                         usecols = ['AID','FY','Funded','Competing',\n",
    "                                    'RecomCode','IC','BudgetEnd','PCC'])"
   ]
  },
  {
   "cell_type": "code",
   "execution_count": 7,
   "metadata": {},
   "outputs": [],
   "source": [
    "db_text = pandas.read_csv(r\"B1_textdata.csv\",\n",
    "                         usecols = ['AID','T','A','N','S'])"
   ]
  },
  {
   "cell_type": "markdown",
   "metadata": {},
   "source": [
    "The column 'PCC' contains a six-character string that indicates both PAC and PO. Add PAC and PO columns to reflect this identification."
   ]
  },
  {
   "cell_type": "code",
   "execution_count": 8,
   "metadata": {},
   "outputs": [],
   "source": [
    "db_meta['PAC'] = db_meta.PCC.str[:4] # create PAC column\n",
    "db_meta['PO'] = db_meta.PCC.str[4:] # create PO column"
   ]
  },
  {
   "cell_type": "markdown",
   "metadata": {},
   "source": [
    "Merge the two datasets by 'AID'. Filter by grants that are funded or are competing and have a RecomCode."
   ]
  },
  {
   "cell_type": "code",
   "execution_count": 9,
   "metadata": {},
   "outputs": [],
   "source": [
    "db = pandas.merge(db_meta, db_text, on='AID', how='left') # merges on 'AID'\n",
    "db = db[(db.Funded == \"Y\") | ((db.Competing == \"Y\") & (pandas.notna(db.RecomCode)))] # active grants"
   ]
  },
  {
   "cell_type": "markdown",
   "metadata": {},
   "source": [
    "Now that we have all our compiled data, we can do more filtering by ICs and PACs."
   ]
  },
  {
   "cell_type": "code",
   "execution_count": 10,
   "metadata": {},
   "outputs": [],
   "source": [
    "db = db[(db.IC == \"GM\")] # get rid of non-GM applications\n",
    "db = db[(db.PAC != \"B170\")] # get rid of B170 PACs"
   ]
  },
  {
   "cell_type": "markdown",
   "metadata": {},
   "source": [
    "You can also filter by dates."
   ]
  },
  {
   "cell_type": "code",
   "execution_count": 11,
   "metadata": {},
   "outputs": [],
   "source": [
    "db['BudgetEnd'] = pandas.to_datetime(db.BudgetEnd, format = \"%m/%d/%Y\", errors='coerce') # datetime\n",
    "db = db[(db.FY >= 2018) | ((db.Funded == \"Y\") & (db.BudgetEnd > \"2019-01-01\"))]"
   ]
  },
  {
   "cell_type": "markdown",
   "metadata": {},
   "source": [
    "Remove empty texts."
   ]
  },
  {
   "cell_type": "code",
   "execution_count": 12,
   "metadata": {},
   "outputs": [],
   "source": [
    "db = db[pandas.notna(db.A)] # remove if abstract is empty"
   ]
  },
  {
   "cell_type": "markdown",
   "metadata": {},
   "source": [
    "Concatenate columns 'T', 'A', 'N', and 'S' to form long strings for each application, representing the document."
   ]
  },
  {
   "cell_type": "code",
   "execution_count": 13,
   "metadata": {},
   "outputs": [],
   "source": [
    "db['text'] = db['T'].map(str)+\" \"+db['A'].map(str)+\" \"+db['N'].map(str)+\" \"+db['S'].map(str)"
   ]
  },
  {
   "cell_type": "markdown",
   "metadata": {},
   "source": [
    "Remove unnecessary columns."
   ]
  },
  {
   "cell_type": "code",
   "execution_count": 14,
   "metadata": {
    "scrolled": true
   },
   "outputs": [],
   "source": [
    "db = db.drop(columns = ['FY','Funded','Competing','RecomCode','IC','BudgetEnd','PCC','T','A','N','S'])"
   ]
  },
  {
   "cell_type": "code",
   "execution_count": 15,
   "metadata": {
    "scrolled": true
   },
   "outputs": [
    {
     "data": {
      "text/html": [
       "<div>\n",
       "<style scoped>\n",
       "    .dataframe tbody tr th:only-of-type {\n",
       "        vertical-align: middle;\n",
       "    }\n",
       "\n",
       "    .dataframe tbody tr th {\n",
       "        vertical-align: top;\n",
       "    }\n",
       "\n",
       "    .dataframe thead th {\n",
       "        text-align: right;\n",
       "    }\n",
       "</style>\n",
       "<table border=\"1\" class=\"dataframe\">\n",
       "  <thead>\n",
       "    <tr style=\"text-align: right;\">\n",
       "      <th></th>\n",
       "      <th>AID</th>\n",
       "      <th>PAC</th>\n",
       "      <th>PO</th>\n",
       "      <th>text</th>\n",
       "    </tr>\n",
       "  </thead>\n",
       "  <tbody>\n",
       "    <tr>\n",
       "      <th>33</th>\n",
       "      <td>9476252</td>\n",
       "      <td>B160</td>\n",
       "      <td>PB</td>\n",
       "      <td>Drug Effect Discovery Through Data Mining and ...</td>\n",
       "    </tr>\n",
       "    <tr>\n",
       "      <th>47</th>\n",
       "      <td>9470885</td>\n",
       "      <td>B301</td>\n",
       "      <td>LP</td>\n",
       "      <td>Markov State Model approaches for folding, bin...</td>\n",
       "    </tr>\n",
       "    <tr>\n",
       "      <th>67</th>\n",
       "      <td>9499981</td>\n",
       "      <td>B160</td>\n",
       "      <td>VR</td>\n",
       "      <td>Modeling the Risk of Lyme Disease in Built Env...</td>\n",
       "    </tr>\n",
       "    <tr>\n",
       "      <th>109</th>\n",
       "      <td>9500587</td>\n",
       "      <td>B120</td>\n",
       "      <td>VR</td>\n",
       "      <td>Novel Computational Techniques for Correlating...</td>\n",
       "    </tr>\n",
       "    <tr>\n",
       "      <th>111</th>\n",
       "      <td>9536067</td>\n",
       "      <td>B210</td>\n",
       "      <td>HR</td>\n",
       "      <td>Training Training Abstract\\nMMBioS will contin...</td>\n",
       "    </tr>\n",
       "  </tbody>\n",
       "</table>\n",
       "</div>"
      ],
      "text/plain": [
       "         AID   PAC  PO                                               text\n",
       "33   9476252  B160  PB  Drug Effect Discovery Through Data Mining and ...\n",
       "47   9470885  B301  LP  Markov State Model approaches for folding, bin...\n",
       "67   9499981  B160  VR  Modeling the Risk of Lyme Disease in Built Env...\n",
       "109  9500587  B120  VR  Novel Computational Techniques for Correlating...\n",
       "111  9536067  B210  HR  Training Training Abstract\\nMMBioS will contin..."
      ]
     },
     "execution_count": 15,
     "metadata": {},
     "output_type": "execute_result"
    }
   ],
   "source": [
    "db.head()"
   ]
  },
  {
   "cell_type": "markdown",
   "metadata": {},
   "source": [
    "***\n",
    "###### Text Preprocessing"
   ]
  },
  {
   "cell_type": "markdown",
   "metadata": {},
   "source": [
    "Clean up the text by stripping whitespace and keeping only letters."
   ]
  },
  {
   "cell_type": "code",
   "execution_count": 16,
   "metadata": {},
   "outputs": [],
   "source": [
    "db['text'] = db['text'].str.replace(\"[\\n\\xa0]\", \" \", regex=True).str.strip() # strip whitespace"
   ]
  },
  {
   "cell_type": "code",
   "execution_count": 17,
   "metadata": {},
   "outputs": [],
   "source": [
    "db['text'] = db['text'].str.replace(\"[^A-Za-z ]+\", \"\", regex=True) # keep only letters"
   ]
  },
  {
   "cell_type": "markdown",
   "metadata": {},
   "source": [
    "Make all text lowercase."
   ]
  },
  {
   "cell_type": "code",
   "execution_count": 18,
   "metadata": {},
   "outputs": [],
   "source": [
    "db['text'] = db['text'].str.lower() # make all text lowercase"
   ]
  },
  {
   "cell_type": "markdown",
   "metadata": {},
   "source": [
    "Only keep documents with unique text."
   ]
  },
  {
   "cell_type": "code",
   "execution_count": 19,
   "metadata": {},
   "outputs": [],
   "source": [
    "db = db.drop_duplicates(subset=['text'])"
   ]
  },
  {
   "cell_type": "markdown",
   "metadata": {},
   "source": [
    "Load stopwords (http://www.ai.mit.edu/projects/jmlr/papers/volume5/lewis04a/a11-smart-stop-list/english.stop) and our own collection of words to remove."
   ]
  },
  {
   "cell_type": "code",
   "execution_count": 20,
   "metadata": {},
   "outputs": [],
   "source": [
    "with open(\"stopwords.txt\") as f: # words loaded from local .txt file\n",
    "    remove_words = [line.strip() for line in f if line.strip()]"
   ]
  },
  {
   "cell_type": "markdown",
   "metadata": {},
   "source": [
    "Split the texts into lists of words. Also check against stopwords of the word's stem and remove. Here we apply Snowball Stemming (http://snowball.tartarus.org/texts/introduction.html)."
   ]
  },
  {
   "cell_type": "code",
   "execution_count": 21,
   "metadata": {},
   "outputs": [],
   "source": [
    "sno = nltk.stem.SnowballStemmer('english') # import from nltk library"
   ]
  },
  {
   "cell_type": "code",
   "execution_count": 22,
   "metadata": {},
   "outputs": [],
   "source": [
    "def stem_sentences(text): # helper function\n",
    "    tokens = text.split()\n",
    "    split_text = [t for t in tokens if sno.stem(t) not in remove_words]\n",
    "    return(split_text)"
   ]
  },
  {
   "cell_type": "code",
   "execution_count": 23,
   "metadata": {},
   "outputs": [],
   "source": [
    "db['text'] = db['text'].apply(stem_sentences) # apply function for each document"
   ]
  },
  {
   "cell_type": "code",
   "execution_count": 24,
   "metadata": {},
   "outputs": [
    {
     "data": {
      "text/html": [
       "<div>\n",
       "<style scoped>\n",
       "    .dataframe tbody tr th:only-of-type {\n",
       "        vertical-align: middle;\n",
       "    }\n",
       "\n",
       "    .dataframe tbody tr th {\n",
       "        vertical-align: top;\n",
       "    }\n",
       "\n",
       "    .dataframe thead th {\n",
       "        text-align: right;\n",
       "    }\n",
       "</style>\n",
       "<table border=\"1\" class=\"dataframe\">\n",
       "  <thead>\n",
       "    <tr style=\"text-align: right;\">\n",
       "      <th></th>\n",
       "      <th>AID</th>\n",
       "      <th>PAC</th>\n",
       "      <th>PO</th>\n",
       "      <th>text</th>\n",
       "    </tr>\n",
       "  </thead>\n",
       "  <tbody>\n",
       "    <tr>\n",
       "      <th>33</th>\n",
       "      <td>9476252</td>\n",
       "      <td>B160</td>\n",
       "      <td>PB</td>\n",
       "      <td>[drug, effect, discovery, data, mining, integr...</td>\n",
       "    </tr>\n",
       "    <tr>\n",
       "      <th>47</th>\n",
       "      <td>9470885</td>\n",
       "      <td>B301</td>\n",
       "      <td>LP</td>\n",
       "      <td>[markov, state, approaches, folding, binding, ...</td>\n",
       "    </tr>\n",
       "    <tr>\n",
       "      <th>67</th>\n",
       "      <td>9499981</td>\n",
       "      <td>B160</td>\n",
       "      <td>VR</td>\n",
       "      <td>[risk, lyme, disease, built, environments, nor...</td>\n",
       "    </tr>\n",
       "    <tr>\n",
       "      <th>109</th>\n",
       "      <td>9500587</td>\n",
       "      <td>B120</td>\n",
       "      <td>VR</td>\n",
       "      <td>[computational, techniques, correlating, micro...</td>\n",
       "    </tr>\n",
       "    <tr>\n",
       "      <th>111</th>\n",
       "      <td>9536067</td>\n",
       "      <td>B210</td>\n",
       "      <td>HR</td>\n",
       "      <td>[training, training, abstract, mmbios, continu...</td>\n",
       "    </tr>\n",
       "    <tr>\n",
       "      <th>120</th>\n",
       "      <td>9489276</td>\n",
       "      <td>B301</td>\n",
       "      <td>LP</td>\n",
       "      <td>[molecular, basis, receptorligand, recognition...</td>\n",
       "    </tr>\n",
       "    <tr>\n",
       "      <th>122</th>\n",
       "      <td>9472352</td>\n",
       "      <td>B120</td>\n",
       "      <td>VR</td>\n",
       "      <td>[hardening, gromacs, molecular, simulation, en...</td>\n",
       "    </tr>\n",
       "    <tr>\n",
       "      <th>123</th>\n",
       "      <td>9469533</td>\n",
       "      <td>B150</td>\n",
       "      <td>HR</td>\n",
       "      <td>[information, integration, energy, expenditure...</td>\n",
       "    </tr>\n",
       "    <tr>\n",
       "      <th>124</th>\n",
       "      <td>9497470</td>\n",
       "      <td>B301</td>\n",
       "      <td>LP</td>\n",
       "      <td>[dynamic, ensembles, intrinsically, disordered...</td>\n",
       "    </tr>\n",
       "    <tr>\n",
       "      <th>155</th>\n",
       "      <td>8957587</td>\n",
       "      <td>B301</td>\n",
       "      <td>LP</td>\n",
       "      <td>[enhanced, silico, identification, targeted, i...</td>\n",
       "    </tr>\n",
       "    <tr>\n",
       "      <th>168</th>\n",
       "      <td>9276731</td>\n",
       "      <td>B180</td>\n",
       "      <td>HR</td>\n",
       "      <td>[mit, center, integrative, synthetic, biology,...</td>\n",
       "    </tr>\n",
       "    <tr>\n",
       "      <th>176</th>\n",
       "      <td>9498121</td>\n",
       "      <td>B120</td>\n",
       "      <td>VR</td>\n",
       "      <td>[removing, batch, effects, genomic, epigenomic...</td>\n",
       "    </tr>\n",
       "    <tr>\n",
       "      <th>206</th>\n",
       "      <td>9318571</td>\n",
       "      <td>B270</td>\n",
       "      <td>VR</td>\n",
       "      <td>[calibration, simulation, botswana, combinatio...</td>\n",
       "    </tr>\n",
       "    <tr>\n",
       "      <th>208</th>\n",
       "      <td>9498712</td>\n",
       "      <td>B301</td>\n",
       "      <td>LP</td>\n",
       "      <td>[protein, folding, misfolding, aggregation, me...</td>\n",
       "    </tr>\n",
       "    <tr>\n",
       "      <th>224</th>\n",
       "      <td>9469529</td>\n",
       "      <td>B130</td>\n",
       "      <td>PB</td>\n",
       "      <td>[power, clusterrandomized, trials, software, w...</td>\n",
       "    </tr>\n",
       "    <tr>\n",
       "      <th>234</th>\n",
       "      <td>9518954</td>\n",
       "      <td>B120</td>\n",
       "      <td>HR</td>\n",
       "      <td>[resource, complex, physiologic, signals, desc...</td>\n",
       "    </tr>\n",
       "    <tr>\n",
       "      <th>237</th>\n",
       "      <td>9501009</td>\n",
       "      <td>B160</td>\n",
       "      <td>VR</td>\n",
       "      <td>[optimizing, mitigation, efforts, control, spr...</td>\n",
       "    </tr>\n",
       "    <tr>\n",
       "      <th>239</th>\n",
       "      <td>9282531</td>\n",
       "      <td>B301</td>\n",
       "      <td>LP</td>\n",
       "      <td>[high, resolution, structure, rosetta, descrip...</td>\n",
       "    </tr>\n",
       "    <tr>\n",
       "      <th>250</th>\n",
       "      <td>9478198</td>\n",
       "      <td>B210</td>\n",
       "      <td>HR</td>\n",
       "      <td>[national, biomedical, computation, resource, ...</td>\n",
       "    </tr>\n",
       "    <tr>\n",
       "      <th>262</th>\n",
       "      <td>9512352</td>\n",
       "      <td>B120</td>\n",
       "      <td>PB</td>\n",
       "      <td>[data, information, integration, risk, predict...</td>\n",
       "    </tr>\n",
       "  </tbody>\n",
       "</table>\n",
       "</div>"
      ],
      "text/plain": [
       "         AID   PAC  PO                                               text\n",
       "33   9476252  B160  PB  [drug, effect, discovery, data, mining, integr...\n",
       "47   9470885  B301  LP  [markov, state, approaches, folding, binding, ...\n",
       "67   9499981  B160  VR  [risk, lyme, disease, built, environments, nor...\n",
       "109  9500587  B120  VR  [computational, techniques, correlating, micro...\n",
       "111  9536067  B210  HR  [training, training, abstract, mmbios, continu...\n",
       "120  9489276  B301  LP  [molecular, basis, receptorligand, recognition...\n",
       "122  9472352  B120  VR  [hardening, gromacs, molecular, simulation, en...\n",
       "123  9469533  B150  HR  [information, integration, energy, expenditure...\n",
       "124  9497470  B301  LP  [dynamic, ensembles, intrinsically, disordered...\n",
       "155  8957587  B301  LP  [enhanced, silico, identification, targeted, i...\n",
       "168  9276731  B180  HR  [mit, center, integrative, synthetic, biology,...\n",
       "176  9498121  B120  VR  [removing, batch, effects, genomic, epigenomic...\n",
       "206  9318571  B270  VR  [calibration, simulation, botswana, combinatio...\n",
       "208  9498712  B301  LP  [protein, folding, misfolding, aggregation, me...\n",
       "224  9469529  B130  PB  [power, clusterrandomized, trials, software, w...\n",
       "234  9518954  B120  HR  [resource, complex, physiologic, signals, desc...\n",
       "237  9501009  B160  VR  [optimizing, mitigation, efforts, control, spr...\n",
       "239  9282531  B301  LP  [high, resolution, structure, rosetta, descrip...\n",
       "250  9478198  B210  HR  [national, biomedical, computation, resource, ...\n",
       "262  9512352  B120  PB  [data, information, integration, risk, predict..."
      ]
     },
     "execution_count": 24,
     "metadata": {},
     "output_type": "execute_result"
    }
   ],
   "source": [
    "db.head(20)"
   ]
  },
  {
   "cell_type": "markdown",
   "metadata": {},
   "source": [
    "***\n",
    "Build a bigram model of the texts."
   ]
  },
  {
   "cell_type": "code",
   "execution_count": 25,
   "metadata": {},
   "outputs": [],
   "source": [
    "texts = db.text.values.tolist() # creates text_values variable"
   ]
  },
  {
   "cell_type": "code",
   "execution_count": 26,
   "metadata": {},
   "outputs": [],
   "source": [
    "bigram_phrases = gensim.models.Phrases(texts, min_count=5, threshold=100)\n",
    "bigram_phraser = gensim.models.phrases.Phraser(bigram_phrases)"
   ]
  },
  {
   "cell_type": "code",
   "execution_count": 27,
   "metadata": {},
   "outputs": [],
   "source": [
    "bigrams = [bigram_phraser[doc] for doc in texts] # form bigrams"
   ]
  },
  {
   "cell_type": "markdown",
   "metadata": {},
   "source": [
    "Lemmatize the words of the text, while only including nouns and verbs."
   ]
  },
  {
   "cell_type": "code",
   "execution_count": 28,
   "metadata": {},
   "outputs": [],
   "source": [
    "def lemmatization(texts, allowed_postags=['NOUN', 'VERB']): # helper fuction\n",
    "    texts_out = []\n",
    "    for sent in texts:\n",
    "        doc = nlp(\" \".join(sent)) # spacy function\n",
    "        texts_out.append([token.lemma_ for token in doc]) #if token.pos_ in allowed_postags]) # This gets rid of many things\n",
    "    return(texts_out)"
   ]
  },
  {
   "cell_type": "code",
   "execution_count": 29,
   "metadata": {},
   "outputs": [],
   "source": [
    "texts = lemmatization(bigrams)"
   ]
  },
  {
   "cell_type": "code",
   "execution_count": 30,
   "metadata": {},
   "outputs": [
    {
     "data": {
      "text/plain": [
       "['markov_state', 'approach', 'fold', 'bind', 'design']"
      ]
     },
     "execution_count": 30,
     "metadata": {},
     "output_type": "execute_result"
    }
   ],
   "source": [
    "with open(\"lemma_stopwords.txt\") as f: # words loaded from local .txt file\n",
    "    remove_words = [line.strip() for line in f if line.strip()]\n",
    "    remove_words = []\n",
    "\n",
    "for i in range(len(texts)):\n",
    "    for remove_word in remove_words:\n",
    "        if remove_word in texts[i]:\n",
    "            texts[i] = list(filter(lambda a: a != remove_word, texts[i]))\n",
    "            #print(remove_word) \n",
    "    \n",
    "texts[1][0:5]"
   ]
  },
  {
   "cell_type": "markdown",
   "metadata": {},
   "source": [
    "***\n",
    "###### Latent Dirichlet Allocation"
   ]
  },
  {
   "cell_type": "markdown",
   "metadata": {},
   "source": [
    "Build a dictionary and corpus for use with LDA."
   ]
  },
  {
   "cell_type": "code",
   "execution_count": 31,
   "metadata": {},
   "outputs": [],
   "source": [
    "dictionary = gensim.corpora.Dictionary(texts)"
   ]
  },
  {
   "cell_type": "code",
   "execution_count": 32,
   "metadata": {},
   "outputs": [],
   "source": [
    "corpus = [dictionary.doc2bow(text) for text in texts]"
   ]
  },
  {
   "cell_type": "markdown",
   "metadata": {},
   "source": [
    "CONVERT THE NEXT CELL TO CODE TO RUN THE OPTIMIZATION ALGORITHM.  This may take hours, depending on your machine."
   ]
  },
  {
   "cell_type": "markdown",
   "metadata": {
    "collapsed": true
   },
   "source": [
    "for t in [3, 4, 5, 6]:\n",
    "    for i in [0.05, 0.1, 0.5, 1, 5]:\n",
    "            for j in [0.05, 0.1, 0.5, 1, 5]:\n",
    "                lda_model = gensim.models.LdaModel(corpus=corpus,\n",
    "                                            num_topics=t,\n",
    "                                            id2word=dictionary,\n",
    "                                            random_state=100,\n",
    "                                            update_every=1,\n",
    "                                            chunksize=20,\n",
    "                                            passes=10,\n",
    "                                            alpha=i,\n",
    "                                            eta=j,\n",
    "                                            iterations=1000,\n",
    "                                            per_word_topics=True)\n",
    "                print(\"N: \" + str(t) + \" ... Alpha: \" + str(i) + \" ... Beta: \" + str(j))\n",
    "                print(\" -> Perplexity = \", lda_model.log_perplexity(corpus))\n",
    "                coherence_model_lda = gensim.models.CoherenceModel(model=lda_model, texts=texts, dictionary=dictionary, coherence='c_v')\n",
    "                coherence_lda = coherence_model_lda.get_coherence()\n",
    "                print(\" -> Coherence Score = \", coherence_lda)\n",
    "                print()"
   ]
  },
  {
   "cell_type": "markdown",
   "metadata": {},
   "source": [
    "We see that the \"best\" model according to perplexity is N = 3, Alpha = 0.05, and Beta = 0.05.  However, we desire at least 4 topics, and thus we choose the model with N = 4, Alpha = 0.05, and Beta = 0.05."
   ]
  },
  {
   "cell_type": "markdown",
   "metadata": {},
   "source": [
    "Build the LDA model."
   ]
  },
  {
   "cell_type": "code",
   "execution_count": 33,
   "metadata": {},
   "outputs": [],
   "source": [
    "lda_model = gensim.models.LdaModel(corpus=corpus,\n",
    "                                    num_topics=4,\n",
    "                                    id2word=dictionary,\n",
    "                                    random_state=100,\n",
    "                                    update_every=1,\n",
    "                                    chunksize=20,\n",
    "                                    passes=10,\n",
    "                                    alpha=0.05,\n",
    "                                    eta=0.05,\n",
    "                                    iterations=1000,\n",
    "                                    per_word_topics=True)"
   ]
  },
  {
   "cell_type": "markdown",
   "metadata": {},
   "source": [
    "Print perplexity and coherence score."
   ]
  },
  {
   "cell_type": "code",
   "execution_count": 34,
   "metadata": {},
   "outputs": [
    {
     "name": "stdout",
     "output_type": "stream",
     "text": [
      "Perplexity = -14.101436330466546\n",
      "Coherence Score = 0.39928925968725404\n"
     ]
    }
   ],
   "source": [
    "print(\"Perplexity =\", lda_model.log_perplexity(corpus))\n",
    "\n",
    "coherence_model_lda = gensim.models.CoherenceModel(model=lda_model, texts=texts, dictionary=dictionary, coherence='c_v')\n",
    "coherence_lda = coherence_model_lda.get_coherence()\n",
    "print(\"Coherence Score =\", coherence_lda)"
   ]
  },
  {
   "cell_type": "markdown",
   "metadata": {},
   "source": [
    "Print top 10 words for each topic."
   ]
  },
  {
   "cell_type": "code",
   "execution_count": 35,
   "metadata": {},
   "outputs": [],
   "source": [
    "p_models = lda_model.show_topics(num_words=10, formatted=False)"
   ]
  },
  {
   "cell_type": "code",
   "execution_count": 36,
   "metadata": {
    "scrolled": true
   },
   "outputs": [
    {
     "name": "stdout",
     "output_type": "stream",
     "text": [
      "[(0,\n",
      "  [('disease', 0.04960071),\n",
      "   ('patient', 0.028840242),\n",
      "   ('population', 0.027339885),\n",
      "   ('health', 0.027121972),\n",
      "   ('study', 0.022957904),\n",
      "   ('predictive', 0.019929267),\n",
      "   ('outcome', 0.018016132),\n",
      "   ('treatment', 0.017427385),\n",
      "   ('transmission', 0.016838435),\n",
      "   ('infection', 0.01664983)]),\n",
      " (1,\n",
      "  [('cell', 0.037677407),\n",
      "   ('network', 0.01980725),\n",
      "   ('disease', 0.019211678),\n",
      "   ('gene', 0.016817957),\n",
      "   ('study', 0.0165815),\n",
      "   ('sequence', 0.015881496),\n",
      "   ('human', 0.014353269),\n",
      "   ('microbiome', 0.011943415),\n",
      "   ('biological', 0.009983526),\n",
      "   ('analysis', 0.009856406)]),\n",
      " (2,\n",
      "  [('datum', 0.04914551),\n",
      "   ('tool', 0.02230473),\n",
      "   ('analysis', 0.018903948),\n",
      "   ('software', 0.014632522),\n",
      "   ('project', 0.013908196),\n",
      "   ('data', 0.011706139),\n",
      "   ('clinical', 0.011431328),\n",
      "   ('biomedical', 0.011242711),\n",
      "   ('improve', 0.009495707),\n",
      "   ('system', 0.00942379)]),\n",
      " (3,\n",
      "  [('protein', 0.029778015),\n",
      "   ('structure', 0.014159313),\n",
      "   ('interaction', 0.0120006045),\n",
      "   ('dynamic', 0.011604793),\n",
      "   ('drug', 0.011233369),\n",
      "   ('bind', 0.009956021),\n",
      "   ('molecular', 0.0098042255),\n",
      "   ('simulation', 0.009796691),\n",
      "   ('design', 0.009278357),\n",
      "   ('target', 0.008851177)])]\n"
     ]
    }
   ],
   "source": [
    "pprint(p_models)"
   ]
  },
  {
   "cell_type": "markdown",
   "metadata": {},
   "source": [
    "***\n",
    "###### Analysis"
   ]
  },
  {
   "cell_type": "markdown",
   "metadata": {},
   "source": [
    "Add a column to the database that specifies the topic most likely to be associated to that row's document."
   ]
  },
  {
   "cell_type": "code",
   "execution_count": 37,
   "metadata": {},
   "outputs": [],
   "source": [
    "probable_topics = []\n",
    "\n",
    "for index, row in db.iterrows():\n",
    "    bow = dictionary.doc2bow(row['text'])\n",
    "    t = lda_model.get_document_topics(bow)\n",
    "    \n",
    "    probs = [tple for tple in t]\n",
    "    max_tple = max(probs, key=lambda x:x[1])\n",
    "    probable_topics.append(max_tple[0])\n",
    "\n",
    "db['topic'] = probable_topics"
   ]
  },
  {
   "cell_type": "code",
   "execution_count": 38,
   "metadata": {
    "scrolled": true
   },
   "outputs": [
    {
     "data": {
      "text/html": [
       "<div>\n",
       "<style scoped>\n",
       "    .dataframe tbody tr th:only-of-type {\n",
       "        vertical-align: middle;\n",
       "    }\n",
       "\n",
       "    .dataframe tbody tr th {\n",
       "        vertical-align: top;\n",
       "    }\n",
       "\n",
       "    .dataframe thead th {\n",
       "        text-align: right;\n",
       "    }\n",
       "</style>\n",
       "<table border=\"1\" class=\"dataframe\">\n",
       "  <thead>\n",
       "    <tr style=\"text-align: right;\">\n",
       "      <th></th>\n",
       "      <th>AID</th>\n",
       "      <th>PAC</th>\n",
       "      <th>PO</th>\n",
       "      <th>text</th>\n",
       "      <th>topic</th>\n",
       "    </tr>\n",
       "  </thead>\n",
       "  <tbody>\n",
       "    <tr>\n",
       "      <th>33</th>\n",
       "      <td>9476252</td>\n",
       "      <td>B160</td>\n",
       "      <td>PB</td>\n",
       "      <td>[drug, effect, discovery, data, mining, integr...</td>\n",
       "      <td>3</td>\n",
       "    </tr>\n",
       "    <tr>\n",
       "      <th>47</th>\n",
       "      <td>9470885</td>\n",
       "      <td>B301</td>\n",
       "      <td>LP</td>\n",
       "      <td>[markov, state, approaches, folding, binding, ...</td>\n",
       "      <td>3</td>\n",
       "    </tr>\n",
       "    <tr>\n",
       "      <th>67</th>\n",
       "      <td>9499981</td>\n",
       "      <td>B160</td>\n",
       "      <td>VR</td>\n",
       "      <td>[risk, lyme, disease, built, environments, nor...</td>\n",
       "      <td>2</td>\n",
       "    </tr>\n",
       "    <tr>\n",
       "      <th>109</th>\n",
       "      <td>9500587</td>\n",
       "      <td>B120</td>\n",
       "      <td>VR</td>\n",
       "      <td>[computational, techniques, correlating, micro...</td>\n",
       "      <td>1</td>\n",
       "    </tr>\n",
       "    <tr>\n",
       "      <th>111</th>\n",
       "      <td>9536067</td>\n",
       "      <td>B210</td>\n",
       "      <td>HR</td>\n",
       "      <td>[training, training, abstract, mmbios, continu...</td>\n",
       "      <td>2</td>\n",
       "    </tr>\n",
       "  </tbody>\n",
       "</table>\n",
       "</div>"
      ],
      "text/plain": [
       "         AID   PAC  PO                                               text  \\\n",
       "33   9476252  B160  PB  [drug, effect, discovery, data, mining, integr...   \n",
       "47   9470885  B301  LP  [markov, state, approaches, folding, binding, ...   \n",
       "67   9499981  B160  VR  [risk, lyme, disease, built, environments, nor...   \n",
       "109  9500587  B120  VR  [computational, techniques, correlating, micro...   \n",
       "111  9536067  B210  HR  [training, training, abstract, mmbios, continu...   \n",
       "\n",
       "     topic  \n",
       "33       3  \n",
       "47       3  \n",
       "67       2  \n",
       "109      1  \n",
       "111      2  "
      ]
     },
     "execution_count": 38,
     "metadata": {},
     "output_type": "execute_result"
    }
   ],
   "source": [
    "db.head()"
   ]
  },
  {
   "cell_type": "markdown",
   "metadata": {},
   "source": [
    "POs on x-axis, # of grants on y-axis. Stacked bar graph."
   ]
  },
  {
   "cell_type": "code",
   "execution_count": 39,
   "metadata": {},
   "outputs": [
    {
     "name": "stdout",
     "output_type": "stream",
     "text": [
      "PB: 208\n",
      "LP: 332\n",
      "VR: 432\n",
      "HR: 281\n"
     ]
    }
   ],
   "source": [
    "po_dict = collections.defaultdict(list)\n",
    "\n",
    "for index, row in db.iterrows():\n",
    "    po = row['PO']\n",
    "    topic = row['topic']\n",
    "    po_dict[po].append(topic)\n",
    "\n",
    "for key, value in po_dict.items():\n",
    "    print(key + \": \" + str(len(value)))"
   ]
  },
  {
   "cell_type": "markdown",
   "metadata": {},
   "source": [
    "Sum up topic counts for each PO."
   ]
  },
  {
   "cell_type": "code",
   "execution_count": 40,
   "metadata": {},
   "outputs": [],
   "source": [
    "data_dict = collections.defaultdict(list)\n",
    "\n",
    "for key, value in po_dict.items():\n",
    "    c = collections.Counter(po_dict[key])\n",
    "    \n",
    "    for i in range(NUM_TOPICS):\n",
    "        data_dict[key].append(c[i])"
   ]
  },
  {
   "cell_type": "code",
   "execution_count": 41,
   "metadata": {},
   "outputs": [],
   "source": [
    "PO = []\n",
    "t = []\n",
    "n = []\n",
    "\n",
    "for key, value in data_dict.items():\n",
    "    for i in range(NUM_TOPICS):\n",
    "        PO.append(key)\n",
    "        t.append(i)\n",
    "        n.append(value[i])"
   ]
  },
  {
   "cell_type": "code",
   "execution_count": 42,
   "metadata": {},
   "outputs": [],
   "source": [
    "data = [PO, t, n]\n",
    "PO_header = list(set(PO))"
   ]
  },
  {
   "cell_type": "code",
   "execution_count": 43,
   "metadata": {},
   "outputs": [
    {
     "data": {
      "text/plain": [
       "Program Directors    object\n",
       "Topic                object\n",
       "#                    object\n",
       "dtype: object"
      ]
     },
     "execution_count": 43,
     "metadata": {},
     "output_type": "execute_result"
    }
   ],
   "source": [
    "rows = np.array(data).T.tolist()\n",
    "headers = ['Program Directors', 'Topic', '#']\n",
    "df = pandas.DataFrame(rows, columns = headers)\n",
    "\n",
    "df.head()\n",
    "df.dtypes"
   ]
  },
  {
   "cell_type": "code",
   "execution_count": 44,
   "metadata": {
    "scrolled": false
   },
   "outputs": [
    {
     "data": {
      "text/plain": [
       "<matplotlib.axes._subplots.AxesSubplot at 0x1bab5792ec8>"
      ]
     },
     "execution_count": 44,
     "metadata": {},
     "output_type": "execute_result"
    },
    {
     "data": {
      "image/png": "[encoded data removed]",
      "text/plain": [
       "<Figure size 720x504 with 1 Axes>"
      ]
     },
     "metadata": {
      "needs_background": "light"
     },
     "output_type": "display_data"
    }
   ],
   "source": [
    "pivot_df = df.pivot(index='Program Directors', columns='Topic', values='#')\n",
    "\n",
    "for i in range(4):\n",
    "    pivot_df.iloc[:, i] = pandas.to_numeric(pivot_df.iloc[:, i])\n",
    "\n",
    "pivot_df.plot.bar(stacked=True, figsize=(10,7))"
   ]
  },
  {
   "cell_type": "markdown",
   "metadata": {},
   "source": [
    "***\n",
    "###### Topic Visualizations"
   ]
  },
  {
   "cell_type": "markdown",
   "metadata": {},
   "source": [
    "t-sne"
   ]
  },
  {
   "cell_type": "code",
   "execution_count": 45,
   "metadata": {},
   "outputs": [
    {
     "name": "stdout",
     "output_type": "stream",
     "text": [
      "1253\n"
     ]
    }
   ],
   "source": [
    "# filtering by po\n",
    "po_dict = {\"HR\": 0, \"LP\": 1, \"PB\": 2, \"VR\": 3}\n",
    "\n",
    "po_num = []\n",
    "for index, row in db.iterrows():\n",
    "    po_num.append(po_dict[row['PO']])\n",
    "\n",
    "print(len(po_num))"
   ]
  },
  {
   "cell_type": "code",
   "execution_count": 46,
   "metadata": {},
   "outputs": [
    {
     "name": "stdout",
     "output_type": "stream",
     "text": [
      "1253\n"
     ]
    }
   ],
   "source": [
    "# filtering by topics\n",
    "topic_weights = []\n",
    "for i, row_list in enumerate(lda_model[corpus]):\n",
    "    topic_weights.append([w for i, w in row_list[0]])\n",
    "arr = pandas.DataFrame(topic_weights).fillna(0).values\n",
    "arr = arr[np.amax(arr, axis=1) > 0] # adjust threshold\n",
    "topic_num = np.argmax(arr, axis=1)\n",
    "\n",
    "print(len(topic_num))"
   ]
  },
  {
   "cell_type": "code",
   "execution_count": 47,
   "metadata": {
    "scrolled": false
   },
   "outputs": [
    {
     "name": "stdout",
     "output_type": "stream",
     "text": [
      "[t-SNE] Computing 91 nearest neighbors...\n",
      "[t-SNE] Indexed 1253 samples in 0.001s...\n",
      "[t-SNE] Computed neighbors for 1253 samples in 0.021s...\n",
      "[t-SNE] Computed conditional probabilities for sample 1000 / 1253\n",
      "[t-SNE] Computed conditional probabilities for sample 1253 / 1253\n",
      "[t-SNE] Mean sigma: 0.064880\n",
      "[t-SNE] KL divergence after 250 iterations with early exaggeration: 60.378601\n",
      "[t-SNE] KL divergence after 1000 iterations: 0.566434\n"
     ]
    },
    {
     "data": {
      "text/html": [
       "\n",
       "    <div class=\"bk-root\">\n",
       "        <a href=\"https://bokeh.org\" target=\"_blank\" class=\"bk-logo bk-logo-small bk-logo-notebook\"></a>\n",
       "        <span id=\"1001\">Loading BokehJS ...</span>\n",
       "    </div>"
      ]
     },
     "metadata": {},
     "output_type": "display_data"
    },
    {
     "data": {
      "application/javascript": [
       "\n",
       "(function(root) {\n",
       "  function now() {\n",
       "    return new Date();\n",
       "  }\n",
       "\n",
       "  var force = true;\n",
       "\n",
       "  if (typeof root._bokeh_onload_callbacks === \"undefined\" || force === true) {\n",
       "    root._bokeh_onload_callbacks = [];\n",
       "    root._bokeh_is_loading = undefined;\n",
       "  }\n",
       "\n",
       "  var JS_MIME_TYPE = 'application/javascript';\n",
       "  var HTML_MIME_TYPE = 'text/html';\n",
       "  var EXEC_MIME_TYPE = 'application/vnd.bokehjs_exec.v0+json';\n",
       "  var CLASS_NAME = 'output_bokeh rendered_html';\n",
       "\n",
       "  /**\n",
       "   * Render data to the DOM node\n",
       "   */\n",
       "  function render(props, node) {\n",
       "    var script = document.createElement(\"script\");\n",
       "    node.appendChild(script);\n",
       "  }\n",
       "\n",
       "  /**\n",
       "   * Handle when an output is cleared or removed\n",
       "   */\n",
       "  function handleClearOutput(event, handle) {\n",
       "    var cell = handle.cell;\n",
       "\n",
       "    var id = cell.output_area._bokeh_element_id;\n",
       "    var server_id = cell.output_area._bokeh_server_id;\n",
       "    // Clean up Bokeh references\n",
       "    if (id != null && id in Bokeh.index) {\n",
       "      Bokeh.index[id].model.document.clear();\n",
       "      delete Bokeh.index[id];\n",
       "    }\n",
       "\n",
       "    if (server_id !== undefined) {\n",
       "      // Clean up Bokeh references\n",
       "      var cmd = \"from bokeh.io.state import curstate; print(curstate().uuid_to_server['\" + server_id + \"'].get_sessions()[0].document.roots[0]._id)\";\n",
       "      cell.notebook.kernel.execute(cmd, {\n",
       "        iopub: {\n",
       "          output: function(msg) {\n",
       "            var id = msg.content.text.trim();\n",
       "            if (id in Bokeh.index) {\n",
       "              Bokeh.index[id].model.document.clear();\n",
       "              delete Bokeh.index[id];\n",
       "            }\n",
       "          }\n",
       "        }\n",
       "      });\n",
       "      // Destroy server and session\n",
       "      var cmd = \"import bokeh.io.notebook as ion; ion.destroy_server('\" + server_id + \"')\";\n",
       "      cell.notebook.kernel.execute(cmd);\n",
       "    }\n",
       "  }\n",
       "\n",
       "  /**\n",
       "   * Handle when a new output is added\n",
       "   */\n",
       "  function handleAddOutput(event, handle) {\n",
       "    var output_area = handle.output_area;\n",
       "    var output = handle.output;\n",
       "\n",
       "    // limit handleAddOutput to display_data with EXEC_MIME_TYPE content only\n",
       "    if ((output.output_type != \"display_data\") || (!output.data.hasOwnProperty(EXEC_MIME_TYPE))) {\n",
       "      return\n",
       "    }\n",
       "\n",
       "    var toinsert = output_area.element.find(\".\" + CLASS_NAME.split(' ')[0]);\n",
       "\n",
       "    if (output.metadata[EXEC_MIME_TYPE][\"id\"] !== undefined) {\n",
       "      toinsert[toinsert.length - 1].firstChild.textContent = output.data[JS_MIME_TYPE];\n",
       "      // store reference to embed id on output_area\n",
       "      output_area._bokeh_element_id = output.metadata[EXEC_MIME_TYPE][\"id\"];\n",
       "    }\n",
       "    if (output.metadata[EXEC_MIME_TYPE][\"server_id\"] !== undefined) {\n",
       "      var bk_div = document.createElement(\"div\");\n",
       "      bk_div.innerHTML = output.data[HTML_MIME_TYPE];\n",
       "      var script_attrs = bk_div.children[0].attributes;\n",
       "      for (var i = 0; i < script_attrs.length; i++) {\n",
       "        toinsert[toinsert.length - 1].firstChild.setAttribute(script_attrs[i].name, script_attrs[i].value);\n",
       "        toinsert[toinsert.length - 1].firstChild.textContent = bk_div.children[0].textContent\n",
       "      }\n",
       "      // store reference to server id on output_area\n",
       "      output_area._bokeh_server_id = output.metadata[EXEC_MIME_TYPE][\"server_id\"];\n",
       "    }\n",
       "  }\n",
       "\n",
       "  function register_renderer(events, OutputArea) {\n",
       "\n",
       "    function append_mime(data, metadata, element) {\n",
       "      // create a DOM node to render to\n",
       "      var toinsert = this.create_output_subarea(\n",
       "        metadata,\n",
       "        CLASS_NAME,\n",
       "        EXEC_MIME_TYPE\n",
       "      );\n",
       "      this.keyboard_manager.register_events(toinsert);\n",
       "      // Render to node\n",
       "      var props = {data: data, metadata: metadata[EXEC_MIME_TYPE]};\n",
       "      render(props, toinsert[toinsert.length - 1]);\n",
       "      element.append(toinsert);\n",
       "      return toinsert\n",
       "    }\n",
       "\n",
       "    /* Handle when an output is cleared or removed */\n",
       "    events.on('clear_output.CodeCell', handleClearOutput);\n",
       "    events.on('delete.Cell', handleClearOutput);\n",
       "\n",
       "    /* Handle when a new output is added */\n",
       "    events.on('output_added.OutputArea', handleAddOutput);\n",
       "\n",
       "    /**\n",
       "     * Register the mime type and append_mime function with output_area\n",
       "     */\n",
       "    OutputArea.prototype.register_mime_type(EXEC_MIME_TYPE, append_mime, {\n",
       "      /* Is output safe? */\n",
       "      safe: true,\n",
       "      /* Index of renderer in `output_area.display_order` */\n",
       "      index: 0\n",
       "    });\n",
       "  }\n",
       "\n",
       "  // register the mime type if in Jupyter Notebook environment and previously unregistered\n",
       "  if (root.Jupyter !== undefined) {\n",
       "    var events = require('base/js/events');\n",
       "    var OutputArea = require('notebook/js/outputarea').OutputArea;\n",
       "\n",
       "    if (OutputArea.prototype.mime_types().indexOf(EXEC_MIME_TYPE) == -1) {\n",
       "      register_renderer(events, OutputArea);\n",
       "    }\n",
       "  }\n",
       "\n",
       "  \n",
       "  if (typeof (root._bokeh_timeout) === \"undefined\" || force === true) {\n",
       "    root._bokeh_timeout = Date.now() + 5000;\n",
       "    root._bokeh_failed_load = false;\n",
       "  }\n",
       "\n",
       "  var NB_LOAD_WARNING = {'data': {'text/html':\n",
       "     \"<div style='background-color: #fdd'>\\n\"+\n",
       "     \"<p>\\n\"+\n",
       "     \"BokehJS does not appear to have successfully loaded. If loading BokehJS from CDN, this \\n\"+\n",
       "     \"may be due to a slow or bad network connection. Possible fixes:\\n\"+\n",
       "     \"</p>\\n\"+\n",
       "     \"<ul>\\n\"+\n",
       "     \"<li>re-rerun `output_notebook()` to attempt to load from CDN again, or</li>\\n\"+\n",
       "     \"<li>use INLINE resources instead, as so:</li>\\n\"+\n",
       "     \"</ul>\\n\"+\n",
       "     \"<code>\\n\"+\n",
       "     \"from bokeh.resources import INLINE\\n\"+\n",
       "     \"output_notebook(resources=INLINE)\\n\"+\n",
       "     \"</code>\\n\"+\n",
       "     \"</div>\"}};\n",
       "\n",
       "  function display_loaded() {\n",
       "    var el = document.getElementById(\"1001\");\n",
       "    if (el != null) {\n",
       "      el.textContent = \"BokehJS is loading...\";\n",
       "    }\n",
       "    if (root.Bokeh !== undefined) {\n",
       "      if (el != null) {\n",
       "        el.textContent = \"BokehJS \" + root.Bokeh.version + \" successfully loaded.\";\n",
       "      }\n",
       "    } else if (Date.now() < root._bokeh_timeout) {\n",
       "      setTimeout(display_loaded, 100)\n",
       "    }\n",
       "  }\n",
       "\n",
       "\n",
       "  function run_callbacks() {\n",
       "    try {\n",
       "      root._bokeh_onload_callbacks.forEach(function(callback) {\n",
       "        if (callback != null)\n",
       "          callback();\n",
       "      });\n",
       "    } finally {\n",
       "      delete root._bokeh_onload_callbacks\n",
       "    }\n",
       "    console.debug(\"Bokeh: all callbacks have finished\");\n",
       "  }\n",
       "\n",
       "  function load_libs(css_urls, js_urls, callback) {\n",
       "    if (css_urls == null) css_urls = [];\n",
       "    if (js_urls == null) js_urls = [];\n",
       "\n",
       "    root._bokeh_onload_callbacks.push(callback);\n",
       "    if (root._bokeh_is_loading > 0) {\n",
       "      console.debug(\"Bokeh: BokehJS is being loaded, scheduling callback at\", now());\n",
       "      return null;\n",
       "    }\n",
       "    if (js_urls == null || js_urls.length === 0) {\n",
       "      run_callbacks();\n",
       "      return null;\n",
       "    }\n",
       "    console.debug(\"Bokeh: BokehJS not loaded, scheduling load and callback at\", now());\n",
       "    root._bokeh_is_loading = css_urls.length + js_urls.length;\n",
       "\n",
       "    function on_load() {\n",
       "      root._bokeh_is_loading--;\n",
       "      if (root._bokeh_is_loading === 0) {\n",
       "        console.debug(\"Bokeh: all BokehJS libraries/stylesheets loaded\");\n",
       "        run_callbacks()\n",
       "      }\n",
       "    }\n",
       "\n",
       "    function on_error() {\n",
       "      console.error(\"failed to load \" + url);\n",
       "    }\n",
       "\n",
       "    for (var i = 0; i < css_urls.length; i++) {\n",
       "      var url = css_urls[i];\n",
       "      const element = document.createElement(\"link\");\n",
       "      element.onload = on_load;\n",
       "      element.onerror = on_error;\n",
       "      element.rel = \"stylesheet\";\n",
       "      element.type = \"text/css\";\n",
       "      element.href = url;\n",
       "      console.debug(\"Bokeh: injecting link tag for BokehJS stylesheet: \", url);\n",
       "      document.body.appendChild(element);\n",
       "    }\n",
       "\n",
       "    const hashes = {\"https://cdn.bokeh.org/bokeh/release/bokeh-2.0.2.min.js\": \"ufR9RFnRs6lniiaFvtJziE0YeidtAgBRH6ux2oUItHw5WTvE1zuk9uzhUU/FJXDp\", \"https://cdn.bokeh.org/bokeh/release/bokeh-widgets-2.0.2.min.js\": \"8QM/PGWBT+IssZuRcDcjzwIh1mkOmJSoNMmyYDZbCfXJg3Ap1lEvdVgFuSAwhb/J\", \"https://cdn.bokeh.org/bokeh/release/bokeh-tables-2.0.2.min.js\": \"Jm8cH3Rg0P6UeZhVY5cLy1WzKajUT9KImCY+76hEqrcJt59/d8GPvFHjCkYgnSIn\", \"https://cdn.bokeh.org/bokeh/release/bokeh-gl-2.0.2.min.js\": \"Ozhzj+SI7ywm74aOI/UajcWz+C0NjsPunEVyVIrxzYkB+jA+2tUw8x5xJCbVtK5I\"};\n",
       "\n",
       "    for (var i = 0; i < js_urls.length; i++) {\n",
       "      var url = js_urls[i];\n",
       "      var element = document.createElement('script');\n",
       "      element.onload = on_load;\n",
       "      element.onerror = on_error;\n",
       "      element.async = false;\n",
       "      element.src = url;\n",
       "      if (url in hashes) {\n",
       "        element.crossOrigin = \"anonymous\";\n",
       "        element.integrity = \"sha384-\" + hashes[url];\n",
       "      }\n",
       "      console.debug(\"Bokeh: injecting script tag for BokehJS library: \", url);\n",
       "      document.head.appendChild(element);\n",
       "    }\n",
       "  };\n",
       "\n",
       "  function inject_raw_css(css) {\n",
       "    const element = document.createElement(\"style\");\n",
       "    element.appendChild(document.createTextNode(css));\n",
       "    document.body.appendChild(element);\n",
       "  }\n",
       "\n",
       "  \n",
       "  var js_urls = [\"https://cdn.bokeh.org/bokeh/release/bokeh-2.0.2.min.js\", \"https://cdn.bokeh.org/bokeh/release/bokeh-widgets-2.0.2.min.js\", \"https://cdn.bokeh.org/bokeh/release/bokeh-tables-2.0.2.min.js\", \"https://cdn.bokeh.org/bokeh/release/bokeh-gl-2.0.2.min.js\"];\n",
       "  var css_urls = [];\n",
       "  \n",
       "\n",
       "  var inline_js = [\n",
       "    function(Bokeh) {\n",
       "      Bokeh.set_log_level(\"info\");\n",
       "    },\n",
       "    function(Bokeh) {\n",
       "    \n",
       "    \n",
       "    }\n",
       "  ];\n",
       "\n",
       "  function run_inline_js() {\n",
       "    \n",
       "    if (root.Bokeh !== undefined || force === true) {\n",
       "      \n",
       "    for (var i = 0; i < inline_js.length; i++) {\n",
       "      inline_js[i].call(root, root.Bokeh);\n",
       "    }\n",
       "    if (force === true) {\n",
       "        display_loaded();\n",
       "      }} else if (Date.now() < root._bokeh_timeout) {\n",
       "      setTimeout(run_inline_js, 100);\n",
       "    } else if (!root._bokeh_failed_load) {\n",
       "      console.log(\"Bokeh: BokehJS failed to load within specified timeout.\");\n",
       "      root._bokeh_failed_load = true;\n",
       "    } else if (force !== true) {\n",
       "      var cell = $(document.getElementById(\"1001\")).parents('.cell').data().cell;\n",
       "      cell.output_area.append_execute_result(NB_LOAD_WARNING)\n",
       "    }\n",
       "\n",
       "  }\n",
       "\n",
       "  if (root._bokeh_is_loading === 0) {\n",
       "    console.debug(\"Bokeh: BokehJS loaded, going straight to plotting\");\n",
       "    run_inline_js();\n",
       "  } else {\n",
       "    load_libs(css_urls, js_urls, function() {\n",
       "      console.debug(\"Bokeh: BokehJS plotting callback run at\", now());\n",
       "      run_inline_js();\n",
       "    });\n",
       "  }\n",
       "}(window));"
      ],
      "application/vnd.bokehjs_load.v0+json": "\n(function(root) {\n  function now() {\n    return new Date();\n  }\n\n  var force = true;\n\n  if (typeof root._bokeh_onload_callbacks === \"undefined\" || force === true) {\n    root._bokeh_onload_callbacks = [];\n    root._bokeh_is_loading = undefined;\n  }\n\n  \n\n  \n  if (typeof (root._bokeh_timeout) === \"undefined\" || force === true) {\n    root._bokeh_timeout = Date.now() + 5000;\n    root._bokeh_failed_load = false;\n  }\n\n  var NB_LOAD_WARNING = {'data': {'text/html':\n     \"<div style='background-color: #fdd'>\\n\"+\n     \"<p>\\n\"+\n     \"BokehJS does not appear to have successfully loaded. If loading BokehJS from CDN, this \\n\"+\n     \"may be due to a slow or bad network connection. Possible fixes:\\n\"+\n     \"</p>\\n\"+\n     \"<ul>\\n\"+\n     \"<li>re-rerun `output_notebook()` to attempt to load from CDN again, or</li>\\n\"+\n     \"<li>use INLINE resources instead, as so:</li>\\n\"+\n     \"</ul>\\n\"+\n     \"<code>\\n\"+\n     \"from bokeh.resources import INLINE\\n\"+\n     \"output_notebook(resources=INLINE)\\n\"+\n     \"</code>\\n\"+\n     \"</div>\"}};\n\n  function display_loaded() {\n    var el = document.getElementById(\"1001\");\n    if (el != null) {\n      el.textContent = \"BokehJS is loading...\";\n    }\n    if (root.Bokeh !== undefined) {\n      if (el != null) {\n        el.textContent = \"BokehJS \" + root.Bokeh.version + \" successfully loaded.\";\n      }\n    } else if (Date.now() < root._bokeh_timeout) {\n      setTimeout(display_loaded, 100)\n    }\n  }\n\n\n  function run_callbacks() {\n    try {\n      root._bokeh_onload_callbacks.forEach(function(callback) {\n        if (callback != null)\n          callback();\n      });\n    } finally {\n      delete root._bokeh_onload_callbacks\n    }\n    console.debug(\"Bokeh: all callbacks have finished\");\n  }\n\n  function load_libs(css_urls, js_urls, callback) {\n    if (css_urls == null) css_urls = [];\n    if (js_urls == null) js_urls = [];\n\n    root._bokeh_onload_callbacks.push(callback);\n    if (root._bokeh_is_loading > 0) {\n      console.debug(\"Bokeh: BokehJS is being loaded, scheduling callback at\", now());\n      return null;\n    }\n    if (js_urls == null || js_urls.length === 0) {\n      run_callbacks();\n      return null;\n    }\n    console.debug(\"Bokeh: BokehJS not loaded, scheduling load and callback at\", now());\n    root._bokeh_is_loading = css_urls.length + js_urls.length;\n\n    function on_load() {\n      root._bokeh_is_loading--;\n      if (root._bokeh_is_loading === 0) {\n        console.debug(\"Bokeh: all BokehJS libraries/stylesheets loaded\");\n        run_callbacks()\n      }\n    }\n\n    function on_error() {\n      console.error(\"failed to load \" + url);\n    }\n\n    for (var i = 0; i < css_urls.length; i++) {\n      var url = css_urls[i];\n      const element = document.createElement(\"link\");\n      element.onload = on_load;\n      element.onerror = on_error;\n      element.rel = \"stylesheet\";\n      element.type = \"text/css\";\n      element.href = url;\n      console.debug(\"Bokeh: injecting link tag for BokehJS stylesheet: \", url);\n      document.body.appendChild(element);\n    }\n\n    const hashes = {\"https://cdn.bokeh.org/bokeh/release/bokeh-2.0.2.min.js\": \"ufR9RFnRs6lniiaFvtJziE0YeidtAgBRH6ux2oUItHw5WTvE1zuk9uzhUU/FJXDp\", \"https://cdn.bokeh.org/bokeh/release/bokeh-widgets-2.0.2.min.js\": \"8QM/PGWBT+IssZuRcDcjzwIh1mkOmJSoNMmyYDZbCfXJg3Ap1lEvdVgFuSAwhb/J\", \"https://cdn.bokeh.org/bokeh/release/bokeh-tables-2.0.2.min.js\": \"Jm8cH3Rg0P6UeZhVY5cLy1WzKajUT9KImCY+76hEqrcJt59/d8GPvFHjCkYgnSIn\", \"https://cdn.bokeh.org/bokeh/release/bokeh-gl-2.0.2.min.js\": \"Ozhzj+SI7ywm74aOI/UajcWz+C0NjsPunEVyVIrxzYkB+jA+2tUw8x5xJCbVtK5I\"};\n\n    for (var i = 0; i < js_urls.length; i++) {\n      var url = js_urls[i];\n      var element = document.createElement('script');\n      element.onload = on_load;\n      element.onerror = on_error;\n      element.async = false;\n      element.src = url;\n      if (url in hashes) {\n        element.crossOrigin = \"anonymous\";\n        element.integrity = \"sha384-\" + hashes[url];\n      }\n      console.debug(\"Bokeh: injecting script tag for BokehJS library: \", url);\n      document.head.appendChild(element);\n    }\n  };\n\n  function inject_raw_css(css) {\n    const element = document.createElement(\"style\");\n    element.appendChild(document.createTextNode(css));\n    document.body.appendChild(element);\n  }\n\n  \n  var js_urls = [\"https://cdn.bokeh.org/bokeh/release/bokeh-2.0.2.min.js\", \"https://cdn.bokeh.org/bokeh/release/bokeh-widgets-2.0.2.min.js\", \"https://cdn.bokeh.org/bokeh/release/bokeh-tables-2.0.2.min.js\", \"https://cdn.bokeh.org/bokeh/release/bokeh-gl-2.0.2.min.js\"];\n  var css_urls = [];\n  \n\n  var inline_js = [\n    function(Bokeh) {\n      Bokeh.set_log_level(\"info\");\n    },\n    function(Bokeh) {\n    \n    \n    }\n  ];\n\n  function run_inline_js() {\n    \n    if (root.Bokeh !== undefined || force === true) {\n      \n    for (var i = 0; i < inline_js.length; i++) {\n      inline_js[i].call(root, root.Bokeh);\n    }\n    if (force === true) {\n        display_loaded();\n      }} else if (Date.now() < root._bokeh_timeout) {\n      setTimeout(run_inline_js, 100);\n    } else if (!root._bokeh_failed_load) {\n      console.log(\"Bokeh: BokehJS failed to load within specified timeout.\");\n      root._bokeh_failed_load = true;\n    } else if (force !== true) {\n      var cell = $(document.getElementById(\"1001\")).parents('.cell').data().cell;\n      cell.output_area.append_execute_result(NB_LOAD_WARNING)\n    }\n\n  }\n\n  if (root._bokeh_is_loading === 0) {\n    console.debug(\"Bokeh: BokehJS loaded, going straight to plotting\");\n    run_inline_js();\n  } else {\n    load_libs(css_urls, js_urls, function() {\n      console.debug(\"Bokeh: BokehJS plotting callback run at\", now());\n      run_inline_js();\n    });\n  }\n}(window));"
     },
     "metadata": {},
     "output_type": "display_data"
    }
   ],
   "source": [
    "# build graph\n",
    "from sklearn.manifold import TSNE\n",
    "from bokeh.plotting import figure, output_file, show\n",
    "from bokeh.models import Label\n",
    "from bokeh.io import output_notebook\n",
    "import numpy as np\n",
    "import matplotlib.colors as mcolors\n",
    "\n",
    "tsne_model = TSNE(n_components=2, verbose=1, random_state=0, angle=.99, init='pca')\n",
    "tsne_lda = tsne_model.fit_transform(arr)\n",
    "output_notebook()\n",
    "n_topics = NUM_TOPICS\n",
    "mycolors = np.array([color for name, color in mcolors.TABLEAU_COLORS.items()])"
   ]
  },
  {
   "cell_type": "code",
   "execution_count": 48,
   "metadata": {},
   "outputs": [
    {
     "data": {
      "text/html": [
       "\n",
       "\n",
       "\n",
       "\n",
       "\n",
       "\n",
       "  <div class=\"bk-root\" id=\"b42d030f-c2ff-4492-b811-dc5590402b9b\" data-root-id=\"1002\"></div>\n"
      ]
     },
     "metadata": {},
     "output_type": "display_data"
    },
    {
     "data": {
      "application/javascript": [
       "(function(root) {\n",
       "  function embed_document(root) {\n",
       "    \n",
       "  var docs_json = {\"07742776-0b1a-4a4b-a2c1-e018202088a6\":{\"roots\":{\"references\":[{\"attributes\":{\"below\":[{\"id\":\"1013\"}],\"center\":[{\"id\":\"1016\"},{\"id\":\"1020\"}],\"left\":[{\"id\":\"1017\"}],\"plot_height\":700,\"plot_width\":900,\"renderers\":[{\"id\":\"1038\"}],\"title\":{\"id\":\"1003\"},\"toolbar\":{\"id\":\"1028\"},\"x_range\":{\"id\":\"1005\"},\"x_scale\":{\"id\":\"1009\"},\"y_range\":{\"id\":\"1007\"},\"y_scale\":{\"id\":\"1011\"}},\"id\":\"1002\",\"subtype\":\"Figure\",\"type\":\"Plot\"},{\"attributes\":{\"bottom_units\":\"screen\",\"fill_alpha\":0.5,\"fill_color\":\"lightgrey\",\"left_units\":\"screen\",\"level\":\"overlay\",\"line_alpha\":1.0,\"line_color\":\"black\",\"line_dash\":[4,4],\"line_width\":2,\"render_mode\":\"css\",\"right_units\":\"screen\",\"top_units\":\"screen\"},\"id\":\"1027\",\"type\":\"BoxAnnotation\"},{\"attributes\":{\"data_source\":{\"id\":\"1035\"},\"glyph\":{\"id\":\"1036\"},\"hover_glyph\":null,\"muted_glyph\":null,\"nonselection_glyph\":{\"id\":\"1037\"},\"selection_glyph\":null,\"view\":{\"id\":\"1039\"}},\"id\":\"1038\",\"type\":\"GlyphRenderer\"},{\"attributes\":{},\"id\":\"1011\",\"type\":\"LinearScale\"},{\"attributes\":{},\"id\":\"1021\",\"type\":\"PanTool\"},{\"attributes\":{\"fill_alpha\":{\"value\":0.1},\"fill_color\":{\"field\":\"fill_color\"},\"line_alpha\":{\"value\":0.1},\"line_color\":{\"field\":\"line_color\"},\"x\":{\"field\":\"x\"},\"y\":{\"field\":\"y\"}},\"id\":\"1037\",\"type\":\"Scatter\"},{\"attributes\":{},\"id\":\"1022\",\"type\":\"WheelZoomTool\"},{\"attributes\":{\"overlay\":{\"id\":\"1027\"}},\"id\":\"1023\",\"type\":\"BoxZoomTool\"},{\"attributes\":{},\"id\":\"1024\",\"type\":\"SaveTool\"},{\"attributes\":{\"axis\":{\"id\":\"1017\"},\"dimension\":1,\"ticker\":null},\"id\":\"1020\",\"type\":\"Grid\"},{\"attributes\":{\"source\":{\"id\":\"1035\"}},\"id\":\"1039\",\"type\":\"CDSView\"},{\"attributes\":{},\"id\":\"1026\",\"type\":\"HelpTool\"},{\"attributes\":{\"fill_color\":{\"field\":\"fill_color\"},\"line_color\":{\"field\":\"line_color\"},\"x\":{\"field\":\"x\"},\"y\":{\"field\":\"y\"}},\"id\":\"1036\",\"type\":\"Scatter\"},{\"attributes\":{\"formatter\":{\"id\":\"1041\"},\"ticker\":{\"id\":\"1014\"}},\"id\":\"1013\",\"type\":\"LinearAxis\"},{\"attributes\":{},\"id\":\"1025\",\"type\":\"ResetTool\"},{\"attributes\":{},\"id\":\"1045\",\"type\":\"Selection\"},{\"attributes\":{},\"id\":\"1018\",\"type\":\"BasicTicker\"},{\"attributes\":{},\"id\":\"1046\",\"type\":\"UnionRenderers\"},{\"attributes\":{},\"id\":\"1009\",\"type\":\"LinearScale\"},{\"attributes\":{},\"id\":\"1041\",\"type\":\"BasicTickFormatter\"},{\"attributes\":{},\"id\":\"1043\",\"type\":\"BasicTickFormatter\"},{\"attributes\":{},\"id\":\"1014\",\"type\":\"BasicTicker\"},{\"attributes\":{\"formatter\":{\"id\":\"1043\"},\"ticker\":{\"id\":\"1018\"}},\"id\":\"1017\",\"type\":\"LinearAxis\"},{\"attributes\":{\"text\":\"t-SNE Clustering of LDA Topics\"},\"id\":\"1003\",\"type\":\"Title\"},{\"attributes\":{},\"id\":\"1005\",\"type\":\"DataRange1d\"},{\"attributes\":{\"active_drag\":\"auto\",\"active_inspect\":\"auto\",\"active_multi\":null,\"active_scroll\":\"auto\",\"active_tap\":\"auto\",\"tools\":[{\"id\":\"1021\"},{\"id\":\"1022\"},{\"id\":\"1023\"},{\"id\":\"1024\"},{\"id\":\"1025\"},{\"id\":\"1026\"}]},\"id\":\"1028\",\"type\":\"Toolbar\"},{\"attributes\":{\"data\":{\"fill_color\":[\"#d62728\",\"#2ca02c\",\"#2ca02c\",\"#ff7f0e\",\"#ff7f0e\",\"#ff7f0e\",\"#ff7f0e\",\"#1f77b4\",\"#2ca02c\",\"#d62728\",\"#ff7f0e\",\"#ff7f0e\",\"#ff7f0e\",\"#2ca02c\",\"#ff7f0e\",\"#1f77b4\",\"#1f77b4\",\"#1f77b4\",\"#ff7f0e\",\"#1f77b4\",\"#1f77b4\",\"#2ca02c\",\"#2ca02c\",\"#ff7f0e\",\"#2ca02c\",\"#2ca02c\",\"#2ca02c\",\"#2ca02c\",\"#2ca02c\",\"#ff7f0e\",\"#d62728\",\"#2ca02c\",\"#2ca02c\",\"#ff7f0e\",\"#2ca02c\",\"#d62728\",\"#2ca02c\",\"#1f77b4\",\"#ff7f0e\",\"#2ca02c\",\"#1f77b4\",\"#2ca02c\",\"#2ca02c\",\"#2ca02c\",\"#2ca02c\",\"#ff7f0e\",\"#d62728\",\"#ff7f0e\",\"#ff7f0e\",\"#1f77b4\",\"#2ca02c\",\"#2ca02c\",\"#ff7f0e\",\"#2ca02c\",\"#2ca02c\",\"#ff7f0e\",\"#d62728\",\"#2ca02c\",\"#1f77b4\",\"#d62728\",\"#2ca02c\",\"#2ca02c\",\"#ff7f0e\",\"#2ca02c\",\"#ff7f0e\",\"#2ca02c\",\"#d62728\",\"#d62728\",\"#d62728\",\"#2ca02c\",\"#ff7f0e\",\"#d62728\",\"#ff7f0e\",\"#2ca02c\",\"#1f77b4\",\"#d62728\",\"#d62728\",\"#ff7f0e\",\"#d62728\",\"#d62728\",\"#ff7f0e\",\"#2ca02c\",\"#d62728\",\"#ff7f0e\",\"#1f77b4\",\"#ff7f0e\",\"#d62728\",\"#2ca02c\",\"#2ca02c\",\"#ff7f0e\",\"#2ca02c\",\"#2ca02c\",\"#1f77b4\",\"#2ca02c\",\"#d62728\",\"#d62728\",\"#ff7f0e\",\"#2ca02c\",\"#d62728\",\"#2ca02c\",\"#ff7f0e\",\"#d62728\",\"#2ca02c\",\"#d62728\",\"#ff7f0e\",\"#2ca02c\",\"#d62728\",\"#ff7f0e\",\"#ff7f0e\",\"#2ca02c\",\"#ff7f0e\",\"#ff7f0e\",\"#d62728\",\"#2ca02c\",\"#2ca02c\",\"#2ca02c\",\"#ff7f0e\",\"#d62728\",\"#ff7f0e\",\"#ff7f0e\",\"#2ca02c\",\"#2ca02c\",\"#2ca02c\",\"#ff7f0e\",\"#2ca02c\",\"#d62728\",\"#2ca02c\",\"#d62728\",\"#1f77b4\",\"#d62728\",\"#2ca02c\",\"#2ca02c\",\"#d62728\",\"#2ca02c\",\"#ff7f0e\",\"#d62728\",\"#d62728\",\"#2ca02c\",\"#2ca02c\",\"#2ca02c\",\"#2ca02c\",\"#2ca02c\",\"#d62728\",\"#1f77b4\",\"#2ca02c\",\"#2ca02c\",\"#ff7f0e\",\"#ff7f0e\",\"#d62728\",\"#d62728\",\"#2ca02c\",\"#ff7f0e\",\"#2ca02c\",\"#ff7f0e\",\"#2ca02c\",\"#d62728\",\"#2ca02c\",\"#2ca02c\",\"#1f77b4\",\"#2ca02c\",\"#ff7f0e\",\"#ff7f0e\",\"#d62728\",\"#ff7f0e\",\"#d62728\",\"#ff7f0e\",\"#d62728\",\"#ff7f0e\",\"#2ca02c\",\"#d62728\",\"#2ca02c\",\"#d62728\",\"#2ca02c\",\"#1f77b4\",\"#ff7f0e\",\"#2ca02c\",\"#ff7f0e\",\"#ff7f0e\",\"#ff7f0e\",\"#ff7f0e\",\"#2ca02c\",\"#d62728\",\"#d62728\",\"#d62728\",\"#1f77b4\",\"#d62728\",\"#ff7f0e\",\"#d62728\",\"#ff7f0e\",\"#2ca02c\",\"#2ca02c\",\"#ff7f0e\",\"#d62728\",\"#d62728\",\"#d62728\",\"#d62728\",\"#ff7f0e\",\"#d62728\",\"#1f77b4\",\"#2ca02c\",\"#ff7f0e\",\"#ff7f0e\",\"#1f77b4\",\"#d62728\",\"#ff7f0e\",\"#2ca02c\",\"#d62728\",\"#2ca02c\",\"#2ca02c\",\"#2ca02c\",\"#ff7f0e\",\"#2ca02c\",\"#d62728\",\"#ff7f0e\",\"#2ca02c\",\"#ff7f0e\",\"#2ca02c\",\"#2ca02c\",\"#2ca02c\",\"#2ca02c\",\"#2ca02c\",\"#ff7f0e\",\"#2ca02c\",\"#ff7f0e\",\"#2ca02c\",\"#ff7f0e\",\"#2ca02c\",\"#d62728\",\"#1f77b4\",\"#2ca02c\",\"#ff7f0e\",\"#d62728\",\"#2ca02c\",\"#2ca02c\",\"#d62728\",\"#2ca02c\",\"#2ca02c\",\"#1f77b4\",\"#2ca02c\",\"#d62728\",\"#2ca02c\",\"#ff7f0e\",\"#ff7f0e\",\"#2ca02c\",\"#2ca02c\",\"#2ca02c\",\"#d62728\",\"#2ca02c\",\"#ff7f0e\",\"#2ca02c\",\"#2ca02c\",\"#2ca02c\",\"#2ca02c\",\"#2ca02c\",\"#2ca02c\",\"#2ca02c\",\"#1f77b4\",\"#2ca02c\",\"#d62728\",\"#2ca02c\",\"#2ca02c\",\"#d62728\",\"#2ca02c\",\"#d62728\",\"#d62728\",\"#1f77b4\",\"#d62728\",\"#2ca02c\",\"#2ca02c\",\"#2ca02c\",\"#2ca02c\",\"#2ca02c\",\"#ff7f0e\",\"#2ca02c\",\"#2ca02c\",\"#2ca02c\",\"#d62728\",\"#2ca02c\",\"#2ca02c\",\"#2ca02c\",\"#ff7f0e\",\"#2ca02c\",\"#1f77b4\",\"#2ca02c\",\"#2ca02c\",\"#2ca02c\",\"#ff7f0e\",\"#d62728\",\"#d62728\",\"#ff7f0e\",\"#1f77b4\",\"#ff7f0e\",\"#2ca02c\",\"#1f77b4\",\"#1f77b4\",\"#ff7f0e\",\"#ff7f0e\",\"#d62728\",\"#2ca02c\",\"#ff7f0e\",\"#ff7f0e\",\"#2ca02c\",\"#2ca02c\",\"#2ca02c\",\"#2ca02c\",\"#ff7f0e\",\"#d62728\",\"#2ca02c\",\"#d62728\",\"#d62728\",\"#d62728\",\"#2ca02c\",\"#d62728\",\"#d62728\",\"#ff7f0e\",\"#d62728\",\"#d62728\",\"#ff7f0e\",\"#2ca02c\",\"#ff7f0e\",\"#2ca02c\",\"#2ca02c\",\"#2ca02c\",\"#2ca02c\",\"#2ca02c\",\"#2ca02c\",\"#1f77b4\",\"#1f77b4\",\"#d62728\",\"#2ca02c\",\"#2ca02c\",\"#ff7f0e\",\"#2ca02c\",\"#d62728\",\"#ff7f0e\",\"#d62728\",\"#ff7f0e\",\"#2ca02c\",\"#ff7f0e\",\"#1f77b4\",\"#ff7f0e\",\"#d62728\",\"#2ca02c\",\"#ff7f0e\",\"#d62728\",\"#ff7f0e\",\"#1f77b4\",\"#2ca02c\",\"#d62728\",\"#d62728\",\"#d62728\",\"#2ca02c\",\"#ff7f0e\",\"#2ca02c\",\"#1f77b4\",\"#d62728\",\"#d62728\",\"#2ca02c\",\"#2ca02c\",\"#2ca02c\",\"#1f77b4\",\"#2ca02c\",\"#2ca02c\",\"#2ca02c\",\"#2ca02c\",\"#ff7f0e\",\"#1f77b4\",\"#ff7f0e\",\"#1f77b4\",\"#2ca02c\",\"#ff7f0e\",\"#d62728\",\"#d62728\",\"#2ca02c\",\"#2ca02c\",\"#2ca02c\",\"#d62728\",\"#1f77b4\",\"#d62728\",\"#2ca02c\",\"#2ca02c\",\"#ff7f0e\",\"#ff7f0e\",\"#2ca02c\",\"#2ca02c\",\"#d62728\",\"#2ca02c\",\"#d62728\",\"#2ca02c\",\"#ff7f0e\",\"#ff7f0e\",\"#d62728\",\"#ff7f0e\",\"#ff7f0e\",\"#2ca02c\",\"#d62728\",\"#2ca02c\",\"#2ca02c\",\"#ff7f0e\",\"#d62728\",\"#ff7f0e\",\"#2ca02c\",\"#2ca02c\",\"#d62728\",\"#d62728\",\"#ff7f0e\",\"#ff7f0e\",\"#2ca02c\",\"#2ca02c\",\"#ff7f0e\",\"#2ca02c\",\"#2ca02c\",\"#d62728\",\"#ff7f0e\",\"#ff7f0e\",\"#d62728\",\"#2ca02c\",\"#d62728\",\"#d62728\",\"#d62728\",\"#1f77b4\",\"#ff7f0e\",\"#2ca02c\",\"#2ca02c\",\"#2ca02c\",\"#d62728\",\"#d62728\",\"#2ca02c\",\"#d62728\",\"#ff7f0e\",\"#ff7f0e\",\"#ff7f0e\",\"#2ca02c\",\"#2ca02c\",\"#ff7f0e\",\"#ff7f0e\",\"#d62728\",\"#d62728\",\"#d62728\",\"#2ca02c\",\"#2ca02c\",\"#d62728\",\"#1f77b4\",\"#ff7f0e\",\"#ff7f0e\",\"#2ca02c\",\"#2ca02c\",\"#ff7f0e\",\"#2ca02c\",\"#ff7f0e\",\"#2ca02c\",\"#1f77b4\",\"#d62728\",\"#ff7f0e\",\"#ff7f0e\",\"#2ca02c\",\"#2ca02c\",\"#2ca02c\",\"#d62728\",\"#d62728\",\"#2ca02c\",\"#ff7f0e\",\"#d62728\",\"#d62728\",\"#1f77b4\",\"#ff7f0e\",\"#2ca02c\",\"#2ca02c\",\"#2ca02c\",\"#ff7f0e\",\"#d62728\",\"#2ca02c\",\"#2ca02c\",\"#2ca02c\",\"#2ca02c\",\"#d62728\",\"#ff7f0e\",\"#d62728\",\"#2ca02c\",\"#d62728\",\"#d62728\",\"#2ca02c\",\"#ff7f0e\",\"#d62728\",\"#d62728\",\"#d62728\",\"#ff7f0e\",\"#ff7f0e\",\"#ff7f0e\",\"#1f77b4\",\"#ff7f0e\",\"#ff7f0e\",\"#d62728\",\"#2ca02c\",\"#2ca02c\",\"#2ca02c\",\"#ff7f0e\",\"#2ca02c\",\"#2ca02c\",\"#2ca02c\",\"#2ca02c\",\"#2ca02c\",\"#1f77b4\",\"#ff7f0e\",\"#d62728\",\"#d62728\",\"#d62728\",\"#2ca02c\",\"#1f77b4\",\"#ff7f0e\",\"#2ca02c\",\"#2ca02c\",\"#2ca02c\",\"#d62728\",\"#2ca02c\",\"#2ca02c\",\"#ff7f0e\",\"#2ca02c\",\"#2ca02c\",\"#2ca02c\",\"#ff7f0e\",\"#ff7f0e\",\"#2ca02c\",\"#d62728\",\"#1f77b4\",\"#d62728\",\"#d62728\",\"#2ca02c\",\"#ff7f0e\",\"#1f77b4\",\"#1f77b4\",\"#2ca02c\",\"#2ca02c\",\"#ff7f0e\",\"#2ca02c\",\"#ff7f0e\",\"#d62728\",\"#2ca02c\",\"#ff7f0e\",\"#2ca02c\",\"#d62728\",\"#2ca02c\",\"#2ca02c\",\"#2ca02c\",\"#2ca02c\",\"#2ca02c\",\"#ff7f0e\",\"#2ca02c\",\"#ff7f0e\",\"#2ca02c\",\"#1f77b4\",\"#d62728\",\"#2ca02c\",\"#ff7f0e\",\"#ff7f0e\",\"#2ca02c\",\"#1f77b4\",\"#2ca02c\",\"#d62728\",\"#ff7f0e\",\"#d62728\",\"#d62728\",\"#2ca02c\",\"#2ca02c\",\"#2ca02c\",\"#2ca02c\",\"#d62728\",\"#2ca02c\",\"#d62728\",\"#d62728\",\"#ff7f0e\",\"#d62728\",\"#2ca02c\",\"#2ca02c\",\"#d62728\",\"#d62728\",\"#1f77b4\",\"#2ca02c\",\"#2ca02c\",\"#d62728\",\"#ff7f0e\",\"#d62728\",\"#ff7f0e\",\"#ff7f0e\",\"#ff7f0e\",\"#2ca02c\",\"#2ca02c\",\"#ff7f0e\",\"#1f77b4\",\"#d62728\",\"#ff7f0e\",\"#ff7f0e\",\"#2ca02c\",\"#ff7f0e\",\"#2ca02c\",\"#ff7f0e\",\"#2ca02c\",\"#ff7f0e\",\"#ff7f0e\",\"#ff7f0e\",\"#2ca02c\",\"#2ca02c\",\"#ff7f0e\",\"#ff7f0e\",\"#ff7f0e\",\"#1f77b4\",\"#ff7f0e\",\"#ff7f0e\",\"#d62728\",\"#1f77b4\",\"#1f77b4\",\"#2ca02c\",\"#ff7f0e\",\"#2ca02c\",\"#2ca02c\",\"#d62728\",\"#2ca02c\",\"#1f77b4\",\"#2ca02c\",\"#2ca02c\",\"#2ca02c\",\"#2ca02c\",\"#2ca02c\",\"#d62728\",\"#d62728\",\"#ff7f0e\",\"#1f77b4\",\"#ff7f0e\",\"#d62728\",\"#2ca02c\",\"#2ca02c\",\"#2ca02c\",\"#2ca02c\",\"#ff7f0e\",\"#d62728\",\"#ff7f0e\",\"#2ca02c\",\"#2ca02c\",\"#ff7f0e\",\"#2ca02c\",\"#2ca02c\",\"#2ca02c\",\"#ff7f0e\",\"#ff7f0e\",\"#2ca02c\",\"#2ca02c\",\"#1f77b4\",\"#2ca02c\",\"#2ca02c\",\"#2ca02c\",\"#ff7f0e\",\"#d62728\",\"#ff7f0e\",\"#d62728\",\"#ff7f0e\",\"#d62728\",\"#d62728\",\"#ff7f0e\",\"#d62728\",\"#2ca02c\",\"#ff7f0e\",\"#2ca02c\",\"#2ca02c\",\"#ff7f0e\",\"#d62728\",\"#2ca02c\",\"#2ca02c\",\"#d62728\",\"#2ca02c\",\"#ff7f0e\",\"#2ca02c\",\"#d62728\",\"#ff7f0e\",\"#2ca02c\",\"#d62728\",\"#ff7f0e\",\"#2ca02c\",\"#ff7f0e\",\"#d62728\",\"#2ca02c\",\"#2ca02c\",\"#2ca02c\",\"#2ca02c\",\"#2ca02c\",\"#2ca02c\",\"#d62728\",\"#2ca02c\",\"#ff7f0e\",\"#2ca02c\",\"#ff7f0e\",\"#d62728\",\"#2ca02c\",\"#2ca02c\",\"#d62728\",\"#d62728\",\"#ff7f0e\",\"#2ca02c\",\"#2ca02c\",\"#ff7f0e\",\"#d62728\",\"#d62728\",\"#2ca02c\",\"#2ca02c\",\"#d62728\",\"#ff7f0e\",\"#2ca02c\",\"#ff7f0e\",\"#d62728\",\"#2ca02c\",\"#1f77b4\",\"#2ca02c\",\"#2ca02c\",\"#d62728\",\"#1f77b4\",\"#d62728\",\"#d62728\",\"#ff7f0e\",\"#2ca02c\",\"#ff7f0e\",\"#ff7f0e\",\"#ff7f0e\",\"#2ca02c\",\"#d62728\",\"#2ca02c\",\"#d62728\",\"#ff7f0e\",\"#d62728\",\"#2ca02c\",\"#2ca02c\",\"#ff7f0e\",\"#2ca02c\",\"#2ca02c\",\"#1f77b4\",\"#ff7f0e\",\"#1f77b4\",\"#d62728\",\"#d62728\",\"#d62728\",\"#ff7f0e\",\"#2ca02c\",\"#2ca02c\",\"#2ca02c\",\"#ff7f0e\",\"#2ca02c\",\"#2ca02c\",\"#2ca02c\",\"#ff7f0e\",\"#ff7f0e\",\"#2ca02c\",\"#d62728\",\"#1f77b4\",\"#d62728\",\"#d62728\",\"#ff7f0e\",\"#1f77b4\",\"#ff7f0e\",\"#ff7f0e\",\"#d62728\",\"#d62728\",\"#ff7f0e\",\"#d62728\",\"#2ca02c\",\"#d62728\",\"#ff7f0e\",\"#1f77b4\",\"#d62728\",\"#2ca02c\",\"#2ca02c\",\"#1f77b4\",\"#d62728\",\"#ff7f0e\",\"#2ca02c\",\"#2ca02c\",\"#1f77b4\",\"#1f77b4\",\"#ff7f0e\",\"#ff7f0e\",\"#ff7f0e\",\"#ff7f0e\",\"#ff7f0e\",\"#2ca02c\",\"#d62728\",\"#2ca02c\",\"#2ca02c\",\"#2ca02c\",\"#2ca02c\",\"#ff7f0e\",\"#1f77b4\",\"#ff7f0e\",\"#d62728\",\"#d62728\",\"#2ca02c\",\"#2ca02c\",\"#1f77b4\",\"#2ca02c\",\"#2ca02c\",\"#1f77b4\",\"#2ca02c\",\"#ff7f0e\",\"#d62728\",\"#ff7f0e\",\"#2ca02c\",\"#ff7f0e\",\"#2ca02c\",\"#ff7f0e\",\"#ff7f0e\",\"#ff7f0e\",\"#2ca02c\",\"#ff7f0e\",\"#d62728\",\"#2ca02c\",\"#ff7f0e\",\"#2ca02c\",\"#2ca02c\",\"#d62728\",\"#ff7f0e\",\"#ff7f0e\",\"#d62728\",\"#2ca02c\",\"#d62728\",\"#ff7f0e\",\"#2ca02c\",\"#1f77b4\",\"#d62728\",\"#ff7f0e\",\"#ff7f0e\",\"#2ca02c\",\"#ff7f0e\",\"#ff7f0e\",\"#d62728\",\"#2ca02c\",\"#ff7f0e\",\"#2ca02c\",\"#ff7f0e\",\"#2ca02c\",\"#ff7f0e\",\"#d62728\",\"#1f77b4\",\"#2ca02c\",\"#ff7f0e\",\"#2ca02c\",\"#d62728\",\"#ff7f0e\",\"#ff7f0e\",\"#2ca02c\",\"#2ca02c\",\"#ff7f0e\",\"#ff7f0e\",\"#d62728\",\"#2ca02c\",\"#ff7f0e\",\"#1f77b4\",\"#d62728\",\"#2ca02c\",\"#d62728\",\"#d62728\",\"#1f77b4\",\"#2ca02c\",\"#2ca02c\",\"#d62728\",\"#2ca02c\",\"#d62728\",\"#2ca02c\",\"#2ca02c\",\"#ff7f0e\",\"#2ca02c\",\"#d62728\",\"#ff7f0e\",\"#1f77b4\",\"#ff7f0e\",\"#d62728\",\"#ff7f0e\",\"#2ca02c\",\"#d62728\",\"#2ca02c\",\"#2ca02c\",\"#ff7f0e\",\"#d62728\",\"#2ca02c\",\"#2ca02c\",\"#2ca02c\",\"#d62728\",\"#2ca02c\",\"#d62728\",\"#2ca02c\",\"#d62728\",\"#ff7f0e\",\"#d62728\",\"#ff7f0e\",\"#ff7f0e\",\"#d62728\",\"#d62728\",\"#2ca02c\",\"#d62728\",\"#ff7f0e\",\"#2ca02c\",\"#ff7f0e\",\"#d62728\",\"#ff7f0e\",\"#ff7f0e\",\"#2ca02c\",\"#ff7f0e\",\"#1f77b4\",\"#2ca02c\",\"#2ca02c\",\"#2ca02c\",\"#d62728\",\"#2ca02c\",\"#ff7f0e\",\"#2ca02c\",\"#d62728\",\"#ff7f0e\",\"#d62728\",\"#d62728\",\"#d62728\",\"#ff7f0e\",\"#ff7f0e\",\"#d62728\",\"#2ca02c\",\"#2ca02c\",\"#2ca02c\",\"#2ca02c\",\"#d62728\",\"#2ca02c\",\"#1f77b4\",\"#2ca02c\",\"#2ca02c\",\"#2ca02c\",\"#d62728\",\"#2ca02c\",\"#d62728\",\"#1f77b4\",\"#2ca02c\",\"#ff7f0e\",\"#2ca02c\",\"#ff7f0e\",\"#1f77b4\",\"#ff7f0e\",\"#d62728\",\"#2ca02c\",\"#2ca02c\",\"#d62728\",\"#1f77b4\",\"#d62728\",\"#2ca02c\",\"#d62728\",\"#ff7f0e\",\"#2ca02c\",\"#ff7f0e\",\"#d62728\",\"#ff7f0e\",\"#2ca02c\",\"#d62728\",\"#d62728\",\"#2ca02c\",\"#2ca02c\",\"#ff7f0e\",\"#2ca02c\",\"#d62728\",\"#2ca02c\",\"#d62728\",\"#1f77b4\",\"#2ca02c\",\"#d62728\",\"#2ca02c\",\"#1f77b4\",\"#ff7f0e\",\"#2ca02c\",\"#ff7f0e\",\"#ff7f0e\",\"#2ca02c\",\"#ff7f0e\",\"#2ca02c\",\"#2ca02c\",\"#2ca02c\",\"#2ca02c\",\"#2ca02c\",\"#2ca02c\",\"#d62728\",\"#d62728\",\"#ff7f0e\",\"#2ca02c\",\"#ff7f0e\",\"#2ca02c\",\"#2ca02c\",\"#2ca02c\",\"#2ca02c\",\"#ff7f0e\",\"#d62728\",\"#ff7f0e\",\"#2ca02c\",\"#d62728\",\"#ff7f0e\",\"#2ca02c\",\"#2ca02c\",\"#2ca02c\",\"#ff7f0e\",\"#2ca02c\",\"#d62728\",\"#2ca02c\",\"#ff7f0e\",\"#2ca02c\",\"#2ca02c\",\"#2ca02c\",\"#1f77b4\",\"#d62728\",\"#2ca02c\",\"#d62728\",\"#1f77b4\",\"#1f77b4\",\"#ff7f0e\",\"#2ca02c\",\"#2ca02c\",\"#2ca02c\",\"#2ca02c\",\"#ff7f0e\",\"#d62728\",\"#2ca02c\",\"#d62728\",\"#2ca02c\",\"#ff7f0e\",\"#2ca02c\",\"#2ca02c\",\"#2ca02c\",\"#2ca02c\",\"#2ca02c\",\"#2ca02c\",\"#2ca02c\",\"#2ca02c\",\"#ff7f0e\",\"#2ca02c\",\"#d62728\",\"#2ca02c\",\"#2ca02c\",\"#ff7f0e\",\"#1f77b4\",\"#1f77b4\",\"#ff7f0e\",\"#d62728\",\"#d62728\",\"#d62728\",\"#d62728\",\"#2ca02c\",\"#2ca02c\",\"#ff7f0e\",\"#1f77b4\",\"#2ca02c\",\"#1f77b4\",\"#ff7f0e\",\"#d62728\",\"#2ca02c\",\"#2ca02c\",\"#2ca02c\",\"#2ca02c\",\"#d62728\",\"#2ca02c\",\"#2ca02c\",\"#2ca02c\",\"#2ca02c\",\"#2ca02c\",\"#ff7f0e\",\"#2ca02c\",\"#ff7f0e\",\"#d62728\",\"#ff7f0e\",\"#2ca02c\",\"#2ca02c\",\"#d62728\",\"#ff7f0e\",\"#d62728\",\"#d62728\",\"#2ca02c\",\"#2ca02c\",\"#d62728\",\"#ff7f0e\",\"#2ca02c\",\"#ff7f0e\",\"#ff7f0e\",\"#2ca02c\",\"#d62728\",\"#d62728\",\"#1f77b4\",\"#2ca02c\",\"#ff7f0e\",\"#ff7f0e\",\"#ff7f0e\",\"#2ca02c\",\"#d62728\",\"#ff7f0e\",\"#ff7f0e\",\"#ff7f0e\",\"#2ca02c\",\"#2ca02c\",\"#d62728\",\"#ff7f0e\",\"#d62728\",\"#d62728\",\"#2ca02c\",\"#d62728\",\"#1f77b4\",\"#1f77b4\",\"#1f77b4\",\"#ff7f0e\",\"#2ca02c\",\"#ff7f0e\",\"#1f77b4\",\"#ff7f0e\",\"#2ca02c\",\"#2ca02c\",\"#d62728\",\"#d62728\",\"#2ca02c\",\"#2ca02c\",\"#ff7f0e\",\"#2ca02c\",\"#2ca02c\",\"#2ca02c\",\"#2ca02c\",\"#1f77b4\",\"#2ca02c\",\"#ff7f0e\",\"#ff7f0e\",\"#2ca02c\",\"#2ca02c\",\"#2ca02c\",\"#2ca02c\",\"#ff7f0e\",\"#2ca02c\",\"#2ca02c\",\"#1f77b4\",\"#ff7f0e\",\"#ff7f0e\",\"#2ca02c\",\"#d62728\",\"#ff7f0e\",\"#ff7f0e\",\"#d62728\",\"#2ca02c\",\"#2ca02c\",\"#2ca02c\",\"#ff7f0e\",\"#ff7f0e\",\"#d62728\",\"#2ca02c\",\"#ff7f0e\",\"#2ca02c\",\"#ff7f0e\",\"#d62728\",\"#2ca02c\",\"#ff7f0e\",\"#d62728\",\"#d62728\",\"#2ca02c\",\"#d62728\",\"#ff7f0e\",\"#d62728\",\"#ff7f0e\",\"#d62728\",\"#2ca02c\",\"#2ca02c\",\"#ff7f0e\",\"#ff7f0e\",\"#2ca02c\",\"#2ca02c\",\"#2ca02c\",\"#2ca02c\",\"#2ca02c\",\"#2ca02c\",\"#2ca02c\",\"#2ca02c\",\"#ff7f0e\",\"#1f77b4\",\"#d62728\",\"#ff7f0e\",\"#2ca02c\",\"#2ca02c\",\"#d62728\",\"#2ca02c\",\"#2ca02c\",\"#ff7f0e\",\"#ff7f0e\",\"#2ca02c\",\"#d62728\",\"#ff7f0e\",\"#ff7f0e\",\"#ff7f0e\",\"#d62728\",\"#2ca02c\",\"#d62728\",\"#2ca02c\",\"#2ca02c\",\"#ff7f0e\",\"#1f77b4\",\"#d62728\",\"#2ca02c\",\"#2ca02c\",\"#2ca02c\",\"#ff7f0e\",\"#d62728\",\"#2ca02c\",\"#2ca02c\",\"#2ca02c\",\"#d62728\",\"#ff7f0e\",\"#2ca02c\",\"#ff7f0e\",\"#1f77b4\",\"#d62728\",\"#ff7f0e\",\"#2ca02c\",\"#d62728\",\"#2ca02c\",\"#ff7f0e\",\"#2ca02c\",\"#2ca02c\",\"#ff7f0e\",\"#2ca02c\",\"#2ca02c\",\"#1f77b4\",\"#d62728\",\"#ff7f0e\",\"#1f77b4\",\"#2ca02c\",\"#2ca02c\",\"#1f77b4\",\"#2ca02c\",\"#ff7f0e\",\"#d62728\",\"#ff7f0e\",\"#2ca02c\",\"#2ca02c\",\"#ff7f0e\",\"#d62728\",\"#d62728\",\"#d62728\",\"#ff7f0e\",\"#2ca02c\",\"#d62728\",\"#2ca02c\",\"#2ca02c\",\"#2ca02c\",\"#2ca02c\",\"#2ca02c\",\"#ff7f0e\",\"#ff7f0e\",\"#d62728\",\"#2ca02c\",\"#ff7f0e\",\"#2ca02c\",\"#2ca02c\",\"#1f77b4\",\"#d62728\",\"#2ca02c\"],\"line_color\":[\"#d62728\",\"#2ca02c\",\"#2ca02c\",\"#ff7f0e\",\"#ff7f0e\",\"#ff7f0e\",\"#ff7f0e\",\"#1f77b4\",\"#2ca02c\",\"#d62728\",\"#ff7f0e\",\"#ff7f0e\",\"#ff7f0e\",\"#2ca02c\",\"#ff7f0e\",\"#1f77b4\",\"#1f77b4\",\"#1f77b4\",\"#ff7f0e\",\"#1f77b4\",\"#1f77b4\",\"#2ca02c\",\"#2ca02c\",\"#ff7f0e\",\"#2ca02c\",\"#2ca02c\",\"#2ca02c\",\"#2ca02c\",\"#2ca02c\",\"#ff7f0e\",\"#d62728\",\"#2ca02c\",\"#2ca02c\",\"#ff7f0e\",\"#2ca02c\",\"#d62728\",\"#2ca02c\",\"#1f77b4\",\"#ff7f0e\",\"#2ca02c\",\"#1f77b4\",\"#2ca02c\",\"#2ca02c\",\"#2ca02c\",\"#2ca02c\",\"#ff7f0e\",\"#d62728\",\"#ff7f0e\",\"#ff7f0e\",\"#1f77b4\",\"#2ca02c\",\"#2ca02c\",\"#ff7f0e\",\"#2ca02c\",\"#2ca02c\",\"#ff7f0e\",\"#d62728\",\"#2ca02c\",\"#1f77b4\",\"#d62728\",\"#2ca02c\",\"#2ca02c\",\"#ff7f0e\",\"#2ca02c\",\"#ff7f0e\",\"#2ca02c\",\"#d62728\",\"#d62728\",\"#d62728\",\"#2ca02c\",\"#ff7f0e\",\"#d62728\",\"#ff7f0e\",\"#2ca02c\",\"#1f77b4\",\"#d62728\",\"#d62728\",\"#ff7f0e\",\"#d62728\",\"#d62728\",\"#ff7f0e\",\"#2ca02c\",\"#d62728\",\"#ff7f0e\",\"#1f77b4\",\"#ff7f0e\",\"#d62728\",\"#2ca02c\",\"#2ca02c\",\"#ff7f0e\",\"#2ca02c\",\"#2ca02c\",\"#1f77b4\",\"#2ca02c\",\"#d62728\",\"#d62728\",\"#ff7f0e\",\"#2ca02c\",\"#d62728\",\"#2ca02c\",\"#ff7f0e\",\"#d62728\",\"#2ca02c\",\"#d62728\",\"#ff7f0e\",\"#2ca02c\",\"#d62728\",\"#ff7f0e\",\"#ff7f0e\",\"#2ca02c\",\"#ff7f0e\",\"#ff7f0e\",\"#d62728\",\"#2ca02c\",\"#2ca02c\",\"#2ca02c\",\"#ff7f0e\",\"#d62728\",\"#ff7f0e\",\"#ff7f0e\",\"#2ca02c\",\"#2ca02c\",\"#2ca02c\",\"#ff7f0e\",\"#2ca02c\",\"#d62728\",\"#2ca02c\",\"#d62728\",\"#1f77b4\",\"#d62728\",\"#2ca02c\",\"#2ca02c\",\"#d62728\",\"#2ca02c\",\"#ff7f0e\",\"#d62728\",\"#d62728\",\"#2ca02c\",\"#2ca02c\",\"#2ca02c\",\"#2ca02c\",\"#2ca02c\",\"#d62728\",\"#1f77b4\",\"#2ca02c\",\"#2ca02c\",\"#ff7f0e\",\"#ff7f0e\",\"#d62728\",\"#d62728\",\"#2ca02c\",\"#ff7f0e\",\"#2ca02c\",\"#ff7f0e\",\"#2ca02c\",\"#d62728\",\"#2ca02c\",\"#2ca02c\",\"#1f77b4\",\"#2ca02c\",\"#ff7f0e\",\"#ff7f0e\",\"#d62728\",\"#ff7f0e\",\"#d62728\",\"#ff7f0e\",\"#d62728\",\"#ff7f0e\",\"#2ca02c\",\"#d62728\",\"#2ca02c\",\"#d62728\",\"#2ca02c\",\"#1f77b4\",\"#ff7f0e\",\"#2ca02c\",\"#ff7f0e\",\"#ff7f0e\",\"#ff7f0e\",\"#ff7f0e\",\"#2ca02c\",\"#d62728\",\"#d62728\",\"#d62728\",\"#1f77b4\",\"#d62728\",\"#ff7f0e\",\"#d62728\",\"#ff7f0e\",\"#2ca02c\",\"#2ca02c\",\"#ff7f0e\",\"#d62728\",\"#d62728\",\"#d62728\",\"#d62728\",\"#ff7f0e\",\"#d62728\",\"#1f77b4\",\"#2ca02c\",\"#ff7f0e\",\"#ff7f0e\",\"#1f77b4\",\"#d62728\",\"#ff7f0e\",\"#2ca02c\",\"#d62728\",\"#2ca02c\",\"#2ca02c\",\"#2ca02c\",\"#ff7f0e\",\"#2ca02c\",\"#d62728\",\"#ff7f0e\",\"#2ca02c\",\"#ff7f0e\",\"#2ca02c\",\"#2ca02c\",\"#2ca02c\",\"#2ca02c\",\"#2ca02c\",\"#ff7f0e\",\"#2ca02c\",\"#ff7f0e\",\"#2ca02c\",\"#ff7f0e\",\"#2ca02c\",\"#d62728\",\"#1f77b4\",\"#2ca02c\",\"#ff7f0e\",\"#d62728\",\"#2ca02c\",\"#2ca02c\",\"#d62728\",\"#2ca02c\",\"#2ca02c\",\"#1f77b4\",\"#2ca02c\",\"#d62728\",\"#2ca02c\",\"#ff7f0e\",\"#ff7f0e\",\"#2ca02c\",\"#2ca02c\",\"#2ca02c\",\"#d62728\",\"#2ca02c\",\"#ff7f0e\",\"#2ca02c\",\"#2ca02c\",\"#2ca02c\",\"#2ca02c\",\"#2ca02c\",\"#2ca02c\",\"#2ca02c\",\"#1f77b4\",\"#2ca02c\",\"#d62728\",\"#2ca02c\",\"#2ca02c\",\"#d62728\",\"#2ca02c\",\"#d62728\",\"#d62728\",\"#1f77b4\",\"#d62728\",\"#2ca02c\",\"#2ca02c\",\"#2ca02c\",\"#2ca02c\",\"#2ca02c\",\"#ff7f0e\",\"#2ca02c\",\"#2ca02c\",\"#2ca02c\",\"#d62728\",\"#2ca02c\",\"#2ca02c\",\"#2ca02c\",\"#ff7f0e\",\"#2ca02c\",\"#1f77b4\",\"#2ca02c\",\"#2ca02c\",\"#2ca02c\",\"#ff7f0e\",\"#d62728\",\"#d62728\",\"#ff7f0e\",\"#1f77b4\",\"#ff7f0e\",\"#2ca02c\",\"#1f77b4\",\"#1f77b4\",\"#ff7f0e\",\"#ff7f0e\",\"#d62728\",\"#2ca02c\",\"#ff7f0e\",\"#ff7f0e\",\"#2ca02c\",\"#2ca02c\",\"#2ca02c\",\"#2ca02c\",\"#ff7f0e\",\"#d62728\",\"#2ca02c\",\"#d62728\",\"#d62728\",\"#d62728\",\"#2ca02c\",\"#d62728\",\"#d62728\",\"#ff7f0e\",\"#d62728\",\"#d62728\",\"#ff7f0e\",\"#2ca02c\",\"#ff7f0e\",\"#2ca02c\",\"#2ca02c\",\"#2ca02c\",\"#2ca02c\",\"#2ca02c\",\"#2ca02c\",\"#1f77b4\",\"#1f77b4\",\"#d62728\",\"#2ca02c\",\"#2ca02c\",\"#ff7f0e\",\"#2ca02c\",\"#d62728\",\"#ff7f0e\",\"#d62728\",\"#ff7f0e\",\"#2ca02c\",\"#ff7f0e\",\"#1f77b4\",\"#ff7f0e\",\"#d62728\",\"#2ca02c\",\"#ff7f0e\",\"#d62728\",\"#ff7f0e\",\"#1f77b4\",\"#2ca02c\",\"#d62728\",\"#d62728\",\"#d62728\",\"#2ca02c\",\"#ff7f0e\",\"#2ca02c\",\"#1f77b4\",\"#d62728\",\"#d62728\",\"#2ca02c\",\"#2ca02c\",\"#2ca02c\",\"#1f77b4\",\"#2ca02c\",\"#2ca02c\",\"#2ca02c\",\"#2ca02c\",\"#ff7f0e\",\"#1f77b4\",\"#ff7f0e\",\"#1f77b4\",\"#2ca02c\",\"#ff7f0e\",\"#d62728\",\"#d62728\",\"#2ca02c\",\"#2ca02c\",\"#2ca02c\",\"#d62728\",\"#1f77b4\",\"#d62728\",\"#2ca02c\",\"#2ca02c\",\"#ff7f0e\",\"#ff7f0e\",\"#2ca02c\",\"#2ca02c\",\"#d62728\",\"#2ca02c\",\"#d62728\",\"#2ca02c\",\"#ff7f0e\",\"#ff7f0e\",\"#d62728\",\"#ff7f0e\",\"#ff7f0e\",\"#2ca02c\",\"#d62728\",\"#2ca02c\",\"#2ca02c\",\"#ff7f0e\",\"#d62728\",\"#ff7f0e\",\"#2ca02c\",\"#2ca02c\",\"#d62728\",\"#d62728\",\"#ff7f0e\",\"#ff7f0e\",\"#2ca02c\",\"#2ca02c\",\"#ff7f0e\",\"#2ca02c\",\"#2ca02c\",\"#d62728\",\"#ff7f0e\",\"#ff7f0e\",\"#d62728\",\"#2ca02c\",\"#d62728\",\"#d62728\",\"#d62728\",\"#1f77b4\",\"#ff7f0e\",\"#2ca02c\",\"#2ca02c\",\"#2ca02c\",\"#d62728\",\"#d62728\",\"#2ca02c\",\"#d62728\",\"#ff7f0e\",\"#ff7f0e\",\"#ff7f0e\",\"#2ca02c\",\"#2ca02c\",\"#ff7f0e\",\"#ff7f0e\",\"#d62728\",\"#d62728\",\"#d62728\",\"#2ca02c\",\"#2ca02c\",\"#d62728\",\"#1f77b4\",\"#ff7f0e\",\"#ff7f0e\",\"#2ca02c\",\"#2ca02c\",\"#ff7f0e\",\"#2ca02c\",\"#ff7f0e\",\"#2ca02c\",\"#1f77b4\",\"#d62728\",\"#ff7f0e\",\"#ff7f0e\",\"#2ca02c\",\"#2ca02c\",\"#2ca02c\",\"#d62728\",\"#d62728\",\"#2ca02c\",\"#ff7f0e\",\"#d62728\",\"#d62728\",\"#1f77b4\",\"#ff7f0e\",\"#2ca02c\",\"#2ca02c\",\"#2ca02c\",\"#ff7f0e\",\"#d62728\",\"#2ca02c\",\"#2ca02c\",\"#2ca02c\",\"#2ca02c\",\"#d62728\",\"#ff7f0e\",\"#d62728\",\"#2ca02c\",\"#d62728\",\"#d62728\",\"#2ca02c\",\"#ff7f0e\",\"#d62728\",\"#d62728\",\"#d62728\",\"#ff7f0e\",\"#ff7f0e\",\"#ff7f0e\",\"#1f77b4\",\"#ff7f0e\",\"#ff7f0e\",\"#d62728\",\"#2ca02c\",\"#2ca02c\",\"#2ca02c\",\"#ff7f0e\",\"#2ca02c\",\"#2ca02c\",\"#2ca02c\",\"#2ca02c\",\"#2ca02c\",\"#1f77b4\",\"#ff7f0e\",\"#d62728\",\"#d62728\",\"#d62728\",\"#2ca02c\",\"#1f77b4\",\"#ff7f0e\",\"#2ca02c\",\"#2ca02c\",\"#2ca02c\",\"#d62728\",\"#2ca02c\",\"#2ca02c\",\"#ff7f0e\",\"#2ca02c\",\"#2ca02c\",\"#2ca02c\",\"#ff7f0e\",\"#ff7f0e\",\"#2ca02c\",\"#d62728\",\"#1f77b4\",\"#d62728\",\"#d62728\",\"#2ca02c\",\"#ff7f0e\",\"#1f77b4\",\"#1f77b4\",\"#2ca02c\",\"#2ca02c\",\"#ff7f0e\",\"#2ca02c\",\"#ff7f0e\",\"#d62728\",\"#2ca02c\",\"#ff7f0e\",\"#2ca02c\",\"#d62728\",\"#2ca02c\",\"#2ca02c\",\"#2ca02c\",\"#2ca02c\",\"#2ca02c\",\"#ff7f0e\",\"#2ca02c\",\"#ff7f0e\",\"#2ca02c\",\"#1f77b4\",\"#d62728\",\"#2ca02c\",\"#ff7f0e\",\"#ff7f0e\",\"#2ca02c\",\"#1f77b4\",\"#2ca02c\",\"#d62728\",\"#ff7f0e\",\"#d62728\",\"#d62728\",\"#2ca02c\",\"#2ca02c\",\"#2ca02c\",\"#2ca02c\",\"#d62728\",\"#2ca02c\",\"#d62728\",\"#d62728\",\"#ff7f0e\",\"#d62728\",\"#2ca02c\",\"#2ca02c\",\"#d62728\",\"#d62728\",\"#1f77b4\",\"#2ca02c\",\"#2ca02c\",\"#d62728\",\"#ff7f0e\",\"#d62728\",\"#ff7f0e\",\"#ff7f0e\",\"#ff7f0e\",\"#2ca02c\",\"#2ca02c\",\"#ff7f0e\",\"#1f77b4\",\"#d62728\",\"#ff7f0e\",\"#ff7f0e\",\"#2ca02c\",\"#ff7f0e\",\"#2ca02c\",\"#ff7f0e\",\"#2ca02c\",\"#ff7f0e\",\"#ff7f0e\",\"#ff7f0e\",\"#2ca02c\",\"#2ca02c\",\"#ff7f0e\",\"#ff7f0e\",\"#ff7f0e\",\"#1f77b4\",\"#ff7f0e\",\"#ff7f0e\",\"#d62728\",\"#1f77b4\",\"#1f77b4\",\"#2ca02c\",\"#ff7f0e\",\"#2ca02c\",\"#2ca02c\",\"#d62728\",\"#2ca02c\",\"#1f77b4\",\"#2ca02c\",\"#2ca02c\",\"#2ca02c\",\"#2ca02c\",\"#2ca02c\",\"#d62728\",\"#d62728\",\"#ff7f0e\",\"#1f77b4\",\"#ff7f0e\",\"#d62728\",\"#2ca02c\",\"#2ca02c\",\"#2ca02c\",\"#2ca02c\",\"#ff7f0e\",\"#d62728\",\"#ff7f0e\",\"#2ca02c\",\"#2ca02c\",\"#ff7f0e\",\"#2ca02c\",\"#2ca02c\",\"#2ca02c\",\"#ff7f0e\",\"#ff7f0e\",\"#2ca02c\",\"#2ca02c\",\"#1f77b4\",\"#2ca02c\",\"#2ca02c\",\"#2ca02c\",\"#ff7f0e\",\"#d62728\",\"#ff7f0e\",\"#d62728\",\"#ff7f0e\",\"#d62728\",\"#d62728\",\"#ff7f0e\",\"#d62728\",\"#2ca02c\",\"#ff7f0e\",\"#2ca02c\",\"#2ca02c\",\"#ff7f0e\",\"#d62728\",\"#2ca02c\",\"#2ca02c\",\"#d62728\",\"#2ca02c\",\"#ff7f0e\",\"#2ca02c\",\"#d62728\",\"#ff7f0e\",\"#2ca02c\",\"#d62728\",\"#ff7f0e\",\"#2ca02c\",\"#ff7f0e\",\"#d62728\",\"#2ca02c\",\"#2ca02c\",\"#2ca02c\",\"#2ca02c\",\"#2ca02c\",\"#2ca02c\",\"#d62728\",\"#2ca02c\",\"#ff7f0e\",\"#2ca02c\",\"#ff7f0e\",\"#d62728\",\"#2ca02c\",\"#2ca02c\",\"#d62728\",\"#d62728\",\"#ff7f0e\",\"#2ca02c\",\"#2ca02c\",\"#ff7f0e\",\"#d62728\",\"#d62728\",\"#2ca02c\",\"#2ca02c\",\"#d62728\",\"#ff7f0e\",\"#2ca02c\",\"#ff7f0e\",\"#d62728\",\"#2ca02c\",\"#1f77b4\",\"#2ca02c\",\"#2ca02c\",\"#d62728\",\"#1f77b4\",\"#d62728\",\"#d62728\",\"#ff7f0e\",\"#2ca02c\",\"#ff7f0e\",\"#ff7f0e\",\"#ff7f0e\",\"#2ca02c\",\"#d62728\",\"#2ca02c\",\"#d62728\",\"#ff7f0e\",\"#d62728\",\"#2ca02c\",\"#2ca02c\",\"#ff7f0e\",\"#2ca02c\",\"#2ca02c\",\"#1f77b4\",\"#ff7f0e\",\"#1f77b4\",\"#d62728\",\"#d62728\",\"#d62728\",\"#ff7f0e\",\"#2ca02c\",\"#2ca02c\",\"#2ca02c\",\"#ff7f0e\",\"#2ca02c\",\"#2ca02c\",\"#2ca02c\",\"#ff7f0e\",\"#ff7f0e\",\"#2ca02c\",\"#d62728\",\"#1f77b4\",\"#d62728\",\"#d62728\",\"#ff7f0e\",\"#1f77b4\",\"#ff7f0e\",\"#ff7f0e\",\"#d62728\",\"#d62728\",\"#ff7f0e\",\"#d62728\",\"#2ca02c\",\"#d62728\",\"#ff7f0e\",\"#1f77b4\",\"#d62728\",\"#2ca02c\",\"#2ca02c\",\"#1f77b4\",\"#d62728\",\"#ff7f0e\",\"#2ca02c\",\"#2ca02c\",\"#1f77b4\",\"#1f77b4\",\"#ff7f0e\",\"#ff7f0e\",\"#ff7f0e\",\"#ff7f0e\",\"#ff7f0e\",\"#2ca02c\",\"#d62728\",\"#2ca02c\",\"#2ca02c\",\"#2ca02c\",\"#2ca02c\",\"#ff7f0e\",\"#1f77b4\",\"#ff7f0e\",\"#d62728\",\"#d62728\",\"#2ca02c\",\"#2ca02c\",\"#1f77b4\",\"#2ca02c\",\"#2ca02c\",\"#1f77b4\",\"#2ca02c\",\"#ff7f0e\",\"#d62728\",\"#ff7f0e\",\"#2ca02c\",\"#ff7f0e\",\"#2ca02c\",\"#ff7f0e\",\"#ff7f0e\",\"#ff7f0e\",\"#2ca02c\",\"#ff7f0e\",\"#d62728\",\"#2ca02c\",\"#ff7f0e\",\"#2ca02c\",\"#2ca02c\",\"#d62728\",\"#ff7f0e\",\"#ff7f0e\",\"#d62728\",\"#2ca02c\",\"#d62728\",\"#ff7f0e\",\"#2ca02c\",\"#1f77b4\",\"#d62728\",\"#ff7f0e\",\"#ff7f0e\",\"#2ca02c\",\"#ff7f0e\",\"#ff7f0e\",\"#d62728\",\"#2ca02c\",\"#ff7f0e\",\"#2ca02c\",\"#ff7f0e\",\"#2ca02c\",\"#ff7f0e\",\"#d62728\",\"#1f77b4\",\"#2ca02c\",\"#ff7f0e\",\"#2ca02c\",\"#d62728\",\"#ff7f0e\",\"#ff7f0e\",\"#2ca02c\",\"#2ca02c\",\"#ff7f0e\",\"#ff7f0e\",\"#d62728\",\"#2ca02c\",\"#ff7f0e\",\"#1f77b4\",\"#d62728\",\"#2ca02c\",\"#d62728\",\"#d62728\",\"#1f77b4\",\"#2ca02c\",\"#2ca02c\",\"#d62728\",\"#2ca02c\",\"#d62728\",\"#2ca02c\",\"#2ca02c\",\"#ff7f0e\",\"#2ca02c\",\"#d62728\",\"#ff7f0e\",\"#1f77b4\",\"#ff7f0e\",\"#d62728\",\"#ff7f0e\",\"#2ca02c\",\"#d62728\",\"#2ca02c\",\"#2ca02c\",\"#ff7f0e\",\"#d62728\",\"#2ca02c\",\"#2ca02c\",\"#2ca02c\",\"#d62728\",\"#2ca02c\",\"#d62728\",\"#2ca02c\",\"#d62728\",\"#ff7f0e\",\"#d62728\",\"#ff7f0e\",\"#ff7f0e\",\"#d62728\",\"#d62728\",\"#2ca02c\",\"#d62728\",\"#ff7f0e\",\"#2ca02c\",\"#ff7f0e\",\"#d62728\",\"#ff7f0e\",\"#ff7f0e\",\"#2ca02c\",\"#ff7f0e\",\"#1f77b4\",\"#2ca02c\",\"#2ca02c\",\"#2ca02c\",\"#d62728\",\"#2ca02c\",\"#ff7f0e\",\"#2ca02c\",\"#d62728\",\"#ff7f0e\",\"#d62728\",\"#d62728\",\"#d62728\",\"#ff7f0e\",\"#ff7f0e\",\"#d62728\",\"#2ca02c\",\"#2ca02c\",\"#2ca02c\",\"#2ca02c\",\"#d62728\",\"#2ca02c\",\"#1f77b4\",\"#2ca02c\",\"#2ca02c\",\"#2ca02c\",\"#d62728\",\"#2ca02c\",\"#d62728\",\"#1f77b4\",\"#2ca02c\",\"#ff7f0e\",\"#2ca02c\",\"#ff7f0e\",\"#1f77b4\",\"#ff7f0e\",\"#d62728\",\"#2ca02c\",\"#2ca02c\",\"#d62728\",\"#1f77b4\",\"#d62728\",\"#2ca02c\",\"#d62728\",\"#ff7f0e\",\"#2ca02c\",\"#ff7f0e\",\"#d62728\",\"#ff7f0e\",\"#2ca02c\",\"#d62728\",\"#d62728\",\"#2ca02c\",\"#2ca02c\",\"#ff7f0e\",\"#2ca02c\",\"#d62728\",\"#2ca02c\",\"#d62728\",\"#1f77b4\",\"#2ca02c\",\"#d62728\",\"#2ca02c\",\"#1f77b4\",\"#ff7f0e\",\"#2ca02c\",\"#ff7f0e\",\"#ff7f0e\",\"#2ca02c\",\"#ff7f0e\",\"#2ca02c\",\"#2ca02c\",\"#2ca02c\",\"#2ca02c\",\"#2ca02c\",\"#2ca02c\",\"#d62728\",\"#d62728\",\"#ff7f0e\",\"#2ca02c\",\"#ff7f0e\",\"#2ca02c\",\"#2ca02c\",\"#2ca02c\",\"#2ca02c\",\"#ff7f0e\",\"#d62728\",\"#ff7f0e\",\"#2ca02c\",\"#d62728\",\"#ff7f0e\",\"#2ca02c\",\"#2ca02c\",\"#2ca02c\",\"#ff7f0e\",\"#2ca02c\",\"#d62728\",\"#2ca02c\",\"#ff7f0e\",\"#2ca02c\",\"#2ca02c\",\"#2ca02c\",\"#1f77b4\",\"#d62728\",\"#2ca02c\",\"#d62728\",\"#1f77b4\",\"#1f77b4\",\"#ff7f0e\",\"#2ca02c\",\"#2ca02c\",\"#2ca02c\",\"#2ca02c\",\"#ff7f0e\",\"#d62728\",\"#2ca02c\",\"#d62728\",\"#2ca02c\",\"#ff7f0e\",\"#2ca02c\",\"#2ca02c\",\"#2ca02c\",\"#2ca02c\",\"#2ca02c\",\"#2ca02c\",\"#2ca02c\",\"#2ca02c\",\"#ff7f0e\",\"#2ca02c\",\"#d62728\",\"#2ca02c\",\"#2ca02c\",\"#ff7f0e\",\"#1f77b4\",\"#1f77b4\",\"#ff7f0e\",\"#d62728\",\"#d62728\",\"#d62728\",\"#d62728\",\"#2ca02c\",\"#2ca02c\",\"#ff7f0e\",\"#1f77b4\",\"#2ca02c\",\"#1f77b4\",\"#ff7f0e\",\"#d62728\",\"#2ca02c\",\"#2ca02c\",\"#2ca02c\",\"#2ca02c\",\"#d62728\",\"#2ca02c\",\"#2ca02c\",\"#2ca02c\",\"#2ca02c\",\"#2ca02c\",\"#ff7f0e\",\"#2ca02c\",\"#ff7f0e\",\"#d62728\",\"#ff7f0e\",\"#2ca02c\",\"#2ca02c\",\"#d62728\",\"#ff7f0e\",\"#d62728\",\"#d62728\",\"#2ca02c\",\"#2ca02c\",\"#d62728\",\"#ff7f0e\",\"#2ca02c\",\"#ff7f0e\",\"#ff7f0e\",\"#2ca02c\",\"#d62728\",\"#d62728\",\"#1f77b4\",\"#2ca02c\",\"#ff7f0e\",\"#ff7f0e\",\"#ff7f0e\",\"#2ca02c\",\"#d62728\",\"#ff7f0e\",\"#ff7f0e\",\"#ff7f0e\",\"#2ca02c\",\"#2ca02c\",\"#d62728\",\"#ff7f0e\",\"#d62728\",\"#d62728\",\"#2ca02c\",\"#d62728\",\"#1f77b4\",\"#1f77b4\",\"#1f77b4\",\"#ff7f0e\",\"#2ca02c\",\"#ff7f0e\",\"#1f77b4\",\"#ff7f0e\",\"#2ca02c\",\"#2ca02c\",\"#d62728\",\"#d62728\",\"#2ca02c\",\"#2ca02c\",\"#ff7f0e\",\"#2ca02c\",\"#2ca02c\",\"#2ca02c\",\"#2ca02c\",\"#1f77b4\",\"#2ca02c\",\"#ff7f0e\",\"#ff7f0e\",\"#2ca02c\",\"#2ca02c\",\"#2ca02c\",\"#2ca02c\",\"#ff7f0e\",\"#2ca02c\",\"#2ca02c\",\"#1f77b4\",\"#ff7f0e\",\"#ff7f0e\",\"#2ca02c\",\"#d62728\",\"#ff7f0e\",\"#ff7f0e\",\"#d62728\",\"#2ca02c\",\"#2ca02c\",\"#2ca02c\",\"#ff7f0e\",\"#ff7f0e\",\"#d62728\",\"#2ca02c\",\"#ff7f0e\",\"#2ca02c\",\"#ff7f0e\",\"#d62728\",\"#2ca02c\",\"#ff7f0e\",\"#d62728\",\"#d62728\",\"#2ca02c\",\"#d62728\",\"#ff7f0e\",\"#d62728\",\"#ff7f0e\",\"#d62728\",\"#2ca02c\",\"#2ca02c\",\"#ff7f0e\",\"#ff7f0e\",\"#2ca02c\",\"#2ca02c\",\"#2ca02c\",\"#2ca02c\",\"#2ca02c\",\"#2ca02c\",\"#2ca02c\",\"#2ca02c\",\"#ff7f0e\",\"#1f77b4\",\"#d62728\",\"#ff7f0e\",\"#2ca02c\",\"#2ca02c\",\"#d62728\",\"#2ca02c\",\"#2ca02c\",\"#ff7f0e\",\"#ff7f0e\",\"#2ca02c\",\"#d62728\",\"#ff7f0e\",\"#ff7f0e\",\"#ff7f0e\",\"#d62728\",\"#2ca02c\",\"#d62728\",\"#2ca02c\",\"#2ca02c\",\"#ff7f0e\",\"#1f77b4\",\"#d62728\",\"#2ca02c\",\"#2ca02c\",\"#2ca02c\",\"#ff7f0e\",\"#d62728\",\"#2ca02c\",\"#2ca02c\",\"#2ca02c\",\"#d62728\",\"#ff7f0e\",\"#2ca02c\",\"#ff7f0e\",\"#1f77b4\",\"#d62728\",\"#ff7f0e\",\"#2ca02c\",\"#d62728\",\"#2ca02c\",\"#ff7f0e\",\"#2ca02c\",\"#2ca02c\",\"#ff7f0e\",\"#2ca02c\",\"#2ca02c\",\"#1f77b4\",\"#d62728\",\"#ff7f0e\",\"#1f77b4\",\"#2ca02c\",\"#2ca02c\",\"#1f77b4\",\"#2ca02c\",\"#ff7f0e\",\"#d62728\",\"#ff7f0e\",\"#2ca02c\",\"#2ca02c\",\"#ff7f0e\",\"#d62728\",\"#d62728\",\"#d62728\",\"#ff7f0e\",\"#2ca02c\",\"#d62728\",\"#2ca02c\",\"#2ca02c\",\"#2ca02c\",\"#2ca02c\",\"#2ca02c\",\"#ff7f0e\",\"#ff7f0e\",\"#d62728\",\"#2ca02c\",\"#ff7f0e\",\"#2ca02c\",\"#2ca02c\",\"#1f77b4\",\"#d62728\",\"#2ca02c\"],\"x\":{\"__ndarray__\":\"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\",\"dtype\":\"float32\",\"shape\":[1253]},\"y\":{\"__ndarray__\":\"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\",\"dtype\":\"float32\",\"shape\":[1253]}},\"selected\":{\"id\":\"1045\"},\"selection_policy\":{\"id\":\"1046\"}},\"id\":\"1035\",\"type\":\"ColumnDataSource\"},{\"attributes\":{\"axis\":{\"id\":\"1013\"},\"ticker\":null},\"id\":\"1016\",\"type\":\"Grid\"},{\"attributes\":{},\"id\":\"1007\",\"type\":\"DataRange1d\"}],\"root_ids\":[\"1002\"]},\"title\":\"Bokeh Application\",\"version\":\"2.0.2\"}};\n",
       "  var render_items = [{\"docid\":\"07742776-0b1a-4a4b-a2c1-e018202088a6\",\"root_ids\":[\"1002\"],\"roots\":{\"1002\":\"b42d030f-c2ff-4492-b811-dc5590402b9b\"}}];\n",
       "  root.Bokeh.embed.embed_items_notebook(docs_json, render_items);\n",
       "\n",
       "  }\n",
       "  if (root.Bokeh !== undefined) {\n",
       "    embed_document(root);\n",
       "  } else {\n",
       "    var attempts = 0;\n",
       "    var timer = setInterval(function(root) {\n",
       "      if (root.Bokeh !== undefined) {\n",
       "        clearInterval(timer);\n",
       "        embed_document(root);\n",
       "      } else {\n",
       "        attempts++;\n",
       "        if (attempts > 100) {\n",
       "          clearInterval(timer);\n",
       "          console.log(\"Bokeh: ERROR: Unable to run BokehJS code because BokehJS library is missing\");\n",
       "        }\n",
       "      }\n",
       "    }, 10, root)\n",
       "  }\n",
       "})(window);"
      ],
      "application/vnd.bokehjs_exec.v0+json": ""
     },
     "metadata": {
      "application/vnd.bokehjs_exec.v0+json": {
       "id": "1002"
      }
     },
     "output_type": "display_data"
    },
    {
     "data": {
      "text/html": [
       "\n",
       "\n",
       "\n",
       "\n",
       "\n",
       "\n",
       "  <div class=\"bk-root\" id=\"ceaccedc-a43a-47a5-8c80-1f6f6363252f\" data-root-id=\"1096\"></div>\n"
      ]
     },
     "metadata": {},
     "output_type": "display_data"
    },
    {
     "data": {
      "application/javascript": [
       "(function(root) {\n",
       "  function embed_document(root) {\n",
       "    \n",
       "  var docs_json = {\"1c1661bb-db69-48fe-885d-393b9794de8d\":{\"roots\":{\"references\":[{\"attributes\":{\"below\":[{\"id\":\"1107\"}],\"center\":[{\"id\":\"1110\"},{\"id\":\"1114\"}],\"left\":[{\"id\":\"1111\"}],\"plot_height\":700,\"plot_width\":900,\"renderers\":[{\"id\":\"1132\"}],\"title\":{\"id\":\"1097\"},\"toolbar\":{\"id\":\"1122\"},\"x_range\":{\"id\":\"1099\"},\"x_scale\":{\"id\":\"1103\"},\"y_range\":{\"id\":\"1101\"},\"y_scale\":{\"id\":\"1105\"}},\"id\":\"1096\",\"subtype\":\"Figure\",\"type\":\"Plot\"},{\"attributes\":{\"bottom_units\":\"screen\",\"fill_alpha\":0.5,\"fill_color\":\"lightgrey\",\"left_units\":\"screen\",\"level\":\"overlay\",\"line_alpha\":1.0,\"line_color\":\"black\",\"line_dash\":[4,4],\"line_width\":2,\"render_mode\":\"css\",\"right_units\":\"screen\",\"top_units\":\"screen\"},\"id\":\"1121\",\"type\":\"BoxAnnotation\"},{\"attributes\":{\"text\":\"t-SNE Clustering of Program Directors\"},\"id\":\"1097\",\"type\":\"Title\"},{\"attributes\":{\"active_drag\":\"auto\",\"active_inspect\":\"auto\",\"active_multi\":null,\"active_scroll\":\"auto\",\"active_tap\":\"auto\",\"tools\":[{\"id\":\"1115\"},{\"id\":\"1116\"},{\"id\":\"1117\"},{\"id\":\"1118\"},{\"id\":\"1119\"},{\"id\":\"1120\"}]},\"id\":\"1122\",\"type\":\"Toolbar\"},{\"attributes\":{},\"id\":\"1099\",\"type\":\"DataRange1d\"},{\"attributes\":{},\"id\":\"1116\",\"type\":\"WheelZoomTool\"},{\"attributes\":{},\"id\":\"1101\",\"type\":\"DataRange1d\"},{\"attributes\":{},\"id\":\"1115\",\"type\":\"PanTool\"},{\"attributes\":{},\"id\":\"1112\",\"type\":\"BasicTicker\"},{\"attributes\":{\"data\":{\"fill_color\":[\"#2ca02c\",\"#ff7f0e\",\"#d62728\",\"#d62728\",\"#1f77b4\",\"#ff7f0e\",\"#d62728\",\"#1f77b4\",\"#ff7f0e\",\"#ff7f0e\",\"#1f77b4\",\"#d62728\",\"#d62728\",\"#ff7f0e\",\"#2ca02c\",\"#1f77b4\",\"#d62728\",\"#ff7f0e\",\"#1f77b4\",\"#2ca02c\",\"#1f77b4\",\"#ff7f0e\",\"#2ca02c\",\"#2ca02c\",\"#d62728\",\"#d62728\",\"#ff7f0e\",\"#ff7f0e\",\"#ff7f0e\",\"#d62728\",\"#1f77b4\",\"#d62728\",\"#2ca02c\",\"#2ca02c\",\"#d62728\",\"#ff7f0e\",\"#ff7f0e\",\"#1f77b4\",\"#d62728\",\"#2ca02c\",\"#d62728\",\"#ff7f0e\",\"#ff7f0e\",\"#ff7f0e\",\"#2ca02c\",\"#1f77b4\",\"#d62728\",\"#1f77b4\",\"#d62728\",\"#d62728\",\"#2ca02c\",\"#ff7f0e\",\"#d62728\",\"#ff7f0e\",\"#d62728\",\"#1f77b4\",\"#2ca02c\",\"#d62728\",\"#1f77b4\",\"#1f77b4\",\"#2ca02c\",\"#2ca02c\",\"#ff7f0e\",\"#ff7f0e\",\"#ff7f0e\",\"#d62728\",\"#ff7f0e\",\"#ff7f0e\",\"#ff7f0e\",\"#2ca02c\",\"#d62728\",\"#d62728\",\"#1f77b4\",\"#ff7f0e\",\"#d62728\",\"#ff7f0e\",\"#1f77b4\",\"#ff7f0e\",\"#d62728\",\"#ff7f0e\",\"#d62728\",\"#d62728\",\"#ff7f0e\",\"#d62728\",\"#ff7f0e\",\"#1f77b4\",\"#1f77b4\",\"#ff7f0e\",\"#ff7f0e\",\"#d62728\",\"#d62728\",\"#d62728\",\"#1f77b4\",\"#ff7f0e\",\"#1f77b4\",\"#d62728\",\"#d62728\",\"#d62728\",\"#ff7f0e\",\"#1f77b4\",\"#d62728\",\"#ff7f0e\",\"#d62728\",\"#d62728\",\"#1f77b4\",\"#ff7f0e\",\"#1f77b4\",\"#1f77b4\",\"#2ca02c\",\"#1f77b4\",\"#1f77b4\",\"#2ca02c\",\"#1f77b4\",\"#2ca02c\",\"#ff7f0e\",\"#ff7f0e\",\"#1f77b4\",\"#1f77b4\",\"#ff7f0e\",\"#1f77b4\",\"#d62728\",\"#ff7f0e\",\"#d62728\",\"#ff7f0e\",\"#ff7f0e\",\"#1f77b4\",\"#d62728\",\"#1f77b4\",\"#1f77b4\",\"#1f77b4\",\"#ff7f0e\",\"#ff7f0e\",\"#1f77b4\",\"#d62728\",\"#2ca02c\",\"#1f77b4\",\"#1f77b4\",\"#d62728\",\"#ff7f0e\",\"#1f77b4\",\"#ff7f0e\",\"#ff7f0e\",\"#ff7f0e\",\"#d62728\",\"#ff7f0e\",\"#ff7f0e\",\"#d62728\",\"#d62728\",\"#d62728\",\"#ff7f0e\",\"#d62728\",\"#2ca02c\",\"#d62728\",\"#d62728\",\"#2ca02c\",\"#1f77b4\",\"#2ca02c\",\"#d62728\",\"#1f77b4\",\"#ff7f0e\",\"#1f77b4\",\"#2ca02c\",\"#d62728\",\"#d62728\",\"#ff7f0e\",\"#1f77b4\",\"#1f77b4\",\"#d62728\",\"#ff7f0e\",\"#ff7f0e\",\"#1f77b4\",\"#2ca02c\",\"#1f77b4\",\"#d62728\",\"#1f77b4\",\"#2ca02c\",\"#d62728\",\"#ff7f0e\",\"#d62728\",\"#d62728\",\"#d62728\",\"#d62728\",\"#1f77b4\",\"#1f77b4\",\"#2ca02c\",\"#ff7f0e\",\"#d62728\",\"#1f77b4\",\"#1f77b4\",\"#ff7f0e\",\"#ff7f0e\",\"#d62728\",\"#ff7f0e\",\"#d62728\",\"#d62728\",\"#ff7f0e\",\"#1f77b4\",\"#ff7f0e\",\"#d62728\",\"#ff7f0e\",\"#d62728\",\"#d62728\",\"#d62728\",\"#ff7f0e\",\"#d62728\",\"#d62728\",\"#ff7f0e\",\"#d62728\",\"#d62728\",\"#ff7f0e\",\"#1f77b4\",\"#ff7f0e\",\"#ff7f0e\",\"#d62728\",\"#d62728\",\"#d62728\",\"#ff7f0e\",\"#d62728\",\"#2ca02c\",\"#d62728\",\"#d62728\",\"#1f77b4\",\"#d62728\",\"#d62728\",\"#2ca02c\",\"#d62728\",\"#ff7f0e\",\"#2ca02c\",\"#d62728\",\"#1f77b4\",\"#d62728\",\"#2ca02c\",\"#2ca02c\",\"#2ca02c\",\"#2ca02c\",\"#ff7f0e\",\"#ff7f0e\",\"#d62728\",\"#d62728\",\"#ff7f0e\",\"#1f77b4\",\"#d62728\",\"#d62728\",\"#ff7f0e\",\"#ff7f0e\",\"#d62728\",\"#d62728\",\"#ff7f0e\",\"#1f77b4\",\"#d62728\",\"#1f77b4\",\"#2ca02c\",\"#ff7f0e\",\"#d62728\",\"#1f77b4\",\"#d62728\",\"#d62728\",\"#ff7f0e\",\"#1f77b4\",\"#ff7f0e\",\"#ff7f0e\",\"#ff7f0e\",\"#1f77b4\",\"#1f77b4\",\"#ff7f0e\",\"#1f77b4\",\"#ff7f0e\",\"#1f77b4\",\"#2ca02c\",\"#d62728\",\"#ff7f0e\",\"#ff7f0e\",\"#1f77b4\",\"#2ca02c\",\"#2ca02c\",\"#1f77b4\",\"#1f77b4\",\"#ff7f0e\",\"#2ca02c\",\"#2ca02c\",\"#d62728\",\"#d62728\",\"#d62728\",\"#1f77b4\",\"#d62728\",\"#1f77b4\",\"#d62728\",\"#ff7f0e\",\"#1f77b4\",\"#ff7f0e\",\"#d62728\",\"#d62728\",\"#2ca02c\",\"#1f77b4\",\"#1f77b4\",\"#d62728\",\"#d62728\",\"#ff7f0e\",\"#d62728\",\"#d62728\",\"#d62728\",\"#d62728\",\"#ff7f0e\",\"#ff7f0e\",\"#2ca02c\",\"#d62728\",\"#1f77b4\",\"#d62728\",\"#1f77b4\",\"#ff7f0e\",\"#ff7f0e\",\"#ff7f0e\",\"#ff7f0e\",\"#ff7f0e\",\"#d62728\",\"#ff7f0e\",\"#ff7f0e\",\"#2ca02c\",\"#ff7f0e\",\"#1f77b4\",\"#ff7f0e\",\"#ff7f0e\",\"#2ca02c\",\"#ff7f0e\",\"#2ca02c\",\"#ff7f0e\",\"#1f77b4\",\"#1f77b4\",\"#ff7f0e\",\"#2ca02c\",\"#ff7f0e\",\"#d62728\",\"#d62728\",\"#1f77b4\",\"#d62728\",\"#ff7f0e\",\"#1f77b4\",\"#1f77b4\",\"#d62728\",\"#1f77b4\",\"#1f77b4\",\"#ff7f0e\",\"#ff7f0e\",\"#d62728\",\"#ff7f0e\",\"#1f77b4\",\"#1f77b4\",\"#d62728\",\"#1f77b4\",\"#1f77b4\",\"#ff7f0e\",\"#d62728\",\"#1f77b4\",\"#ff7f0e\",\"#d62728\",\"#2ca02c\",\"#1f77b4\",\"#2ca02c\",\"#ff7f0e\",\"#2ca02c\",\"#d62728\",\"#2ca02c\",\"#d62728\",\"#d62728\",\"#d62728\",\"#ff7f0e\",\"#d62728\",\"#2ca02c\",\"#d62728\",\"#d62728\",\"#ff7f0e\",\"#ff7f0e\",\"#ff7f0e\",\"#d62728\",\"#2ca02c\",\"#d62728\",\"#ff7f0e\",\"#d62728\",\"#d62728\",\"#2ca02c\",\"#2ca02c\",\"#2ca02c\",\"#1f77b4\",\"#1f77b4\",\"#2ca02c\",\"#d62728\",\"#d62728\",\"#ff7f0e\",\"#d62728\",\"#d62728\",\"#2ca02c\",\"#ff7f0e\",\"#ff7f0e\",\"#d62728\",\"#ff7f0e\",\"#ff7f0e\",\"#1f77b4\",\"#ff7f0e\",\"#2ca02c\",\"#2ca02c\",\"#ff7f0e\",\"#ff7f0e\",\"#d62728\",\"#d62728\",\"#ff7f0e\",\"#d62728\",\"#d62728\",\"#ff7f0e\",\"#1f77b4\",\"#2ca02c\",\"#d62728\",\"#2ca02c\",\"#1f77b4\",\"#d62728\",\"#d62728\",\"#ff7f0e\",\"#2ca02c\",\"#ff7f0e\",\"#d62728\",\"#1f77b4\",\"#d62728\",\"#2ca02c\",\"#d62728\",\"#2ca02c\",\"#2ca02c\",\"#ff7f0e\",\"#1f77b4\",\"#d62728\",\"#ff7f0e\",\"#1f77b4\",\"#d62728\",\"#d62728\",\"#1f77b4\",\"#1f77b4\",\"#d62728\",\"#d62728\",\"#ff7f0e\",\"#d62728\",\"#ff7f0e\",\"#d62728\",\"#d62728\",\"#1f77b4\",\"#d62728\",\"#2ca02c\",\"#2ca02c\",\"#2ca02c\",\"#d62728\",\"#d62728\",\"#2ca02c\",\"#d62728\",\"#d62728\",\"#d62728\",\"#d62728\",\"#2ca02c\",\"#1f77b4\",\"#1f77b4\",\"#2ca02c\",\"#ff7f0e\",\"#ff7f0e\",\"#ff7f0e\",\"#2ca02c\",\"#d62728\",\"#2ca02c\",\"#1f77b4\",\"#d62728\",\"#d62728\",\"#2ca02c\",\"#2ca02c\",\"#d62728\",\"#2ca02c\",\"#ff7f0e\",\"#2ca02c\",\"#ff7f0e\",\"#d62728\",\"#2ca02c\",\"#ff7f0e\",\"#1f77b4\",\"#1f77b4\",\"#ff7f0e\",\"#ff7f0e\",\"#ff7f0e\",\"#ff7f0e\",\"#1f77b4\",\"#d62728\",\"#ff7f0e\",\"#1f77b4\",\"#1f77b4\",\"#1f77b4\",\"#d62728\",\"#d62728\",\"#d62728\",\"#1f77b4\",\"#ff7f0e\",\"#1f77b4\",\"#ff7f0e\",\"#ff7f0e\",\"#1f77b4\",\"#ff7f0e\",\"#d62728\",\"#d62728\",\"#ff7f0e\",\"#ff7f0e\",\"#d62728\",\"#d62728\",\"#d62728\",\"#d62728\",\"#1f77b4\",\"#2ca02c\",\"#d62728\",\"#d62728\",\"#d62728\",\"#ff7f0e\",\"#1f77b4\",\"#d62728\",\"#ff7f0e\",\"#d62728\",\"#1f77b4\",\"#ff7f0e\",\"#d62728\",\"#d62728\",\"#d62728\",\"#d62728\",\"#d62728\",\"#2ca02c\",\"#1f77b4\",\"#2ca02c\",\"#ff7f0e\",\"#d62728\",\"#1f77b4\",\"#d62728\",\"#d62728\",\"#1f77b4\",\"#d62728\",\"#1f77b4\",\"#1f77b4\",\"#1f77b4\",\"#ff7f0e\",\"#1f77b4\",\"#1f77b4\",\"#d62728\",\"#d62728\",\"#ff7f0e\",\"#ff7f0e\",\"#2ca02c\",\"#2ca02c\",\"#2ca02c\",\"#d62728\",\"#1f77b4\",\"#2ca02c\",\"#d62728\",\"#1f77b4\",\"#2ca02c\",\"#ff7f0e\",\"#d62728\",\"#2ca02c\",\"#ff7f0e\",\"#d62728\",\"#1f77b4\",\"#d62728\",\"#d62728\",\"#d62728\",\"#ff7f0e\",\"#ff7f0e\",\"#ff7f0e\",\"#1f77b4\",\"#d62728\",\"#ff7f0e\",\"#ff7f0e\",\"#2ca02c\",\"#1f77b4\",\"#1f77b4\",\"#d62728\",\"#ff7f0e\",\"#d62728\",\"#2ca02c\",\"#1f77b4\",\"#2ca02c\",\"#d62728\",\"#ff7f0e\",\"#d62728\",\"#1f77b4\",\"#ff7f0e\",\"#d62728\",\"#d62728\",\"#1f77b4\",\"#1f77b4\",\"#ff7f0e\",\"#1f77b4\",\"#d62728\",\"#ff7f0e\",\"#2ca02c\",\"#1f77b4\",\"#ff7f0e\",\"#d62728\",\"#ff7f0e\",\"#d62728\",\"#ff7f0e\",\"#d62728\",\"#1f77b4\",\"#d62728\",\"#ff7f0e\",\"#d62728\",\"#1f77b4\",\"#d62728\",\"#ff7f0e\",\"#d62728\",\"#d62728\",\"#d62728\",\"#ff7f0e\",\"#2ca02c\",\"#1f77b4\",\"#1f77b4\",\"#2ca02c\",\"#ff7f0e\",\"#ff7f0e\",\"#ff7f0e\",\"#d62728\",\"#1f77b4\",\"#d62728\",\"#2ca02c\",\"#2ca02c\",\"#2ca02c\",\"#d62728\",\"#ff7f0e\",\"#ff7f0e\",\"#2ca02c\",\"#d62728\",\"#2ca02c\",\"#1f77b4\",\"#ff7f0e\",\"#1f77b4\",\"#ff7f0e\",\"#d62728\",\"#1f77b4\",\"#ff7f0e\",\"#2ca02c\",\"#1f77b4\",\"#ff7f0e\",\"#d62728\",\"#ff7f0e\",\"#2ca02c\",\"#d62728\",\"#2ca02c\",\"#1f77b4\",\"#ff7f0e\",\"#2ca02c\",\"#2ca02c\",\"#ff7f0e\",\"#2ca02c\",\"#2ca02c\",\"#ff7f0e\",\"#1f77b4\",\"#d62728\",\"#d62728\",\"#1f77b4\",\"#ff7f0e\",\"#1f77b4\",\"#d62728\",\"#ff7f0e\",\"#ff7f0e\",\"#1f77b4\",\"#d62728\",\"#ff7f0e\",\"#1f77b4\",\"#d62728\",\"#2ca02c\",\"#2ca02c\",\"#ff7f0e\",\"#1f77b4\",\"#d62728\",\"#1f77b4\",\"#ff7f0e\",\"#2ca02c\",\"#ff7f0e\",\"#d62728\",\"#1f77b4\",\"#d62728\",\"#2ca02c\",\"#ff7f0e\",\"#2ca02c\",\"#1f77b4\",\"#d62728\",\"#d62728\",\"#2ca02c\",\"#ff7f0e\",\"#ff7f0e\",\"#d62728\",\"#d62728\",\"#ff7f0e\",\"#1f77b4\",\"#ff7f0e\",\"#2ca02c\",\"#d62728\",\"#ff7f0e\",\"#2ca02c\",\"#1f77b4\",\"#2ca02c\",\"#d62728\",\"#2ca02c\",\"#d62728\",\"#1f77b4\",\"#ff7f0e\",\"#d62728\",\"#d62728\",\"#2ca02c\",\"#2ca02c\",\"#d62728\",\"#d62728\",\"#d62728\",\"#2ca02c\",\"#d62728\",\"#2ca02c\",\"#d62728\",\"#d62728\",\"#ff7f0e\",\"#1f77b4\",\"#1f77b4\",\"#ff7f0e\",\"#d62728\",\"#1f77b4\",\"#d62728\",\"#d62728\",\"#ff7f0e\",\"#2ca02c\",\"#d62728\",\"#1f77b4\",\"#ff7f0e\",\"#ff7f0e\",\"#ff7f0e\",\"#d62728\",\"#1f77b4\",\"#ff7f0e\",\"#d62728\",\"#2ca02c\",\"#d62728\",\"#1f77b4\",\"#1f77b4\",\"#1f77b4\",\"#d62728\",\"#d62728\",\"#d62728\",\"#ff7f0e\",\"#d62728\",\"#ff7f0e\",\"#d62728\",\"#2ca02c\",\"#d62728\",\"#d62728\",\"#ff7f0e\",\"#ff7f0e\",\"#d62728\",\"#2ca02c\",\"#1f77b4\",\"#2ca02c\",\"#2ca02c\",\"#2ca02c\",\"#1f77b4\",\"#d62728\",\"#ff7f0e\",\"#2ca02c\",\"#1f77b4\",\"#ff7f0e\",\"#d62728\",\"#2ca02c\",\"#d62728\",\"#ff7f0e\",\"#d62728\",\"#1f77b4\",\"#d62728\",\"#ff7f0e\",\"#d62728\",\"#ff7f0e\",\"#d62728\",\"#d62728\",\"#d62728\",\"#1f77b4\",\"#d62728\",\"#1f77b4\",\"#2ca02c\",\"#1f77b4\",\"#2ca02c\",\"#1f77b4\",\"#ff7f0e\",\"#ff7f0e\",\"#d62728\",\"#ff7f0e\",\"#1f77b4\",\"#2ca02c\",\"#2ca02c\",\"#1f77b4\",\"#ff7f0e\",\"#ff7f0e\",\"#ff7f0e\",\"#d62728\",\"#1f77b4\",\"#1f77b4\",\"#d62728\",\"#2ca02c\",\"#ff7f0e\",\"#ff7f0e\",\"#d62728\",\"#d62728\",\"#d62728\",\"#2ca02c\",\"#1f77b4\",\"#2ca02c\",\"#1f77b4\",\"#2ca02c\",\"#1f77b4\",\"#ff7f0e\",\"#d62728\",\"#d62728\",\"#d62728\",\"#d62728\",\"#d62728\",\"#2ca02c\",\"#d62728\",\"#ff7f0e\",\"#d62728\",\"#1f77b4\",\"#1f77b4\",\"#2ca02c\",\"#d62728\",\"#d62728\",\"#1f77b4\",\"#d62728\",\"#1f77b4\",\"#d62728\",\"#2ca02c\",\"#1f77b4\",\"#2ca02c\",\"#d62728\",\"#2ca02c\",\"#d62728\",\"#ff7f0e\",\"#1f77b4\",\"#1f77b4\",\"#d62728\",\"#d62728\",\"#1f77b4\",\"#d62728\",\"#ff7f0e\",\"#2ca02c\",\"#2ca02c\",\"#ff7f0e\",\"#ff7f0e\",\"#d62728\",\"#1f77b4\",\"#1f77b4\",\"#2ca02c\",\"#d62728\",\"#1f77b4\",\"#d62728\",\"#ff7f0e\",\"#ff7f0e\",\"#1f77b4\",\"#2ca02c\",\"#d62728\",\"#2ca02c\",\"#1f77b4\",\"#ff7f0e\",\"#ff7f0e\",\"#ff7f0e\",\"#ff7f0e\",\"#d62728\",\"#2ca02c\",\"#1f77b4\",\"#1f77b4\",\"#d62728\",\"#2ca02c\",\"#2ca02c\",\"#d62728\",\"#d62728\",\"#d62728\",\"#d62728\",\"#ff7f0e\",\"#d62728\",\"#1f77b4\",\"#ff7f0e\",\"#ff7f0e\",\"#ff7f0e\",\"#ff7f0e\",\"#1f77b4\",\"#ff7f0e\",\"#1f77b4\",\"#ff7f0e\",\"#d62728\",\"#d62728\",\"#1f77b4\",\"#ff7f0e\",\"#d62728\",\"#ff7f0e\",\"#ff7f0e\",\"#1f77b4\",\"#1f77b4\",\"#1f77b4\",\"#d62728\",\"#1f77b4\",\"#d62728\",\"#1f77b4\",\"#2ca02c\",\"#d62728\",\"#1f77b4\",\"#2ca02c\",\"#2ca02c\",\"#2ca02c\",\"#d62728\",\"#2ca02c\",\"#2ca02c\",\"#2ca02c\",\"#1f77b4\",\"#2ca02c\",\"#1f77b4\",\"#ff7f0e\",\"#1f77b4\",\"#1f77b4\",\"#1f77b4\",\"#ff7f0e\",\"#ff7f0e\",\"#1f77b4\",\"#d62728\",\"#1f77b4\",\"#ff7f0e\",\"#2ca02c\",\"#2ca02c\",\"#d62728\",\"#d62728\",\"#2ca02c\",\"#1f77b4\",\"#d62728\",\"#d62728\",\"#d62728\",\"#ff7f0e\",\"#d62728\",\"#2ca02c\",\"#d62728\",\"#d62728\",\"#d62728\",\"#ff7f0e\",\"#d62728\",\"#d62728\",\"#1f77b4\",\"#ff7f0e\",\"#1f77b4\",\"#ff7f0e\",\"#ff7f0e\",\"#1f77b4\",\"#ff7f0e\",\"#1f77b4\",\"#ff7f0e\",\"#2ca02c\",\"#1f77b4\",\"#d62728\",\"#d62728\",\"#ff7f0e\",\"#1f77b4\",\"#2ca02c\",\"#d62728\",\"#d62728\",\"#d62728\",\"#1f77b4\",\"#d62728\",\"#ff7f0e\",\"#1f77b4\",\"#2ca02c\",\"#2ca02c\",\"#1f77b4\",\"#d62728\",\"#1f77b4\",\"#1f77b4\",\"#d62728\",\"#1f77b4\",\"#2ca02c\",\"#ff7f0e\",\"#1f77b4\",\"#ff7f0e\",\"#d62728\",\"#d62728\",\"#2ca02c\",\"#ff7f0e\",\"#1f77b4\",\"#d62728\",\"#d62728\",\"#1f77b4\",\"#ff7f0e\",\"#d62728\",\"#ff7f0e\",\"#1f77b4\",\"#d62728\",\"#d62728\",\"#2ca02c\",\"#ff7f0e\",\"#1f77b4\",\"#ff7f0e\",\"#ff7f0e\",\"#ff7f0e\",\"#1f77b4\",\"#2ca02c\",\"#d62728\",\"#1f77b4\",\"#d62728\",\"#d62728\",\"#ff7f0e\",\"#2ca02c\",\"#d62728\",\"#ff7f0e\",\"#ff7f0e\",\"#d62728\",\"#d62728\",\"#1f77b4\",\"#d62728\",\"#ff7f0e\",\"#1f77b4\",\"#ff7f0e\",\"#ff7f0e\",\"#ff7f0e\",\"#ff7f0e\",\"#d62728\",\"#ff7f0e\",\"#1f77b4\",\"#2ca02c\",\"#d62728\",\"#d62728\",\"#ff7f0e\",\"#ff7f0e\",\"#d62728\",\"#ff7f0e\",\"#1f77b4\",\"#ff7f0e\",\"#d62728\",\"#d62728\",\"#d62728\",\"#d62728\",\"#2ca02c\",\"#2ca02c\",\"#d62728\",\"#1f77b4\",\"#1f77b4\",\"#1f77b4\",\"#d62728\",\"#ff7f0e\",\"#1f77b4\",\"#ff7f0e\",\"#1f77b4\",\"#2ca02c\",\"#d62728\",\"#ff7f0e\",\"#1f77b4\",\"#d62728\",\"#ff7f0e\",\"#d62728\",\"#2ca02c\",\"#d62728\",\"#2ca02c\",\"#1f77b4\",\"#d62728\",\"#d62728\",\"#1f77b4\",\"#ff7f0e\",\"#2ca02c\",\"#1f77b4\",\"#2ca02c\",\"#d62728\",\"#ff7f0e\",\"#d62728\",\"#1f77b4\",\"#d62728\",\"#d62728\",\"#2ca02c\",\"#2ca02c\",\"#1f77b4\",\"#ff7f0e\",\"#ff7f0e\",\"#d62728\",\"#1f77b4\",\"#ff7f0e\",\"#d62728\",\"#1f77b4\",\"#d62728\",\"#d62728\",\"#ff7f0e\",\"#1f77b4\",\"#d62728\",\"#1f77b4\",\"#d62728\",\"#d62728\",\"#ff7f0e\",\"#ff7f0e\",\"#d62728\",\"#1f77b4\",\"#2ca02c\",\"#1f77b4\",\"#2ca02c\",\"#ff7f0e\",\"#1f77b4\",\"#1f77b4\",\"#d62728\",\"#ff7f0e\",\"#1f77b4\",\"#2ca02c\",\"#d62728\",\"#d62728\",\"#2ca02c\",\"#d62728\",\"#1f77b4\",\"#1f77b4\",\"#d62728\",\"#ff7f0e\",\"#ff7f0e\",\"#1f77b4\",\"#1f77b4\",\"#d62728\",\"#d62728\",\"#d62728\",\"#ff7f0e\",\"#ff7f0e\",\"#ff7f0e\",\"#ff7f0e\",\"#2ca02c\",\"#ff7f0e\",\"#d62728\",\"#d62728\",\"#ff7f0e\",\"#2ca02c\",\"#1f77b4\",\"#2ca02c\",\"#1f77b4\",\"#ff7f0e\",\"#d62728\",\"#2ca02c\",\"#2ca02c\",\"#1f77b4\",\"#d62728\",\"#ff7f0e\",\"#d62728\",\"#1f77b4\",\"#d62728\",\"#2ca02c\",\"#d62728\",\"#2ca02c\",\"#d62728\",\"#d62728\",\"#1f77b4\",\"#d62728\",\"#2ca02c\",\"#ff7f0e\",\"#d62728\",\"#2ca02c\",\"#d62728\",\"#d62728\",\"#1f77b4\",\"#1f77b4\",\"#d62728\",\"#d62728\",\"#d62728\",\"#ff7f0e\",\"#d62728\",\"#d62728\",\"#d62728\",\"#ff7f0e\",\"#ff7f0e\",\"#1f77b4\",\"#1f77b4\",\"#d62728\",\"#2ca02c\",\"#d62728\",\"#d62728\",\"#d62728\",\"#1f77b4\",\"#ff7f0e\",\"#2ca02c\",\"#d62728\",\"#ff7f0e\",\"#d62728\",\"#ff7f0e\",\"#d62728\",\"#ff7f0e\",\"#d62728\",\"#ff7f0e\",\"#d62728\",\"#2ca02c\",\"#ff7f0e\",\"#ff7f0e\",\"#1f77b4\",\"#d62728\",\"#1f77b4\",\"#d62728\",\"#d62728\",\"#ff7f0e\",\"#2ca02c\",\"#d62728\",\"#d62728\",\"#d62728\",\"#ff7f0e\",\"#ff7f0e\",\"#ff7f0e\",\"#d62728\",\"#d62728\",\"#ff7f0e\",\"#ff7f0e\",\"#ff7f0e\",\"#2ca02c\",\"#1f77b4\",\"#2ca02c\",\"#ff7f0e\",\"#1f77b4\",\"#d62728\",\"#1f77b4\",\"#1f77b4\",\"#ff7f0e\",\"#1f77b4\",\"#d62728\",\"#d62728\",\"#2ca02c\",\"#2ca02c\",\"#ff7f0e\",\"#2ca02c\",\"#d62728\",\"#d62728\",\"#ff7f0e\",\"#d62728\",\"#1f77b4\",\"#d62728\",\"#1f77b4\",\"#d62728\",\"#2ca02c\",\"#1f77b4\",\"#1f77b4\",\"#d62728\",\"#d62728\",\"#2ca02c\",\"#2ca02c\",\"#d62728\",\"#d62728\",\"#1f77b4\",\"#d62728\",\"#d62728\",\"#ff7f0e\",\"#ff7f0e\",\"#d62728\",\"#2ca02c\",\"#2ca02c\",\"#2ca02c\",\"#d62728\",\"#1f77b4\",\"#1f77b4\",\"#ff7f0e\",\"#2ca02c\",\"#d62728\",\"#d62728\",\"#d62728\",\"#ff7f0e\",\"#2ca02c\"],\"line_color\":[\"#2ca02c\",\"#ff7f0e\",\"#d62728\",\"#d62728\",\"#1f77b4\",\"#ff7f0e\",\"#d62728\",\"#1f77b4\",\"#ff7f0e\",\"#ff7f0e\",\"#1f77b4\",\"#d62728\",\"#d62728\",\"#ff7f0e\",\"#2ca02c\",\"#1f77b4\",\"#d62728\",\"#ff7f0e\",\"#1f77b4\",\"#2ca02c\",\"#1f77b4\",\"#ff7f0e\",\"#2ca02c\",\"#2ca02c\",\"#d62728\",\"#d62728\",\"#ff7f0e\",\"#ff7f0e\",\"#ff7f0e\",\"#d62728\",\"#1f77b4\",\"#d62728\",\"#2ca02c\",\"#2ca02c\",\"#d62728\",\"#ff7f0e\",\"#ff7f0e\",\"#1f77b4\",\"#d62728\",\"#2ca02c\",\"#d62728\",\"#ff7f0e\",\"#ff7f0e\",\"#ff7f0e\",\"#2ca02c\",\"#1f77b4\",\"#d62728\",\"#1f77b4\",\"#d62728\",\"#d62728\",\"#2ca02c\",\"#ff7f0e\",\"#d62728\",\"#ff7f0e\",\"#d62728\",\"#1f77b4\",\"#2ca02c\",\"#d62728\",\"#1f77b4\",\"#1f77b4\",\"#2ca02c\",\"#2ca02c\",\"#ff7f0e\",\"#ff7f0e\",\"#ff7f0e\",\"#d62728\",\"#ff7f0e\",\"#ff7f0e\",\"#ff7f0e\",\"#2ca02c\",\"#d62728\",\"#d62728\",\"#1f77b4\",\"#ff7f0e\",\"#d62728\",\"#ff7f0e\",\"#1f77b4\",\"#ff7f0e\",\"#d62728\",\"#ff7f0e\",\"#d62728\",\"#d62728\",\"#ff7f0e\",\"#d62728\",\"#ff7f0e\",\"#1f77b4\",\"#1f77b4\",\"#ff7f0e\",\"#ff7f0e\",\"#d62728\",\"#d62728\",\"#d62728\",\"#1f77b4\",\"#ff7f0e\",\"#1f77b4\",\"#d62728\",\"#d62728\",\"#d62728\",\"#ff7f0e\",\"#1f77b4\",\"#d62728\",\"#ff7f0e\",\"#d62728\",\"#d62728\",\"#1f77b4\",\"#ff7f0e\",\"#1f77b4\",\"#1f77b4\",\"#2ca02c\",\"#1f77b4\",\"#1f77b4\",\"#2ca02c\",\"#1f77b4\",\"#2ca02c\",\"#ff7f0e\",\"#ff7f0e\",\"#1f77b4\",\"#1f77b4\",\"#ff7f0e\",\"#1f77b4\",\"#d62728\",\"#ff7f0e\",\"#d62728\",\"#ff7f0e\",\"#ff7f0e\",\"#1f77b4\",\"#d62728\",\"#1f77b4\",\"#1f77b4\",\"#1f77b4\",\"#ff7f0e\",\"#ff7f0e\",\"#1f77b4\",\"#d62728\",\"#2ca02c\",\"#1f77b4\",\"#1f77b4\",\"#d62728\",\"#ff7f0e\",\"#1f77b4\",\"#ff7f0e\",\"#ff7f0e\",\"#ff7f0e\",\"#d62728\",\"#ff7f0e\",\"#ff7f0e\",\"#d62728\",\"#d62728\",\"#d62728\",\"#ff7f0e\",\"#d62728\",\"#2ca02c\",\"#d62728\",\"#d62728\",\"#2ca02c\",\"#1f77b4\",\"#2ca02c\",\"#d62728\",\"#1f77b4\",\"#ff7f0e\",\"#1f77b4\",\"#2ca02c\",\"#d62728\",\"#d62728\",\"#ff7f0e\",\"#1f77b4\",\"#1f77b4\",\"#d62728\",\"#ff7f0e\",\"#ff7f0e\",\"#1f77b4\",\"#2ca02c\",\"#1f77b4\",\"#d62728\",\"#1f77b4\",\"#2ca02c\",\"#d62728\",\"#ff7f0e\",\"#d62728\",\"#d62728\",\"#d62728\",\"#d62728\",\"#1f77b4\",\"#1f77b4\",\"#2ca02c\",\"#ff7f0e\",\"#d62728\",\"#1f77b4\",\"#1f77b4\",\"#ff7f0e\",\"#ff7f0e\",\"#d62728\",\"#ff7f0e\",\"#d62728\",\"#d62728\",\"#ff7f0e\",\"#1f77b4\",\"#ff7f0e\",\"#d62728\",\"#ff7f0e\",\"#d62728\",\"#d62728\",\"#d62728\",\"#ff7f0e\",\"#d62728\",\"#d62728\",\"#ff7f0e\",\"#d62728\",\"#d62728\",\"#ff7f0e\",\"#1f77b4\",\"#ff7f0e\",\"#ff7f0e\",\"#d62728\",\"#d62728\",\"#d62728\",\"#ff7f0e\",\"#d62728\",\"#2ca02c\",\"#d62728\",\"#d62728\",\"#1f77b4\",\"#d62728\",\"#d62728\",\"#2ca02c\",\"#d62728\",\"#ff7f0e\",\"#2ca02c\",\"#d62728\",\"#1f77b4\",\"#d62728\",\"#2ca02c\",\"#2ca02c\",\"#2ca02c\",\"#2ca02c\",\"#ff7f0e\",\"#ff7f0e\",\"#d62728\",\"#d62728\",\"#ff7f0e\",\"#1f77b4\",\"#d62728\",\"#d62728\",\"#ff7f0e\",\"#ff7f0e\",\"#d62728\",\"#d62728\",\"#ff7f0e\",\"#1f77b4\",\"#d62728\",\"#1f77b4\",\"#2ca02c\",\"#ff7f0e\",\"#d62728\",\"#1f77b4\",\"#d62728\",\"#d62728\",\"#ff7f0e\",\"#1f77b4\",\"#ff7f0e\",\"#ff7f0e\",\"#ff7f0e\",\"#1f77b4\",\"#1f77b4\",\"#ff7f0e\",\"#1f77b4\",\"#ff7f0e\",\"#1f77b4\",\"#2ca02c\",\"#d62728\",\"#ff7f0e\",\"#ff7f0e\",\"#1f77b4\",\"#2ca02c\",\"#2ca02c\",\"#1f77b4\",\"#1f77b4\",\"#ff7f0e\",\"#2ca02c\",\"#2ca02c\",\"#d62728\",\"#d62728\",\"#d62728\",\"#1f77b4\",\"#d62728\",\"#1f77b4\",\"#d62728\",\"#ff7f0e\",\"#1f77b4\",\"#ff7f0e\",\"#d62728\",\"#d62728\",\"#2ca02c\",\"#1f77b4\",\"#1f77b4\",\"#d62728\",\"#d62728\",\"#ff7f0e\",\"#d62728\",\"#d62728\",\"#d62728\",\"#d62728\",\"#ff7f0e\",\"#ff7f0e\",\"#2ca02c\",\"#d62728\",\"#1f77b4\",\"#d62728\",\"#1f77b4\",\"#ff7f0e\",\"#ff7f0e\",\"#ff7f0e\",\"#ff7f0e\",\"#ff7f0e\",\"#d62728\",\"#ff7f0e\",\"#ff7f0e\",\"#2ca02c\",\"#ff7f0e\",\"#1f77b4\",\"#ff7f0e\",\"#ff7f0e\",\"#2ca02c\",\"#ff7f0e\",\"#2ca02c\",\"#ff7f0e\",\"#1f77b4\",\"#1f77b4\",\"#ff7f0e\",\"#2ca02c\",\"#ff7f0e\",\"#d62728\",\"#d62728\",\"#1f77b4\",\"#d62728\",\"#ff7f0e\",\"#1f77b4\",\"#1f77b4\",\"#d62728\",\"#1f77b4\",\"#1f77b4\",\"#ff7f0e\",\"#ff7f0e\",\"#d62728\",\"#ff7f0e\",\"#1f77b4\",\"#1f77b4\",\"#d62728\",\"#1f77b4\",\"#1f77b4\",\"#ff7f0e\",\"#d62728\",\"#1f77b4\",\"#ff7f0e\",\"#d62728\",\"#2ca02c\",\"#1f77b4\",\"#2ca02c\",\"#ff7f0e\",\"#2ca02c\",\"#d62728\",\"#2ca02c\",\"#d62728\",\"#d62728\",\"#d62728\",\"#ff7f0e\",\"#d62728\",\"#2ca02c\",\"#d62728\",\"#d62728\",\"#ff7f0e\",\"#ff7f0e\",\"#ff7f0e\",\"#d62728\",\"#2ca02c\",\"#d62728\",\"#ff7f0e\",\"#d62728\",\"#d62728\",\"#2ca02c\",\"#2ca02c\",\"#2ca02c\",\"#1f77b4\",\"#1f77b4\",\"#2ca02c\",\"#d62728\",\"#d62728\",\"#ff7f0e\",\"#d62728\",\"#d62728\",\"#2ca02c\",\"#ff7f0e\",\"#ff7f0e\",\"#d62728\",\"#ff7f0e\",\"#ff7f0e\",\"#1f77b4\",\"#ff7f0e\",\"#2ca02c\",\"#2ca02c\",\"#ff7f0e\",\"#ff7f0e\",\"#d62728\",\"#d62728\",\"#ff7f0e\",\"#d62728\",\"#d62728\",\"#ff7f0e\",\"#1f77b4\",\"#2ca02c\",\"#d62728\",\"#2ca02c\",\"#1f77b4\",\"#d62728\",\"#d62728\",\"#ff7f0e\",\"#2ca02c\",\"#ff7f0e\",\"#d62728\",\"#1f77b4\",\"#d62728\",\"#2ca02c\",\"#d62728\",\"#2ca02c\",\"#2ca02c\",\"#ff7f0e\",\"#1f77b4\",\"#d62728\",\"#ff7f0e\",\"#1f77b4\",\"#d62728\",\"#d62728\",\"#1f77b4\",\"#1f77b4\",\"#d62728\",\"#d62728\",\"#ff7f0e\",\"#d62728\",\"#ff7f0e\",\"#d62728\",\"#d62728\",\"#1f77b4\",\"#d62728\",\"#2ca02c\",\"#2ca02c\",\"#2ca02c\",\"#d62728\",\"#d62728\",\"#2ca02c\",\"#d62728\",\"#d62728\",\"#d62728\",\"#d62728\",\"#2ca02c\",\"#1f77b4\",\"#1f77b4\",\"#2ca02c\",\"#ff7f0e\",\"#ff7f0e\",\"#ff7f0e\",\"#2ca02c\",\"#d62728\",\"#2ca02c\",\"#1f77b4\",\"#d62728\",\"#d62728\",\"#2ca02c\",\"#2ca02c\",\"#d62728\",\"#2ca02c\",\"#ff7f0e\",\"#2ca02c\",\"#ff7f0e\",\"#d62728\",\"#2ca02c\",\"#ff7f0e\",\"#1f77b4\",\"#1f77b4\",\"#ff7f0e\",\"#ff7f0e\",\"#ff7f0e\",\"#ff7f0e\",\"#1f77b4\",\"#d62728\",\"#ff7f0e\",\"#1f77b4\",\"#1f77b4\",\"#1f77b4\",\"#d62728\",\"#d62728\",\"#d62728\",\"#1f77b4\",\"#ff7f0e\",\"#1f77b4\",\"#ff7f0e\",\"#ff7f0e\",\"#1f77b4\",\"#ff7f0e\",\"#d62728\",\"#d62728\",\"#ff7f0e\",\"#ff7f0e\",\"#d62728\",\"#d62728\",\"#d62728\",\"#d62728\",\"#1f77b4\",\"#2ca02c\",\"#d62728\",\"#d62728\",\"#d62728\",\"#ff7f0e\",\"#1f77b4\",\"#d62728\",\"#ff7f0e\",\"#d62728\",\"#1f77b4\",\"#ff7f0e\",\"#d62728\",\"#d62728\",\"#d62728\",\"#d62728\",\"#d62728\",\"#2ca02c\",\"#1f77b4\",\"#2ca02c\",\"#ff7f0e\",\"#d62728\",\"#1f77b4\",\"#d62728\",\"#d62728\",\"#1f77b4\",\"#d62728\",\"#1f77b4\",\"#1f77b4\",\"#1f77b4\",\"#ff7f0e\",\"#1f77b4\",\"#1f77b4\",\"#d62728\",\"#d62728\",\"#ff7f0e\",\"#ff7f0e\",\"#2ca02c\",\"#2ca02c\",\"#2ca02c\",\"#d62728\",\"#1f77b4\",\"#2ca02c\",\"#d62728\",\"#1f77b4\",\"#2ca02c\",\"#ff7f0e\",\"#d62728\",\"#2ca02c\",\"#ff7f0e\",\"#d62728\",\"#1f77b4\",\"#d62728\",\"#d62728\",\"#d62728\",\"#ff7f0e\",\"#ff7f0e\",\"#ff7f0e\",\"#1f77b4\",\"#d62728\",\"#ff7f0e\",\"#ff7f0e\",\"#2ca02c\",\"#1f77b4\",\"#1f77b4\",\"#d62728\",\"#ff7f0e\",\"#d62728\",\"#2ca02c\",\"#1f77b4\",\"#2ca02c\",\"#d62728\",\"#ff7f0e\",\"#d62728\",\"#1f77b4\",\"#ff7f0e\",\"#d62728\",\"#d62728\",\"#1f77b4\",\"#1f77b4\",\"#ff7f0e\",\"#1f77b4\",\"#d62728\",\"#ff7f0e\",\"#2ca02c\",\"#1f77b4\",\"#ff7f0e\",\"#d62728\",\"#ff7f0e\",\"#d62728\",\"#ff7f0e\",\"#d62728\",\"#1f77b4\",\"#d62728\",\"#ff7f0e\",\"#d62728\",\"#1f77b4\",\"#d62728\",\"#ff7f0e\",\"#d62728\",\"#d62728\",\"#d62728\",\"#ff7f0e\",\"#2ca02c\",\"#1f77b4\",\"#1f77b4\",\"#2ca02c\",\"#ff7f0e\",\"#ff7f0e\",\"#ff7f0e\",\"#d62728\",\"#1f77b4\",\"#d62728\",\"#2ca02c\",\"#2ca02c\",\"#2ca02c\",\"#d62728\",\"#ff7f0e\",\"#ff7f0e\",\"#2ca02c\",\"#d62728\",\"#2ca02c\",\"#1f77b4\",\"#ff7f0e\",\"#1f77b4\",\"#ff7f0e\",\"#d62728\",\"#1f77b4\",\"#ff7f0e\",\"#2ca02c\",\"#1f77b4\",\"#ff7f0e\",\"#d62728\",\"#ff7f0e\",\"#2ca02c\",\"#d62728\",\"#2ca02c\",\"#1f77b4\",\"#ff7f0e\",\"#2ca02c\",\"#2ca02c\",\"#ff7f0e\",\"#2ca02c\",\"#2ca02c\",\"#ff7f0e\",\"#1f77b4\",\"#d62728\",\"#d62728\",\"#1f77b4\",\"#ff7f0e\",\"#1f77b4\",\"#d62728\",\"#ff7f0e\",\"#ff7f0e\",\"#1f77b4\",\"#d62728\",\"#ff7f0e\",\"#1f77b4\",\"#d62728\",\"#2ca02c\",\"#2ca02c\",\"#ff7f0e\",\"#1f77b4\",\"#d62728\",\"#1f77b4\",\"#ff7f0e\",\"#2ca02c\",\"#ff7f0e\",\"#d62728\",\"#1f77b4\",\"#d62728\",\"#2ca02c\",\"#ff7f0e\",\"#2ca02c\",\"#1f77b4\",\"#d62728\",\"#d62728\",\"#2ca02c\",\"#ff7f0e\",\"#ff7f0e\",\"#d62728\",\"#d62728\",\"#ff7f0e\",\"#1f77b4\",\"#ff7f0e\",\"#2ca02c\",\"#d62728\",\"#ff7f0e\",\"#2ca02c\",\"#1f77b4\",\"#2ca02c\",\"#d62728\",\"#2ca02c\",\"#d62728\",\"#1f77b4\",\"#ff7f0e\",\"#d62728\",\"#d62728\",\"#2ca02c\",\"#2ca02c\",\"#d62728\",\"#d62728\",\"#d62728\",\"#2ca02c\",\"#d62728\",\"#2ca02c\",\"#d62728\",\"#d62728\",\"#ff7f0e\",\"#1f77b4\",\"#1f77b4\",\"#ff7f0e\",\"#d62728\",\"#1f77b4\",\"#d62728\",\"#d62728\",\"#ff7f0e\",\"#2ca02c\",\"#d62728\",\"#1f77b4\",\"#ff7f0e\",\"#ff7f0e\",\"#ff7f0e\",\"#d62728\",\"#1f77b4\",\"#ff7f0e\",\"#d62728\",\"#2ca02c\",\"#d62728\",\"#1f77b4\",\"#1f77b4\",\"#1f77b4\",\"#d62728\",\"#d62728\",\"#d62728\",\"#ff7f0e\",\"#d62728\",\"#ff7f0e\",\"#d62728\",\"#2ca02c\",\"#d62728\",\"#d62728\",\"#ff7f0e\",\"#ff7f0e\",\"#d62728\",\"#2ca02c\",\"#1f77b4\",\"#2ca02c\",\"#2ca02c\",\"#2ca02c\",\"#1f77b4\",\"#d62728\",\"#ff7f0e\",\"#2ca02c\",\"#1f77b4\",\"#ff7f0e\",\"#d62728\",\"#2ca02c\",\"#d62728\",\"#ff7f0e\",\"#d62728\",\"#1f77b4\",\"#d62728\",\"#ff7f0e\",\"#d62728\",\"#ff7f0e\",\"#d62728\",\"#d62728\",\"#d62728\",\"#1f77b4\",\"#d62728\",\"#1f77b4\",\"#2ca02c\",\"#1f77b4\",\"#2ca02c\",\"#1f77b4\",\"#ff7f0e\",\"#ff7f0e\",\"#d62728\",\"#ff7f0e\",\"#1f77b4\",\"#2ca02c\",\"#2ca02c\",\"#1f77b4\",\"#ff7f0e\",\"#ff7f0e\",\"#ff7f0e\",\"#d62728\",\"#1f77b4\",\"#1f77b4\",\"#d62728\",\"#2ca02c\",\"#ff7f0e\",\"#ff7f0e\",\"#d62728\",\"#d62728\",\"#d62728\",\"#2ca02c\",\"#1f77b4\",\"#2ca02c\",\"#1f77b4\",\"#2ca02c\",\"#1f77b4\",\"#ff7f0e\",\"#d62728\",\"#d62728\",\"#d62728\",\"#d62728\",\"#d62728\",\"#2ca02c\",\"#d62728\",\"#ff7f0e\",\"#d62728\",\"#1f77b4\",\"#1f77b4\",\"#2ca02c\",\"#d62728\",\"#d62728\",\"#1f77b4\",\"#d62728\",\"#1f77b4\",\"#d62728\",\"#2ca02c\",\"#1f77b4\",\"#2ca02c\",\"#d62728\",\"#2ca02c\",\"#d62728\",\"#ff7f0e\",\"#1f77b4\",\"#1f77b4\",\"#d62728\",\"#d62728\",\"#1f77b4\",\"#d62728\",\"#ff7f0e\",\"#2ca02c\",\"#2ca02c\",\"#ff7f0e\",\"#ff7f0e\",\"#d62728\",\"#1f77b4\",\"#1f77b4\",\"#2ca02c\",\"#d62728\",\"#1f77b4\",\"#d62728\",\"#ff7f0e\",\"#ff7f0e\",\"#1f77b4\",\"#2ca02c\",\"#d62728\",\"#2ca02c\",\"#1f77b4\",\"#ff7f0e\",\"#ff7f0e\",\"#ff7f0e\",\"#ff7f0e\",\"#d62728\",\"#2ca02c\",\"#1f77b4\",\"#1f77b4\",\"#d62728\",\"#2ca02c\",\"#2ca02c\",\"#d62728\",\"#d62728\",\"#d62728\",\"#d62728\",\"#ff7f0e\",\"#d62728\",\"#1f77b4\",\"#ff7f0e\",\"#ff7f0e\",\"#ff7f0e\",\"#ff7f0e\",\"#1f77b4\",\"#ff7f0e\",\"#1f77b4\",\"#ff7f0e\",\"#d62728\",\"#d62728\",\"#1f77b4\",\"#ff7f0e\",\"#d62728\",\"#ff7f0e\",\"#ff7f0e\",\"#1f77b4\",\"#1f77b4\",\"#1f77b4\",\"#d62728\",\"#1f77b4\",\"#d62728\",\"#1f77b4\",\"#2ca02c\",\"#d62728\",\"#1f77b4\",\"#2ca02c\",\"#2ca02c\",\"#2ca02c\",\"#d62728\",\"#2ca02c\",\"#2ca02c\",\"#2ca02c\",\"#1f77b4\",\"#2ca02c\",\"#1f77b4\",\"#ff7f0e\",\"#1f77b4\",\"#1f77b4\",\"#1f77b4\",\"#ff7f0e\",\"#ff7f0e\",\"#1f77b4\",\"#d62728\",\"#1f77b4\",\"#ff7f0e\",\"#2ca02c\",\"#2ca02c\",\"#d62728\",\"#d62728\",\"#2ca02c\",\"#1f77b4\",\"#d62728\",\"#d62728\",\"#d62728\",\"#ff7f0e\",\"#d62728\",\"#2ca02c\",\"#d62728\",\"#d62728\",\"#d62728\",\"#ff7f0e\",\"#d62728\",\"#d62728\",\"#1f77b4\",\"#ff7f0e\",\"#1f77b4\",\"#ff7f0e\",\"#ff7f0e\",\"#1f77b4\",\"#ff7f0e\",\"#1f77b4\",\"#ff7f0e\",\"#2ca02c\",\"#1f77b4\",\"#d62728\",\"#d62728\",\"#ff7f0e\",\"#1f77b4\",\"#2ca02c\",\"#d62728\",\"#d62728\",\"#d62728\",\"#1f77b4\",\"#d62728\",\"#ff7f0e\",\"#1f77b4\",\"#2ca02c\",\"#2ca02c\",\"#1f77b4\",\"#d62728\",\"#1f77b4\",\"#1f77b4\",\"#d62728\",\"#1f77b4\",\"#2ca02c\",\"#ff7f0e\",\"#1f77b4\",\"#ff7f0e\",\"#d62728\",\"#d62728\",\"#2ca02c\",\"#ff7f0e\",\"#1f77b4\",\"#d62728\",\"#d62728\",\"#1f77b4\",\"#ff7f0e\",\"#d62728\",\"#ff7f0e\",\"#1f77b4\",\"#d62728\",\"#d62728\",\"#2ca02c\",\"#ff7f0e\",\"#1f77b4\",\"#ff7f0e\",\"#ff7f0e\",\"#ff7f0e\",\"#1f77b4\",\"#2ca02c\",\"#d62728\",\"#1f77b4\",\"#d62728\",\"#d62728\",\"#ff7f0e\",\"#2ca02c\",\"#d62728\",\"#ff7f0e\",\"#ff7f0e\",\"#d62728\",\"#d62728\",\"#1f77b4\",\"#d62728\",\"#ff7f0e\",\"#1f77b4\",\"#ff7f0e\",\"#ff7f0e\",\"#ff7f0e\",\"#ff7f0e\",\"#d62728\",\"#ff7f0e\",\"#1f77b4\",\"#2ca02c\",\"#d62728\",\"#d62728\",\"#ff7f0e\",\"#ff7f0e\",\"#d62728\",\"#ff7f0e\",\"#1f77b4\",\"#ff7f0e\",\"#d62728\",\"#d62728\",\"#d62728\",\"#d62728\",\"#2ca02c\",\"#2ca02c\",\"#d62728\",\"#1f77b4\",\"#1f77b4\",\"#1f77b4\",\"#d62728\",\"#ff7f0e\",\"#1f77b4\",\"#ff7f0e\",\"#1f77b4\",\"#2ca02c\",\"#d62728\",\"#ff7f0e\",\"#1f77b4\",\"#d62728\",\"#ff7f0e\",\"#d62728\",\"#2ca02c\",\"#d62728\",\"#2ca02c\",\"#1f77b4\",\"#d62728\",\"#d62728\",\"#1f77b4\",\"#ff7f0e\",\"#2ca02c\",\"#1f77b4\",\"#2ca02c\",\"#d62728\",\"#ff7f0e\",\"#d62728\",\"#1f77b4\",\"#d62728\",\"#d62728\",\"#2ca02c\",\"#2ca02c\",\"#1f77b4\",\"#ff7f0e\",\"#ff7f0e\",\"#d62728\",\"#1f77b4\",\"#ff7f0e\",\"#d62728\",\"#1f77b4\",\"#d62728\",\"#d62728\",\"#ff7f0e\",\"#1f77b4\",\"#d62728\",\"#1f77b4\",\"#d62728\",\"#d62728\",\"#ff7f0e\",\"#ff7f0e\",\"#d62728\",\"#1f77b4\",\"#2ca02c\",\"#1f77b4\",\"#2ca02c\",\"#ff7f0e\",\"#1f77b4\",\"#1f77b4\",\"#d62728\",\"#ff7f0e\",\"#1f77b4\",\"#2ca02c\",\"#d62728\",\"#d62728\",\"#2ca02c\",\"#d62728\",\"#1f77b4\",\"#1f77b4\",\"#d62728\",\"#ff7f0e\",\"#ff7f0e\",\"#1f77b4\",\"#1f77b4\",\"#d62728\",\"#d62728\",\"#d62728\",\"#ff7f0e\",\"#ff7f0e\",\"#ff7f0e\",\"#ff7f0e\",\"#2ca02c\",\"#ff7f0e\",\"#d62728\",\"#d62728\",\"#ff7f0e\",\"#2ca02c\",\"#1f77b4\",\"#2ca02c\",\"#1f77b4\",\"#ff7f0e\",\"#d62728\",\"#2ca02c\",\"#2ca02c\",\"#1f77b4\",\"#d62728\",\"#ff7f0e\",\"#d62728\",\"#1f77b4\",\"#d62728\",\"#2ca02c\",\"#d62728\",\"#2ca02c\",\"#d62728\",\"#d62728\",\"#1f77b4\",\"#d62728\",\"#2ca02c\",\"#ff7f0e\",\"#d62728\",\"#2ca02c\",\"#d62728\",\"#d62728\",\"#1f77b4\",\"#1f77b4\",\"#d62728\",\"#d62728\",\"#d62728\",\"#ff7f0e\",\"#d62728\",\"#d62728\",\"#d62728\",\"#ff7f0e\",\"#ff7f0e\",\"#1f77b4\",\"#1f77b4\",\"#d62728\",\"#2ca02c\",\"#d62728\",\"#d62728\",\"#d62728\",\"#1f77b4\",\"#ff7f0e\",\"#2ca02c\",\"#d62728\",\"#ff7f0e\",\"#d62728\",\"#ff7f0e\",\"#d62728\",\"#ff7f0e\",\"#d62728\",\"#ff7f0e\",\"#d62728\",\"#2ca02c\",\"#ff7f0e\",\"#ff7f0e\",\"#1f77b4\",\"#d62728\",\"#1f77b4\",\"#d62728\",\"#d62728\",\"#ff7f0e\",\"#2ca02c\",\"#d62728\",\"#d62728\",\"#d62728\",\"#ff7f0e\",\"#ff7f0e\",\"#ff7f0e\",\"#d62728\",\"#d62728\",\"#ff7f0e\",\"#ff7f0e\",\"#ff7f0e\",\"#2ca02c\",\"#1f77b4\",\"#2ca02c\",\"#ff7f0e\",\"#1f77b4\",\"#d62728\",\"#1f77b4\",\"#1f77b4\",\"#ff7f0e\",\"#1f77b4\",\"#d62728\",\"#d62728\",\"#2ca02c\",\"#2ca02c\",\"#ff7f0e\",\"#2ca02c\",\"#d62728\",\"#d62728\",\"#ff7f0e\",\"#d62728\",\"#1f77b4\",\"#d62728\",\"#1f77b4\",\"#d62728\",\"#2ca02c\",\"#1f77b4\",\"#1f77b4\",\"#d62728\",\"#d62728\",\"#2ca02c\",\"#2ca02c\",\"#d62728\",\"#d62728\",\"#1f77b4\",\"#d62728\",\"#d62728\",\"#ff7f0e\",\"#ff7f0e\",\"#d62728\",\"#2ca02c\",\"#2ca02c\",\"#2ca02c\",\"#d62728\",\"#1f77b4\",\"#1f77b4\",\"#ff7f0e\",\"#2ca02c\",\"#d62728\",\"#d62728\",\"#d62728\",\"#ff7f0e\",\"#2ca02c\"],\"x\":{\"__ndarray__\":\"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\",\"dtype\":\"float32\",\"shape\":[1253]},\"y\":{\"__ndarray__\":\"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\",\"dtype\":\"float32\",\"shape\":[1253]}},\"selected\":{\"id\":\"1147\"},\"selection_policy\":{\"id\":\"1148\"}},\"id\":\"1129\",\"type\":\"ColumnDataSource\"},{\"attributes\":{},\"id\":\"1118\",\"type\":\"SaveTool\"},{\"attributes\":{\"overlay\":{\"id\":\"1121\"}},\"id\":\"1117\",\"type\":\"BoxZoomTool\"},{\"attributes\":{},\"id\":\"1120\",\"type\":\"HelpTool\"},{\"attributes\":{},\"id\":\"1143\",\"type\":\"BasicTickFormatter\"},{\"attributes\":{},\"id\":\"1119\",\"type\":\"ResetTool\"},{\"attributes\":{\"formatter\":{\"id\":\"1143\"},\"ticker\":{\"id\":\"1108\"}},\"id\":\"1107\",\"type\":\"LinearAxis\"},{\"attributes\":{\"fill_alpha\":{\"value\":0.1},\"fill_color\":{\"field\":\"fill_color\"},\"line_alpha\":{\"value\":0.1},\"line_color\":{\"field\":\"line_color\"},\"x\":{\"field\":\"x\"},\"y\":{\"field\":\"y\"}},\"id\":\"1131\",\"type\":\"Scatter\"},{\"attributes\":{},\"id\":\"1105\",\"type\":\"LinearScale\"},{\"attributes\":{\"source\":{\"id\":\"1129\"}},\"id\":\"1133\",\"type\":\"CDSView\"},{\"attributes\":{},\"id\":\"1103\",\"type\":\"LinearScale\"},{\"attributes\":{\"formatter\":{\"id\":\"1145\"},\"ticker\":{\"id\":\"1112\"}},\"id\":\"1111\",\"type\":\"LinearAxis\"},{\"attributes\":{},\"id\":\"1148\",\"type\":\"UnionRenderers\"},{\"attributes\":{\"data_source\":{\"id\":\"1129\"},\"glyph\":{\"id\":\"1130\"},\"hover_glyph\":null,\"muted_glyph\":null,\"nonselection_glyph\":{\"id\":\"1131\"},\"selection_glyph\":null,\"view\":{\"id\":\"1133\"}},\"id\":\"1132\",\"type\":\"GlyphRenderer\"},{\"attributes\":{\"axis\":{\"id\":\"1107\"},\"ticker\":null},\"id\":\"1110\",\"type\":\"Grid\"},{\"attributes\":{},\"id\":\"1147\",\"type\":\"Selection\"},{\"attributes\":{},\"id\":\"1108\",\"type\":\"BasicTicker\"},{\"attributes\":{\"fill_color\":{\"field\":\"fill_color\"},\"line_color\":{\"field\":\"line_color\"},\"x\":{\"field\":\"x\"},\"y\":{\"field\":\"y\"}},\"id\":\"1130\",\"type\":\"Scatter\"},{\"attributes\":{\"axis\":{\"id\":\"1111\"},\"dimension\":1,\"ticker\":null},\"id\":\"1114\",\"type\":\"Grid\"},{\"attributes\":{},\"id\":\"1145\",\"type\":\"BasicTickFormatter\"}],\"root_ids\":[\"1096\"]},\"title\":\"Bokeh Application\",\"version\":\"2.0.2\"}};\n",
       "  var render_items = [{\"docid\":\"1c1661bb-db69-48fe-885d-393b9794de8d\",\"root_ids\":[\"1096\"],\"roots\":{\"1096\":\"ceaccedc-a43a-47a5-8c80-1f6f6363252f\"}}];\n",
       "  root.Bokeh.embed.embed_items_notebook(docs_json, render_items);\n",
       "\n",
       "  }\n",
       "  if (root.Bokeh !== undefined) {\n",
       "    embed_document(root);\n",
       "  } else {\n",
       "    var attempts = 0;\n",
       "    var timer = setInterval(function(root) {\n",
       "      if (root.Bokeh !== undefined) {\n",
       "        clearInterval(timer);\n",
       "        embed_document(root);\n",
       "      } else {\n",
       "        attempts++;\n",
       "        if (attempts > 100) {\n",
       "          clearInterval(timer);\n",
       "          console.log(\"Bokeh: ERROR: Unable to run BokehJS code because BokehJS library is missing\");\n",
       "        }\n",
       "      }\n",
       "    }, 10, root)\n",
       "  }\n",
       "})(window);"
      ],
      "application/vnd.bokehjs_exec.v0+json": ""
     },
     "metadata": {
      "application/vnd.bokehjs_exec.v0+json": {
       "id": "1096"
      }
     },
     "output_type": "display_data"
    }
   ],
   "source": [
    "# plot graph for topic filters\n",
    "plot = figure(title=\"t-SNE Clustering of LDA Topics\".format(n_topics), \n",
    "              plot_width=900, plot_height=700)\n",
    "plot.scatter(x=tsne_lda[:,0], y=tsne_lda[:,1], color=mycolors[topic_num])\n",
    "show(plot)\n",
    "\n",
    "# plot graph for po filters\n",
    "plot = figure(title=\"t-SNE Clustering of Program Directors\".format(n_topics), \n",
    "              plot_width=900, plot_height=700)\n",
    "plot.scatter(x=tsne_lda[:,0], y=tsne_lda[:,1], color=mycolors[po_num])\n",
    "show(plot)"
   ]
  },
  {
   "cell_type": "markdown",
   "metadata": {},
   "source": [
    "pyLDAvis"
   ]
  },
  {
   "cell_type": "code",
   "execution_count": 49,
   "metadata": {},
   "outputs": [
    {
     "data": {
      "text/html": [
       "\n",
       "<link rel=\"stylesheet\" type=\"text/css\" href=\"https://cdn.rawgit.com/bmabey/pyLDAvis/files/ldavis.v1.0.0.css\">\n",
       "\n",
       "\n",
       "<div id=\"ldavis_el1591219012956987602675250650\"></div>\n",
       "<script type=\"text/javascript\">\n",
       "\n",
       "var ldavis_el1591219012956987602675250650_data = {\"mdsDat\": {\"x\": [-0.10010138350257422, -0.1923499510958719, -0.02673050154310849, 0.31918183614155476], \"y\": [0.05431691152514503, -0.19381367517611206, 0.2207717903896215, -0.08127502673865462], \"topics\": [1, 2, 3, 4], \"cluster\": [1, 1, 1, 1], \"Freq\": [39.15782165527344, 28.65838050842285, 26.079479217529297, 6.104321479797363]}, \"tinfo\": {\"Term\": [\"disease\", \"datum\", \"cell\", \"protein\", \"study\", \"health\", \"network\", \"gene\", \"dynamic\", \"tool\", \"patient\", \"software\", \"analysis\", \"population\", \"identify\", \"sequence\", \"structure\", \"microbiome\", \"predictive\", \"drug\", \"clinical\", \"biomedical\", \"prediction\", \"human\", \"treatment\", \"bind\", \"statistical\", \"outcome\", \"data\", \"individual\", \"protein\", \"drug\", \"bind\", \"signal\", \"pathway\", \"molecule\", \"structural\", \"ligand\", \"chemical\", \"membrane\", \"assay\", \"enzyme\", \"therapeutic\", \"property\", \"mutant\", \"compound\", \"fold\", \"assembly\", \"multiscale\", \"receptor\", \"experimentally\", \"space\", \"growth\", \"stability\", \"peptide\", \"conformational\", \"residue\", \"score\", \"physical\", \"energy\", \"structure\", \"target\", \"site\", \"simulation\", \"molecular\", \"interaction\", \"dynamic\", \"experimental\", \"mutation\", \"predict\", \"design\", \"preliminary\", \"function\", \"prediction\", \"test\", \"computational\", \"mechanism\", \"determine\", \"specific\", \"approach\", \"system\", \"include\", \"study\", \"process\", \"provide\", \"project\", \"software\", \"clinical\", \"biomedical\", \"resource\", \"annotation\", \"package\", \"performance\", \"big\", \"share\", \"public\", \"analytic\", \"solution\", \"medical\", \"automate\", \"implementation\", \"center\", \"access\", \"collection\", \"evaluation\", \"pipeline\", \"training\", \"scalable\", \"scientist\", \"experience\", \"infrastructure\", \"vaccine\", \"practice\", \"evolutionary\", \"service\", \"cloud\", \"database\", \"standard\", \"quality\", \"implement\", \"algorithms\", \"datum\", \"technology\", \"data\", \"tool\", \"platform\", \"dataset\", \"analysis\", \"algorithm\", \"available\", \"improve\", \"create\", \"exist\", \"program\", \"large\", \"project\", \"set\", \"make\", \"provide\", \"enable\", \"system\", \"information\", \"include\", \"propose\", \"advance\", \"base\", \"gene\", \"microbiome\", \"genetic\", \"genomic\", \"tissue\", \"genome\", \"dna\", \"pattern\", \"regulatory\", \"microbial\", \"expression\", \"detect\", \"sequencing\", \"rna\", \"fundamental\", \"variation\", \"phenotype\", \"visualization\", \"integrative\", \"specie\", \"highthroughput\", \"profile\", \"bioinformatic\", \"evolution\", \"chromatin\", \"theoretical\", \"heterogeneity\", \"organism\", \"trait\", \"prior\", \"single\", \"cell\", \"network\", \"detection\", \"sequence\", \"human\", \"type\", \"disease\", \"biological\", \"cancer\", \"study\", \"identify\", \"functional\", \"level\", \"complex\", \"analysis\", \"propose\", \"analyze\", \"understand\", \"datum\", \"project\", \"computational\", \"specific\", \"transmission\", \"metabolic\", \"metabolomic\", \"prevention\", \"intervention\", \"exposure\", \"forecast\", \"epidemic\", \"proteindna\", \"circuit\", \"infectious\", \"sample_size\", \"educational\", \"spread\", \"diseaserelate\", \"integrated\", \"infectious_disease\", \"adult\", \"epidemiological\", \"hospital\", \"binary\", \"trial\", \"diabete\", \"few\", \"rigorously\", \"hope\", \"multiplex\", \"healthrelate\", \"sometimes\", \"simulator\", \"risk\", \"biomarker\", \"population\", \"infection\", \"patient\", \"mix\", \"outcome\", \"predictive\", \"health\", \"treatment\", \"disease\", \"science\", \"virus\", \"association\", \"public_health\", \"factor\", \"pathogen\", \"individual\", \"mathematical\", \"measure\", \"study\", \"time\", \"control\", \"identify\", \"strategy\", \"statistical\", \"prediction\", \"effect\", \"propose\", \"approach\", \"dynamic\"], \"Freq\": [5779.0, 11339.0, 7112.0, 8055.0, 5873.0, 1917.0, 3747.0, 3030.0, 3531.0, 5629.0, 1378.0, 2897.0, 5518.0, 1252.0, 3447.0, 3338.0, 3889.0, 2152.0, 1303.0, 3039.0, 2263.0, 2226.0, 2117.0, 3156.0, 1195.0, 2693.0, 2118.0, 914.0, 2630.0, 1278.0, 8055.55615234375, 3038.853759765625, 2693.30517578125, 1855.2821044921875, 1736.85302734375, 1433.07568359375, 1382.2303466796875, 1328.3397216796875, 915.6246948242188, 905.8721923828125, 885.4113159179688, 798.2453002929688, 786.1680908203125, 762.99609375, 685.9303588867188, 660.8975219726562, 653.0203247070312, 646.1383056640625, 594.7645263671875, 592.817138671875, 578.7733154296875, 557.70654296875, 556.4254760742188, 544.9154052734375, 539.635498046875, 514.2042846679688, 509.49932861328125, 507.4962463378906, 499.8190002441406, 497.7264404296875, 3830.381103515625, 2394.422607421875, 781.4381103515625, 2650.203369140625, 2652.241455078125, 3246.406494140625, 3139.33154296875, 1828.4798583984375, 1244.2330322265625, 2025.58056640625, 2509.9833984375, 768.4913940429688, 1969.834716796875, 1537.3511962890625, 1687.9984130859375, 2262.773681640625, 1590.8050537109375, 1181.9432373046875, 2049.19384765625, 1991.8455810546875, 2024.448974609375, 1545.507568359375, 1793.1944580078125, 1282.0484619140625, 1426.80517578125, 1341.0943603515625, 2897.024169921875, 2263.23486328125, 2225.891357421875, 1094.900390625, 927.5872802734375, 731.3485717773438, 700.7722778320312, 608.9141845703125, 596.8004150390625, 573.076904296875, 548.1297607421875, 542.1515502929688, 480.1781005859375, 478.327392578125, 474.0192565917969, 469.19696044921875, 460.88262939453125, 460.4714050292969, 452.3616943359375, 441.53436279296875, 429.8970642089844, 426.96124267578125, 410.477294921875, 401.1964416503906, 386.12994384765625, 379.24981689453125, 375.75439453125, 369.483642578125, 363.6181945800781, 349.2990417480469, 1276.32763671875, 833.6312255859375, 625.7841796875, 1071.0360107421875, 458.80963134765625, 9730.087890625, 1835.097900390625, 2317.643310546875, 4416.0087890625, 1385.2381591796875, 1123.565185546875, 3742.703857421875, 1277.8944091796875, 1100.3392333984375, 1880.0103759765625, 1254.3321533203125, 1285.623046875, 772.7462158203125, 1462.786865234375, 2753.618408203125, 1189.67529296875, 1429.3375244140625, 1759.483642578125, 1283.8592529296875, 1865.771728515625, 1223.0650634765625, 1485.64794921875, 1541.7064208984375, 998.2765502929688, 1060.103759765625, 3030.07568359375, 2151.833740234375, 1590.590087890625, 1507.804931640625, 1398.8824462890625, 1382.4544677734375, 1327.3857421875, 1279.9969482421875, 1098.0087890625, 1084.4599609375, 982.1292724609375, 953.6531982421875, 784.80078125, 762.7560424804688, 730.4022216796875, 726.3388061523438, 662.872314453125, 662.26904296875, 599.8665161132812, 564.7195434570312, 563.3722534179688, 544.383056640625, 541.3538818359375, 485.52459716796875, 484.1322937011719, 439.255615234375, 439.1703186035156, 432.7803039550781, 424.09356689453125, 394.1396789550781, 1408.9136962890625, 6788.30322265625, 3568.653564453125, 611.3156127929688, 2861.354248046875, 2586.014892578125, 1394.62744140625, 3461.35009765625, 1798.722412109375, 1329.7071533203125, 2987.473388671875, 1756.2130126953125, 1209.2344970703125, 1120.272705078125, 1386.921875, 1775.8193359375, 1595.73046875, 980.046142578125, 1125.1107177734375, 1607.0108642578125, 1253.5504150390625, 1118.6710205078125, 1110.3033447265625, 710.1015014648438, 524.6382446289062, 496.27288818359375, 400.7689514160156, 304.44482421875, 260.0542907714844, 245.79708862304688, 189.22447204589844, 179.06625366210938, 176.3261260986328, 163.80215454101562, 147.25643920898438, 143.4912872314453, 135.93447875976562, 134.8438262939453, 131.09136962890625, 128.6396484375, 127.74554443359375, 120.03785705566406, 100.17488861083984, 98.29950714111328, 98.9301986694336, 86.54920959472656, 81.66606903076172, 75.60360717773438, 67.9492416381836, 50.483428955078125, 46.339942932128906, 46.016483306884766, 44.439666748046875, 553.1790161132812, 614.8414306640625, 1152.9630126953125, 702.147705078125, 1216.2352294921875, 231.6587677001953, 759.7666625976562, 840.4464111328125, 1143.7733154296875, 734.9383544921875, 2091.734619140625, 462.0979919433594, 211.1036376953125, 372.23480224609375, 392.1726989746094, 445.4820556640625, 264.3410339355469, 514.8800048828125, 356.34783935546875, 425.7674255371094, 968.16845703125, 497.9105529785156, 432.16387939453125, 569.4967041015625, 394.5909118652344, 453.8869934082031, 444.07464599609375, 402.74920654296875, 423.5263671875, 409.385009765625, 391.8564758300781], \"Total\": [5779.0, 11339.0, 7112.0, 8055.0, 5873.0, 1917.0, 3747.0, 3030.0, 3531.0, 5629.0, 1378.0, 2897.0, 5518.0, 1252.0, 3447.0, 3338.0, 3889.0, 2152.0, 1303.0, 3039.0, 2263.0, 2226.0, 2117.0, 3156.0, 1195.0, 2693.0, 2118.0, 914.0, 2630.0, 1278.0, 8055.75927734375, 3039.056396484375, 2693.5078125, 1855.4849853515625, 1737.055908203125, 1433.278564453125, 1382.4332275390625, 1328.5426025390625, 915.8275146484375, 906.0750122070312, 885.6141357421875, 798.4481201171875, 786.3709106445312, 763.1989135742188, 686.1331787109375, 661.100341796875, 653.22314453125, 646.3411254882812, 594.9673461914062, 593.0199584960938, 578.9761352539062, 557.9093627929688, 556.6282958984375, 545.1182250976562, 539.8383178710938, 514.4071044921875, 509.70220947265625, 507.6991271972656, 500.0218811035156, 497.9293212890625, 3889.801025390625, 2464.84326171875, 786.773681640625, 2782.3798828125, 2822.208251953125, 3540.613037109375, 3531.322021484375, 2098.52392578125, 1397.8011474609375, 2512.2392578125, 3259.817138671875, 811.1781616210938, 2611.837158203125, 2117.046875, 2479.1845703125, 3995.848388671875, 2428.20458984375, 1576.37890625, 4365.0849609375, 4151.3330078125, 4523.509765625, 3536.0869140625, 5873.23291015625, 2509.3564453125, 3713.195556640625, 5503.8896484375, 2897.2333984375, 2263.444091796875, 2226.1005859375, 1095.1097412109375, 927.796630859375, 731.5584106445312, 700.9816284179688, 609.12353515625, 597.009765625, 573.2862548828125, 548.339111328125, 542.3609008789062, 480.3874816894531, 478.5367736816406, 474.2286376953125, 469.4063415527344, 461.0920104980469, 460.6807861328125, 452.5710754394531, 441.7437438964844, 430.1064453125, 427.1706237792969, 410.6866760253906, 401.40582275390625, 386.3393249511719, 379.4591979980469, 375.9637756347656, 369.6930236816406, 363.82757568359375, 349.5084228515625, 1306.0611572265625, 847.1510009765625, 633.3827514648438, 1107.3419189453125, 462.2857666015625, 11339.6044921875, 2031.4119873046875, 2630.888427734375, 5629.74072265625, 1575.2154541015625, 1265.03662109375, 5518.6650390625, 1594.8941650390625, 1357.4169921875, 2686.9619140625, 1648.45703125, 1773.524658203125, 910.636962890625, 2237.5244140625, 5503.8896484375, 1825.595458984375, 2448.700439453125, 3713.195556640625, 2276.081787109375, 4523.509765625, 2221.69189453125, 3536.0869140625, 4821.8505859375, 1750.16552734375, 2816.974609375, 3030.28369140625, 2152.041748046875, 1590.7982177734375, 1508.0130615234375, 1399.090576171875, 1382.66259765625, 1327.5938720703125, 1280.205078125, 1098.2169189453125, 1084.6680908203125, 982.3373413085938, 953.8612670898438, 785.0088500976562, 762.964111328125, 730.6102905273438, 726.546875, 663.0803833007812, 662.4771118164062, 600.0745849609375, 564.9276123046875, 563.580322265625, 544.5911254882812, 541.5619506835938, 485.73272705078125, 484.3404235839844, 439.4637451171875, 439.3784484863281, 432.9884338378906, 424.30169677734375, 394.3478088378906, 1417.5772705078125, 7112.05419921875, 3747.051513671875, 624.2500610351562, 3338.772705078125, 3156.42041015625, 1639.0711669921875, 5779.4482421875, 2693.141357421875, 1837.07177734375, 5873.23291015625, 3447.3857421875, 1957.2314453125, 1769.7041015625, 2761.706298828125, 5518.6650390625, 4821.8505859375, 1489.9212646484375, 2177.21533203125, 11339.6044921875, 5503.8896484375, 3995.848388671875, 4365.0849609375, 710.3087158203125, 524.845458984375, 496.4801025390625, 400.9761657714844, 304.65203857421875, 260.2615051269531, 246.0043182373047, 189.43170166015625, 179.2734832763672, 176.53335571289062, 164.00938415527344, 147.4636688232422, 143.69851684570312, 136.14170837402344, 135.05105590820312, 131.29859924316406, 128.8468780517578, 127.95276641845703, 120.24507904052734, 100.38211822509766, 98.50672912597656, 99.14864349365234, 86.75643157958984, 81.873291015625, 75.81082916259766, 68.15646362304688, 50.690650939941406, 46.54716491699219, 46.22370529174805, 44.646888732910156, 564.2423706054688, 654.8531494140625, 1252.4127197265625, 755.0264892578125, 1378.5089111328125, 249.2955322265625, 914.4552001953125, 1303.8023681640625, 1917.3538818359375, 1195.84375, 5779.4482421875, 807.312744140625, 273.6417541503906, 676.7410888671875, 743.927490234375, 956.1319580078125, 412.7664489746094, 1278.2138671875, 739.8309326171875, 1097.721923828125, 5873.23291015625, 1606.886962890625, 1603.54833984375, 3447.3857421875, 1368.5560302734375, 2118.74951171875, 2117.046875, 1851.780517578125, 4821.8505859375, 4151.3330078125, 3531.322021484375], \"Category\": [\"Default\", \"Default\", \"Default\", \"Default\", \"Default\", \"Default\", \"Default\", \"Default\", \"Default\", \"Default\", \"Default\", \"Default\", \"Default\", \"Default\", \"Default\", \"Default\", \"Default\", \"Default\", \"Default\", \"Default\", \"Default\", \"Default\", \"Default\", \"Default\", \"Default\", \"Default\", \"Default\", \"Default\", \"Default\", \"Default\", \"Topic1\", \"Topic1\", \"Topic1\", \"Topic1\", \"Topic1\", \"Topic1\", \"Topic1\", \"Topic1\", \"Topic1\", \"Topic1\", \"Topic1\", \"Topic1\", \"Topic1\", \"Topic1\", \"Topic1\", \"Topic1\", \"Topic1\", \"Topic1\", \"Topic1\", \"Topic1\", \"Topic1\", \"Topic1\", \"Topic1\", \"Topic1\", \"Topic1\", \"Topic1\", \"Topic1\", \"Topic1\", \"Topic1\", \"Topic1\", \"Topic1\", \"Topic1\", \"Topic1\", \"Topic1\", \"Topic1\", \"Topic1\", \"Topic1\", \"Topic1\", \"Topic1\", \"Topic1\", \"Topic1\", \"Topic1\", \"Topic1\", \"Topic1\", \"Topic1\", \"Topic1\", \"Topic1\", \"Topic1\", \"Topic1\", \"Topic1\", \"Topic1\", \"Topic1\", \"Topic1\", \"Topic1\", \"Topic1\", \"Topic1\", \"Topic2\", \"Topic2\", \"Topic2\", \"Topic2\", \"Topic2\", \"Topic2\", \"Topic2\", \"Topic2\", \"Topic2\", \"Topic2\", \"Topic2\", \"Topic2\", \"Topic2\", \"Topic2\", \"Topic2\", \"Topic2\", \"Topic2\", \"Topic2\", \"Topic2\", \"Topic2\", \"Topic2\", \"Topic2\", \"Topic2\", \"Topic2\", \"Topic2\", \"Topic2\", \"Topic2\", \"Topic2\", \"Topic2\", \"Topic2\", \"Topic2\", \"Topic2\", \"Topic2\", \"Topic2\", \"Topic2\", \"Topic2\", \"Topic2\", \"Topic2\", \"Topic2\", \"Topic2\", \"Topic2\", \"Topic2\", \"Topic2\", \"Topic2\", \"Topic2\", \"Topic2\", \"Topic2\", \"Topic2\", \"Topic2\", \"Topic2\", \"Topic2\", \"Topic2\", \"Topic2\", \"Topic2\", \"Topic2\", \"Topic2\", \"Topic2\", \"Topic2\", \"Topic2\", \"Topic2\", \"Topic3\", \"Topic3\", \"Topic3\", \"Topic3\", \"Topic3\", \"Topic3\", \"Topic3\", \"Topic3\", \"Topic3\", \"Topic3\", \"Topic3\", \"Topic3\", \"Topic3\", \"Topic3\", \"Topic3\", \"Topic3\", \"Topic3\", \"Topic3\", \"Topic3\", \"Topic3\", \"Topic3\", \"Topic3\", \"Topic3\", \"Topic3\", \"Topic3\", \"Topic3\", \"Topic3\", \"Topic3\", \"Topic3\", \"Topic3\", \"Topic3\", \"Topic3\", \"Topic3\", \"Topic3\", \"Topic3\", \"Topic3\", \"Topic3\", \"Topic3\", \"Topic3\", \"Topic3\", \"Topic3\", \"Topic3\", \"Topic3\", \"Topic3\", \"Topic3\", \"Topic3\", \"Topic3\", \"Topic3\", \"Topic3\", \"Topic3\", \"Topic3\", \"Topic3\", \"Topic3\", \"Topic4\", \"Topic4\", \"Topic4\", \"Topic4\", \"Topic4\", \"Topic4\", \"Topic4\", \"Topic4\", \"Topic4\", \"Topic4\", \"Topic4\", \"Topic4\", \"Topic4\", \"Topic4\", \"Topic4\", \"Topic4\", \"Topic4\", \"Topic4\", \"Topic4\", \"Topic4\", \"Topic4\", \"Topic4\", \"Topic4\", \"Topic4\", \"Topic4\", \"Topic4\", \"Topic4\", \"Topic4\", \"Topic4\", \"Topic4\", \"Topic4\", \"Topic4\", \"Topic4\", \"Topic4\", \"Topic4\", \"Topic4\", \"Topic4\", \"Topic4\", \"Topic4\", \"Topic4\", \"Topic4\", \"Topic4\", \"Topic4\", \"Topic4\", \"Topic4\", \"Topic4\", \"Topic4\", \"Topic4\", \"Topic4\", \"Topic4\", \"Topic4\", \"Topic4\", \"Topic4\", \"Topic4\", \"Topic4\", \"Topic4\", \"Topic4\", \"Topic4\", \"Topic4\", \"Topic4\", \"Topic4\"], \"logprob\": [30.0, 29.0, 28.0, 27.0, 26.0, 25.0, 24.0, 23.0, 22.0, 21.0, 20.0, 19.0, 18.0, 17.0, 16.0, 15.0, 14.0, 13.0, 12.0, 11.0, 10.0, 9.0, 8.0, 7.0, 6.0, 5.0, 4.0, 3.0, 2.0, 1.0, -3.5139999389648438, -4.488900184631348, -4.609600067138672, -4.9822998046875, -5.048299789428711, -5.240499973297119, -5.276599884033203, -5.316400051116943, -5.688499927520752, -5.69920015335083, -5.7220001220703125, -5.825699806213379, -5.84089994430542, -5.870800018310547, -5.97730016708374, -6.014500141143799, -6.026500225067139, -6.037099838256836, -6.119900226593018, -6.123199939727783, -6.147200107574463, -6.184299945831299, -6.186600208282471, -6.207499980926514, -6.217199802398682, -6.265500068664551, -6.274700164794922, -6.278600215911865, -6.293900012969971, -6.298099994659424, -4.257400035858154, -4.727200031280518, -5.8470001220703125, -4.625699996948242, -4.624899864196777, -4.422800064086914, -4.456299781799316, -4.9969000816345215, -5.381800174713135, -4.894499778747559, -4.680099964141846, -5.863699913024902, -4.922399997711182, -5.170300006866455, -5.0767998695373535, -4.78380012512207, -5.136099815368652, -5.433199882507324, -4.882900238037109, -4.911300182342529, -4.894999980926514, -5.164999961853027, -5.016300201416016, -5.351900100708008, -5.244900226593018, -5.3069000244140625, -4.2245001792907715, -4.471399784088135, -4.48799991607666, -5.197500228881836, -5.363399982452393, -5.601099967956543, -5.643799781799316, -5.784299850463867, -5.8043999671936035, -5.844900131225586, -5.889400005340576, -5.900400161743164, -6.0218000411987305, -6.025700092315674, -6.0346999168396, -6.044899940490723, -6.06279993057251, -6.063700199127197, -6.081500053405762, -6.1057000160217285, -6.132400035858154, -6.1392998695373535, -6.178599834442139, -6.201499938964844, -6.239799976348877, -6.257800102233887, -6.267000198364258, -6.28380012512207, -6.299799919128418, -6.340000152587891, -5.0441999435424805, -5.470200061798096, -5.756899833679199, -5.219600200653076, -6.067299842834473, -3.013000011444092, -4.681099891662598, -4.4475998878479, -3.802999973297119, -4.962299823760986, -5.1717000007629395, -3.968400001525879, -5.043000221252441, -5.192599773406982, -4.656899929046631, -5.061600208282471, -5.036900043487549, -5.546000003814697, -4.907800197601318, -4.275300025939941, -5.114500045776367, -4.931000232696533, -4.723199844360352, -5.038300037384033, -4.6645002365112305, -5.0868000984191895, -4.892300128936768, -4.855299949645996, -5.289899826049805, -5.229800224304199, -4.085299968719482, -4.427599906921387, -4.729800224304199, -4.783199787139893, -4.8582000732421875, -4.869999885559082, -4.910699844360352, -4.947000026702881, -5.100399971008301, -5.112800121307373, -5.211900234222412, -5.241399765014648, -5.436200141906738, -5.464700222015381, -5.5081000328063965, -5.513599872589111, -5.605100154876709, -5.605999946594238, -5.704899787902832, -5.7652997970581055, -5.7677001953125, -5.802000045776367, -5.807600021362305, -5.916399955749512, -5.919300079345703, -6.016600131988525, -6.0167999267578125, -6.031400203704834, -6.051700115203857, -6.124899864196777, -4.851099967956543, -3.278700113296509, -3.9217000007629395, -5.685999870300293, -4.142600059509277, -4.243800163269043, -4.861299991607666, -3.952199935913086, -4.606800079345703, -4.908899784088135, -4.0995001792907715, -4.63070011138916, -5.003900051116943, -5.0802998542785645, -4.866799831390381, -4.61959981918335, -4.726600170135498, -5.214099884033203, -5.076000213623047, -4.7195000648498535, -4.967899799346924, -5.0817999839782715, -5.089300155639648, -4.084099769592285, -4.3867998123168945, -4.442399978637695, -4.656099796295166, -4.931000232696533, -5.088600158691406, -5.144999980926514, -5.406599998474121, -5.461699962615967, -5.477200031280518, -5.55079984664917, -5.657299995422363, -5.683199882507324, -5.737299919128418, -5.7453999519348145, -5.773600101470947, -5.792500019073486, -5.799499988555908, -5.861700057983398, -6.042600154876709, -6.061500072479248, -6.055099964141846, -6.188799858093262, -6.2469000816345215, -6.323999881744385, -6.430699825286865, -6.72790002822876, -6.813499927520752, -6.820499897003174, -6.855400085449219, -4.333799839019775, -4.228099822998047, -3.599400043487549, -4.095399856567383, -3.5460000038146973, -5.20419979095459, -4.016499996185303, -3.915600061416626, -3.6073999404907227, -4.049699783325195, -3.0037999153137207, -4.513700008392334, -5.2972002029418945, -4.730000019073486, -4.677800178527832, -4.550300121307373, -5.072299957275391, -4.405600070953369, -4.773600101470947, -4.595600128173828, -3.7741000652313232, -4.4390997886657715, -4.580699920654297, -4.304699897766113, -4.671599864959717, -4.531700134277344, -4.553500175476074, -4.651199817657471, -4.600900173187256, -4.634799957275391, -4.678599834442139], \"loglift\": [30.0, 29.0, 28.0, 27.0, 26.0, 25.0, 24.0, 23.0, 22.0, 21.0, 20.0, 19.0, 18.0, 17.0, 16.0, 15.0, 14.0, 13.0, 12.0, 11.0, 10.0, 9.0, 8.0, 7.0, 6.0, 5.0, 4.0, 3.0, 2.0, 1.0, 0.9375, 0.9375, 0.9375, 0.9375, 0.9375, 0.9373999834060669, 0.9373999834060669, 0.9373999834060669, 0.9373000264167786, 0.9373000264167786, 0.9373000264167786, 0.9373000264167786, 0.9373000264167786, 0.9373000264167786, 0.9373000264167786, 0.9373000264167786, 0.9373000264167786, 0.9373000264167786, 0.9372000098228455, 0.9372000098228455, 0.9372000098228455, 0.9372000098228455, 0.9372000098228455, 0.9372000098228455, 0.9372000098228455, 0.9372000098228455, 0.9372000098228455, 0.9372000098228455, 0.9372000098228455, 0.9372000098228455, 0.9222000241279602, 0.9085999727249146, 0.9308000206947327, 0.8888999819755554, 0.8755000233650208, 0.8507999777793884, 0.8198999762535095, 0.7997999787330627, 0.8212000131607056, 0.7222999930381775, 0.6761999726295471, 0.8834999799728394, 0.6554999947547913, 0.6176000237464905, 0.5532000064849854, 0.36890000104904175, 0.5146999955177307, 0.6496000289916992, 0.18140000104904175, 0.20319999754428864, 0.13359999656677246, 0.10989999771118164, -0.24879999458789825, 0.26600000262260437, -0.01889999955892563, -0.47440001368522644, 1.2496999502182007, 1.2496000528335571, 1.2496000528335571, 1.249500036239624, 1.249500036239624, 1.249400019645691, 1.249400019645691, 1.249400019645691, 1.249400019645691, 1.249400019645691, 1.2493000030517578, 1.2493000030517578, 1.2493000030517578, 1.2493000030517578, 1.2493000030517578, 1.2493000030517578, 1.2493000030517578, 1.2493000030517578, 1.2493000030517578, 1.2493000030517578, 1.2491999864578247, 1.2491999864578247, 1.2491999864578247, 1.2491999864578247, 1.2491999864578247, 1.2491999864578247, 1.2491999864578247, 1.2491999864578247, 1.2490999698638916, 1.2490999698638916, 1.226699948310852, 1.2336000204086304, 1.2376999855041504, 1.2164000272750854, 1.2422000169754028, 1.09660005569458, 1.1481000185012817, 1.1230000257492065, 1.0068999528884888, 1.1211999654769897, 1.131100058555603, 0.8614000082015991, 1.0281000137329102, 1.0398000478744507, 0.8925999999046326, 0.9764999747276306, 0.9279999732971191, 1.0855000019073486, 0.8246999979019165, 0.557200014591217, 0.8215000033378601, 0.7113999724388123, 0.5029000043869019, 0.6771000027656555, 0.36410000920295715, 0.6528000235557556, 0.38260000944137573, 0.10949999839067459, 0.6883000135421753, 0.27239999175071716, 1.343999981880188, 1.3438999652862549, 1.3438999652862549, 1.3438999652862549, 1.3438999652862549, 1.3438999652862549, 1.3438999652862549, 1.3438999652862549, 1.3437999486923218, 1.3437999486923218, 1.3437999486923218, 1.3437999486923218, 1.3437999486923218, 1.3437000513076782, 1.3437000513076782, 1.3437000513076782, 1.3437000513076782, 1.3437000513076782, 1.3437000513076782, 1.3437000513076782, 1.3437000513076782, 1.3436000347137451, 1.3436000347137451, 1.3436000347137451, 1.3436000347137451, 1.343500018119812, 1.343500018119812, 1.343500018119812, 1.343500018119812, 1.343500018119812, 1.3379000425338745, 1.2973999977111816, 1.295199990272522, 1.323099970817566, 1.1897000074386597, 1.144700050354004, 1.1825000047683716, 0.8313999772071838, 0.9404000043869019, 1.020799994468689, 0.6679999828338623, 0.6696000099182129, 0.862500011920929, 0.8867999911308289, 0.6553000211715698, 0.210099995136261, 0.23819999396800995, 0.9251000285148621, 0.683899998664856, -0.6098999977111816, -0.1354999989271164, 0.07090000063180923, -0.02500000037252903, 2.7959001064300537, 2.795799970626831, 2.795799970626831, 2.7957000732421875, 2.7955000400543213, 2.7953999042510986, 2.795300006866455, 2.795099973678589, 2.7950000762939453, 2.7950000762939453, 2.7948999404907227, 2.794800043106079, 2.7946999073028564, 2.794600009918213, 2.794600009918213, 2.794600009918213, 2.794600009918213, 2.794600009918213, 2.7943999767303467, 2.794100046157837, 2.794100046157837, 2.7939999103546143, 2.793800115585327, 2.793600082397461, 2.7934000492095947, 2.793100118637085, 2.792099952697754, 2.7916998863220215, 2.7916998863220215, 2.7915000915527344, 2.776400089263916, 2.733099937438965, 2.713399887084961, 2.723599910736084, 2.6709001064300537, 2.7228000164031982, 2.6108999252319336, 2.357100009918213, 2.279599905014038, 2.3094000816345215, 1.7798999547958374, 2.2381999492645264, 2.5367000102996826, 2.1984000205993652, 2.155900001525879, 2.032399892807007, 2.3505001068115234, 1.8868999481201172, 2.065700054168701, 1.8490999937057495, 0.993399977684021, 1.624500036239624, 1.4850000143051147, 0.9955999851226807, 1.5525000095367432, 1.2553999423980713, 1.2344000339508057, 1.2705999612808228, 0.36390000581741333, 0.4796000123023987, 0.597599983215332]}, \"token.table\": {\"Topic\": [2, 4, 1, 2, 3, 1, 2, 3, 1, 2, 2, 3, 2, 2, 3, 4, 2, 1, 2, 3, 4, 1, 1, 1, 2, 4, 2, 1, 2, 3, 1, 2, 3, 4, 2, 4, 1, 3, 1, 2, 3, 2, 4, 2, 1, 3, 4, 1, 3, 2, 1, 3, 4, 2, 2, 2, 1, 2, 3, 4, 1, 1, 2, 3, 1, 1, 3, 4, 1, 2, 2, 3, 1, 2, 2, 3, 2, 3, 4, 1, 2, 3, 1, 3, 1, 3, 4, 4, 1, 3, 4, 4, 3, 1, 1, 4, 4, 1, 3, 4, 1, 2, 3, 1, 1, 4, 4, 2, 3, 2, 1, 2, 3, 4, 2, 1, 3, 1, 4, 3, 1, 3, 4, 4, 1, 4, 1, 3, 1, 3, 3, 3, 3, 3, 3, 1, 2, 4, 4, 3, 3, 4, 4, 1, 3, 4, 1, 2, 3, 4, 1, 2, 2, 1, 2, 3, 4, 1, 2, 3, 4, 1, 2, 3, 4, 1, 4, 4, 4, 1, 2, 3, 2, 4, 3, 1, 3, 4, 1, 2, 3, 1, 2, 3, 4, 1, 1, 2, 3, 1, 3, 4, 1, 3, 4, 1, 3, 2, 1, 4, 4, 3, 3, 3, 4, 1, 3, 1, 4, 1, 1, 1, 3, 3, 4, 3, 1, 2, 4, 2, 3, 4, 1, 2, 4, 3, 1, 2, 3, 1, 2, 1, 2, 2, 4, 2, 1, 3, 4, 1, 3, 4, 1, 2, 3, 4, 1, 4, 4, 3, 1, 2, 3, 3, 1, 2, 1, 2, 3, 4, 1, 1, 2, 3, 4, 1, 4, 1, 2, 3, 2, 1, 2, 4, 1, 2, 1, 3, 1, 2, 4, 2, 4, 3, 4, 2, 1, 3, 4, 2, 1, 1, 3, 3, 2, 1, 2, 3, 2, 1, 1, 2, 4, 1, 3, 1, 2, 2, 2, 4, 1, 3, 1, 2, 3, 4, 4, 1, 2, 3, 2, 3, 4, 1, 2, 3, 4, 1, 1, 3, 1, 2, 3, 4, 1, 2, 3, 4, 1, 2, 3, 4, 2, 3, 1, 2, 3, 4, 3, 1, 1, 2, 3, 4, 3, 1, 2, 3, 2, 3, 4, 1, 3, 4, 4, 1, 2, 3, 4, 1, 3, 4, 2, 3, 3, 4, 3], \"Freq\": [0.999800443649292, 1.0003691911697388, 0.3359682261943817, 0.5702317953109741, 0.0937054231762886, 0.13480518758296967, 0.8013070821762085, 0.06395408511161804, 0.006489492487162352, 0.992892324924469, 0.6782437562942505, 0.32181695103645325, 0.9993815422058105, 0.3402864336967468, 0.6577528715133667, 0.002013529185205698, 1.0002192258834839, 0.47984588146209717, 0.18572348356246948, 0.23582786321640015, 0.09852257370948792, 0.9993065595626831, 0.9994722008705139, 0.09457088261842728, 0.35464081168174744, 0.54969322681427, 0.9988783001899719, 0.17459630966186523, 0.8103626370429993, 0.014733865857124329, 0.40752941370010376, 0.3762902319431305, 0.20163476467132568, 0.014909612946212292, 0.9997971653938293, 0.9948558807373047, 0.9998114705085754, 0.9989623427391052, 0.1927117556333542, 0.13961391150951385, 0.6679931282997131, 0.061082396656274796, 0.9391418695449829, 0.9999548196792603, 0.22535863518714905, 0.7239782214164734, 0.05062404274940491, 0.045556459575891495, 0.9544359445571899, 0.999134361743927, 1.0001883506774902, 0.9992971420288086, 0.9969787001609802, 0.9998037815093994, 0.9985453486442566, 0.9985222220420837, 0.31610891222953796, 0.12890581786632538, 0.5022257566452026, 0.05286586657166481, 0.9998482465744019, 0.5663378238677979, 0.15365947782993317, 0.2800406515598297, 0.9992085695266724, 0.3598270118236542, 0.3710521161556244, 0.26940253376960754, 0.23901139199733734, 0.7607113718986511, 0.8810712099075317, 0.11897122114896774, 0.02296982705593109, 0.976983368396759, 0.8885118365287781, 0.11145922541618347, 0.8580546379089355, 0.14171570539474487, 0.00017637299606576562, 0.769981861114502, 0.23007425665855408, 1.000145435333252, 0.020824987441301346, 0.9787744283676147, 0.7498197555541992, 0.16176313161849976, 0.08817677199840546, 1.0028074979782104, 0.03910407796502113, 0.5988460779190063, 0.36197227239608765, 0.9996219277381897, 0.9995526671409607, 0.9999814629554749, 0.8889022469520569, 0.11100658774375916, 0.9951390027999878, 0.617243766784668, 0.1652463674545288, 0.2176283895969391, 0.20737391710281372, 0.5641273260116577, 0.22846278548240662, 1.000141978263855, 0.9994387626647949, 0.9977210760116577, 0.9979618191719055, 0.998738169670105, 1.0005502700805664, 0.998125433921814, 0.13475990295410156, 0.7251097559928894, 0.12742985785007477, 0.012968525290489197, 0.9989889860153198, 0.871088445186615, 0.1286618709564209, 1.0000412464141846, 0.9989952445030212, 0.999656617641449, 0.20708438754081726, 0.3273606598377228, 0.46541693806648254, 1.0015475749969482, 0.9996584057807922, 0.999982476234436, 0.7542583346366882, 0.24580399692058563, 0.38217249512672424, 0.6177092790603638, 0.9991647005081177, 0.9999063611030579, 1.000126838684082, 0.9995207786560059, 0.9999913573265076, 0.9988712668418884, 0.4031597971916199, 0.5966556072235107, 0.9882449507713318, 0.9991386532783508, 0.9989702701568604, 0.9977043271064758, 0.9961933493614197, 0.17741616070270538, 0.8192824721336365, 0.003484960412606597, 0.31125035881996155, 0.01421366911381483, 0.5093714594841003, 0.1650526076555252, 0.03251028433442116, 0.9671809673309326, 0.9995178580284119, 0.26572760939598083, 0.6996749639511108, 0.006326848175376654, 0.02828473225235939, 0.4372064471244812, 0.42023852467536926, 0.13348087668418884, 0.00933234952390194, 0.010170442052185535, 0.026599617674946785, 0.5609390139579773, 0.40290597081184387, 0.07019621133804321, 0.9297686815261841, 0.9999427795410156, 1.0011883974075317, 0.08507030457258224, 0.550481379032135, 0.3641369044780731, 0.9991216659545898, 0.997725784778595, 0.9998757243156433, 0.9167903661727905, 0.08303646743297577, 0.9978597164154053, 0.2730696499347687, 0.6538476347923279, 0.07329528778791428, 0.18082119524478912, 0.04407516494393349, 0.6328741908073425, 0.14183162152767181, 0.999591588973999, 0.20909050107002258, 0.5835748314857483, 0.20745697617530823, 0.39198145270347595, 0.12570439279079437, 0.4811910092830658, 0.24869686365127563, 0.3634800314903259, 0.38807642459869385, 0.655216634273529, 0.34469911456108093, 0.9991933703422546, 0.999917209148407, 1.0002944469451904, 0.9990329742431641, 0.9993840456008911, 0.999980628490448, 0.06819215416908264, 0.930622398853302, 0.9396896958351135, 0.06023651733994484, 0.9998056292533875, 0.9863751530647278, 1.0000548362731934, 0.9998059272766113, 0.8899692296981812, 0.10945762693881989, 0.9524822235107422, 0.04750401899218559, 1.0000267028808594, 0.12357084453105927, 0.04483543708920479, 0.8310959339141846, 0.9992367029190063, 0.35855627059936523, 0.639586865901947, 0.9999678134918213, 0.11751828342676163, 0.8821125626564026, 0.9998397827148438, 1.0002994537353516, 1.0000262260437012, 0.9998787641525269, 0.9999562501907349, 1.000580072402954, 0.12061841785907745, 0.8792448043823242, 0.07904742658138275, 0.9206230640411377, 1.000096321105957, 0.8064518570899963, 0.13016276061534882, 0.06368820369243622, 0.726011335849762, 0.06424042582511902, 0.20972611010074615, 0.1257859319448471, 0.12655292451381683, 0.10354330390691757, 0.6442694067955017, 0.9467710256576538, 0.05300931632518768, 1.0000594854354858, 0.9991180300712585, 0.5108879804611206, 0.0992286279797554, 0.38974136114120483, 0.9989145398139954, 0.1515422761440277, 0.8488563895225525, 0.24364587664604187, 0.5003734230995178, 0.22783887386322021, 0.02834359183907509, 0.9997393488883972, 0.26151785254478455, 0.319794237613678, 0.33099326491355896, 0.08793304115533829, 1.0000299215316772, 0.9984744787216187, 0.38430508971214294, 0.47371596097946167, 0.14192627370357513, 0.9995006918907166, 0.2648107409477234, 0.207009419798851, 0.5269330739974976, 0.011051769368350506, 0.9883439540863037, 0.9999663233757019, 0.9998024702072144, 0.9986222982406616, 0.9998998045921326, 1.002495288848877, 0.019495168700814247, 0.9800752997398376, 1.0000470876693726, 0.9968557357788086, 0.9996005892753601, 0.1350158303976059, 0.2923278510570526, 0.5722689032554626, 0.9983279705047607, 0.9986229538917542, 0.14286686480045319, 0.8569017052650452, 0.9999887347221375, 1.000473976135254, 0.15337461233139038, 0.6518421173095703, 0.19500486552715302, 0.9999836683273315, 0.9997386336326599, 0.9524220824241638, 0.047441400587558746, 0.9855110049247742, 0.006348860450088978, 0.9939493536949158, 0.9926615953445435, 0.00635506771504879, 0.9999194145202637, 0.9993345737457275, 0.9951604008674622, 1.0001624822616577, 1.000128149986267, 0.4694066643714905, 0.22817425429821014, 0.2542905807495117, 0.0481090284883976, 0.9989591240882874, 0.9997830986976624, 0.9844762086868286, 0.015345552004873753, 0.4181711971759796, 0.3676697015762329, 0.21427734196186066, 0.500527560710907, 0.11179666221141815, 0.10010550916194916, 0.2886253893375397, 0.999686598777771, 0.9846261739730835, 0.015167870558798313, 0.3052833080291748, 0.021112732589244843, 0.5085784792900085, 0.1648155301809311, 0.44744017720222473, 0.41251155734062195, 0.11893419921398163, 0.021001391112804413, 0.9712585210800171, 0.022313792258501053, 0.0016228212043642998, 0.004868463613092899, 0.9033125638961792, 0.09648461639881134, 0.6808690428733826, 0.08551198989152908, 0.1750575602054596, 0.058486972004175186, 0.9989447593688965, 0.9995283484458923, 0.3951740264892578, 0.20847764611244202, 0.08650266379117966, 0.30991601943969727, 0.9999352693557739, 0.03925580531358719, 0.7844055891036987, 0.17638467252254486, 0.9997525215148926, 0.9992889761924744, 0.9995653629302979, 0.3060600459575653, 0.07944181561470032, 0.614628791809082, 0.9985008239746094, 0.033555589616298676, 0.09822636097669601, 0.8510918021202087, 0.01708284579217434, 0.43679648637771606, 0.5167151093482971, 0.04638953134417534, 0.9987898468971252, 0.9992473125457764, 0.2265736162662506, 0.7710811495780945, 0.999279797077179], \"Term\": [\"access\", \"adult\", \"advance\", \"advance\", \"advance\", \"algorithm\", \"algorithm\", \"algorithm\", \"algorithms\", \"algorithms\", \"analysis\", \"analysis\", \"analytic\", \"analyze\", \"analyze\", \"analyze\", \"annotation\", \"approach\", \"approach\", \"approach\", \"approach\", \"assay\", \"assembly\", \"association\", \"association\", \"association\", \"automate\", \"available\", \"available\", \"available\", \"base\", \"base\", \"base\", \"base\", \"big\", \"binary\", \"bind\", \"bioinformatic\", \"biological\", \"biological\", \"biological\", \"biomarker\", \"biomarker\", \"biomedical\", \"cancer\", \"cancer\", \"cancer\", \"cell\", \"cell\", \"center\", \"chemical\", \"chromatin\", \"circuit\", \"clinical\", \"cloud\", \"collection\", \"complex\", \"complex\", \"complex\", \"complex\", \"compound\", \"computational\", \"computational\", \"computational\", \"conformational\", \"control\", \"control\", \"control\", \"create\", \"create\", \"data\", \"data\", \"database\", \"database\", \"dataset\", \"dataset\", \"datum\", \"datum\", \"datum\", \"design\", \"design\", \"detect\", \"detection\", \"detection\", \"determine\", \"determine\", \"determine\", \"diabete\", \"disease\", \"disease\", \"disease\", \"diseaserelate\", \"dna\", \"drug\", \"dynamic\", \"dynamic\", \"educational\", \"effect\", \"effect\", \"effect\", \"enable\", \"enable\", \"enable\", \"energy\", \"enzyme\", \"epidemic\", \"epidemiological\", \"evaluation\", \"evolution\", \"evolutionary\", \"exist\", \"exist\", \"exist\", \"exist\", \"experience\", \"experimental\", \"experimental\", \"experimentally\", \"exposure\", \"expression\", \"factor\", \"factor\", \"factor\", \"few\", \"fold\", \"forecast\", \"function\", \"function\", \"functional\", \"functional\", \"fundamental\", \"gene\", \"genetic\", \"genome\", \"genomic\", \"growth\", \"health\", \"health\", \"healthrelate\", \"heterogeneity\", \"highthroughput\", \"hope\", \"hospital\", \"human\", \"human\", \"human\", \"identify\", \"identify\", \"identify\", \"identify\", \"implement\", \"implement\", \"implementation\", \"improve\", \"improve\", \"improve\", \"improve\", \"include\", \"include\", \"include\", \"include\", \"individual\", \"individual\", \"individual\", \"individual\", \"infection\", \"infection\", \"infectious\", \"infectious_disease\", \"information\", \"information\", \"information\", \"infrastructure\", \"integrated\", \"integrative\", \"interaction\", \"interaction\", \"intervention\", \"large\", \"large\", \"large\", \"level\", \"level\", \"level\", \"level\", \"ligand\", \"make\", \"make\", \"make\", \"mathematical\", \"mathematical\", \"mathematical\", \"measure\", \"measure\", \"measure\", \"mechanism\", \"mechanism\", \"medical\", \"membrane\", \"metabolic\", \"metabolomic\", \"microbial\", \"microbiome\", \"mix\", \"mix\", \"molecular\", \"molecular\", \"molecule\", \"multiplex\", \"multiscale\", \"mutant\", \"mutation\", \"mutation\", \"network\", \"network\", \"organism\", \"outcome\", \"outcome\", \"outcome\", \"package\", \"pathogen\", \"pathogen\", \"pathway\", \"patient\", \"patient\", \"pattern\", \"peptide\", \"performance\", \"phenotype\", \"physical\", \"pipeline\", \"platform\", \"platform\", \"population\", \"population\", \"practice\", \"predict\", \"predict\", \"predict\", \"prediction\", \"prediction\", \"prediction\", \"predictive\", \"predictive\", \"predictive\", \"predictive\", \"preliminary\", \"preliminary\", \"prevention\", \"prior\", \"process\", \"process\", \"process\", \"profile\", \"program\", \"program\", \"project\", \"project\", \"project\", \"project\", \"property\", \"propose\", \"propose\", \"propose\", \"propose\", \"protein\", \"proteindna\", \"provide\", \"provide\", \"provide\", \"public\", \"public_health\", \"public_health\", \"public_health\", \"quality\", \"quality\", \"receptor\", \"regulatory\", \"residue\", \"resource\", \"rigorously\", \"risk\", \"risk\", \"rna\", \"sample_size\", \"scalable\", \"science\", \"science\", \"science\", \"scientist\", \"score\", \"sequence\", \"sequence\", \"sequencing\", \"service\", \"set\", \"set\", \"set\", \"share\", \"signal\", \"simulation\", \"simulation\", \"simulator\", \"single\", \"single\", \"site\", \"site\", \"software\", \"solution\", \"sometimes\", \"space\", \"specie\", \"specific\", \"specific\", \"specific\", \"specific\", \"spread\", \"stability\", \"standard\", \"standard\", \"statistical\", \"statistical\", \"statistical\", \"strategy\", \"strategy\", \"strategy\", \"strategy\", \"structural\", \"structure\", \"structure\", \"study\", \"study\", \"study\", \"study\", \"system\", \"system\", \"system\", \"system\", \"target\", \"target\", \"target\", \"target\", \"technology\", \"technology\", \"test\", \"test\", \"test\", \"test\", \"theoretical\", \"therapeutic\", \"time\", \"time\", \"time\", \"time\", \"tissue\", \"tool\", \"tool\", \"tool\", \"training\", \"trait\", \"transmission\", \"treatment\", \"treatment\", \"treatment\", \"trial\", \"type\", \"type\", \"type\", \"type\", \"understand\", \"understand\", \"understand\", \"vaccine\", \"variation\", \"virus\", \"virus\", \"visualization\"]}, \"R\": 30, \"lambda.step\": 0.01, \"plot.opts\": {\"xlab\": \"PC1\", \"ylab\": \"PC2\"}, \"topic.order\": [4, 3, 2, 1]};\n",
       "\n",
       "function LDAvis_load_lib(url, callback){\n",
       "  var s = document.createElement('script');\n",
       "  s.src = url;\n",
       "  s.async = true;\n",
       "  s.onreadystatechange = s.onload = callback;\n",
       "  s.onerror = function(){console.warn(\"failed to load library \" + url);};\n",
       "  document.getElementsByTagName(\"head\")[0].appendChild(s);\n",
       "}\n",
       "\n",
       "if(typeof(LDAvis) !== \"undefined\"){\n",
       "   // already loaded: just create the visualization\n",
       "   !function(LDAvis){\n",
       "       new LDAvis(\"#\" + \"ldavis_el1591219012956987602675250650\", ldavis_el1591219012956987602675250650_data);\n",
       "   }(LDAvis);\n",
       "}else if(typeof define === \"function\" && define.amd){\n",
       "   // require.js is available: use it to load d3/LDAvis\n",
       "   require.config({paths: {d3: \"https://cdnjs.cloudflare.com/ajax/libs/d3/3.5.5/d3.min\"}});\n",
       "   require([\"d3\"], function(d3){\n",
       "      window.d3 = d3;\n",
       "      LDAvis_load_lib(\"https://cdn.rawgit.com/bmabey/pyLDAvis/files/ldavis.v1.0.0.js\", function(){\n",
       "        new LDAvis(\"#\" + \"ldavis_el1591219012956987602675250650\", ldavis_el1591219012956987602675250650_data);\n",
       "      });\n",
       "    });\n",
       "}else{\n",
       "    // require.js not available: dynamically load d3 & LDAvis\n",
       "    LDAvis_load_lib(\"https://cdnjs.cloudflare.com/ajax/libs/d3/3.5.5/d3.min.js\", function(){\n",
       "         LDAvis_load_lib(\"https://cdn.rawgit.com/bmabey/pyLDAvis/files/ldavis.v1.0.0.js\", function(){\n",
       "                 new LDAvis(\"#\" + \"ldavis_el1591219012956987602675250650\", ldavis_el1591219012956987602675250650_data);\n",
       "            })\n",
       "         });\n",
       "}\n",
       "</script>"
      ],
      "text/plain": [
       "PreparedData(topic_coordinates=              x         y  topics  cluster       Freq\n",
       "topic                                                \n",
       "3     -0.100101  0.054317       1        1  39.157822\n",
       "2     -0.192350 -0.193814       2        1  28.658381\n",
       "1     -0.026731  0.220772       3        1  26.079479\n",
       "0      0.319182 -0.081275       4        1   6.104321, topic_info=           Term          Freq         Total Category  logprob  loglift\n",
       "68      disease   5779.000000   5779.000000  Default  30.0000  30.0000\n",
       "54        datum  11339.000000  11339.000000  Default  29.0000  29.0000\n",
       "991        cell   7112.000000   7112.000000  Default  28.0000  28.0000\n",
       "197     protein   8055.000000   8055.000000  Default  27.0000  27.0000\n",
       "248       study   5873.000000   5873.000000  Default  26.0000  26.0000\n",
       "..          ...           ...           ...      ...      ...      ...\n",
       "440  prediction    444.074646   2117.046875   Topic4  -4.5535   1.2344\n",
       "71       effect    402.749207   1851.780518   Topic4  -4.6512   1.2706\n",
       "195     propose    423.526367   4821.850586   Topic4  -4.6009   0.3639\n",
       "291    approach    409.385010   4151.333008   Topic4  -4.6348   0.4796\n",
       "345     dynamic    391.856476   3531.322021   Topic4  -4.6786   0.5976\n",
       "\n",
       "[260 rows x 6 columns], token_table=      Topic      Freq           Term\n",
       "term                                \n",
       "808       2  0.999800         access\n",
       "512       4  1.000369          adult\n",
       "812       1  0.335968        advance\n",
       "812       2  0.570232        advance\n",
       "812       3  0.093705        advance\n",
       "...     ...       ...            ...\n",
       "2087      2  0.998790        vaccine\n",
       "688       3  0.999247      variation\n",
       "1746      3  0.226574          virus\n",
       "1746      4  0.771081          virus\n",
       "1826      3  0.999280  visualization\n",
       "\n",
       "[377 rows x 3 columns], R=30, lambda_step=0.01, plot_opts={'xlab': 'PC1', 'ylab': 'PC2'}, topic_order=[4, 3, 2, 1])"
      ]
     },
     "execution_count": 49,
     "metadata": {},
     "output_type": "execute_result"
    }
   ],
   "source": [
    "import pyLDAvis.gensim\n",
    "pyLDAvis.enable_notebook()\n",
    "vis = pyLDAvis.gensim.prepare(lda_model, corpus, dictionary=lda_model.id2word)\n",
    "vis"
   ]
  },
  {
   "cell_type": "markdown",
   "metadata": {},
   "source": [
    "***\n",
    "###### Word Vectors"
   ]
  },
  {
   "cell_type": "code",
   "execution_count": 50,
   "metadata": {},
   "outputs": [],
   "source": [
    "db['processed_text'] = texts"
   ]
  },
  {
   "cell_type": "code",
   "execution_count": 51,
   "metadata": {},
   "outputs": [
    {
     "data": {
      "text/html": [
       "<div>\n",
       "<style scoped>\n",
       "    .dataframe tbody tr th:only-of-type {\n",
       "        vertical-align: middle;\n",
       "    }\n",
       "\n",
       "    .dataframe tbody tr th {\n",
       "        vertical-align: top;\n",
       "    }\n",
       "\n",
       "    .dataframe thead th {\n",
       "        text-align: right;\n",
       "    }\n",
       "</style>\n",
       "<table border=\"1\" class=\"dataframe\">\n",
       "  <thead>\n",
       "    <tr style=\"text-align: right;\">\n",
       "      <th></th>\n",
       "      <th>AID</th>\n",
       "      <th>PAC</th>\n",
       "      <th>PO</th>\n",
       "      <th>text</th>\n",
       "      <th>topic</th>\n",
       "      <th>processed_text</th>\n",
       "    </tr>\n",
       "  </thead>\n",
       "  <tbody>\n",
       "    <tr>\n",
       "      <th>33</th>\n",
       "      <td>9476252</td>\n",
       "      <td>B160</td>\n",
       "      <td>PB</td>\n",
       "      <td>[drug, effect, discovery, data, mining, integr...</td>\n",
       "      <td>3</td>\n",
       "      <td>[drug, effect, discovery, datum, mining, integ...</td>\n",
       "    </tr>\n",
       "    <tr>\n",
       "      <th>47</th>\n",
       "      <td>9470885</td>\n",
       "      <td>B301</td>\n",
       "      <td>LP</td>\n",
       "      <td>[markov, state, approaches, folding, binding, ...</td>\n",
       "      <td>3</td>\n",
       "      <td>[markov_state, approach, fold, bind, design, p...</td>\n",
       "    </tr>\n",
       "    <tr>\n",
       "      <th>67</th>\n",
       "      <td>9499981</td>\n",
       "      <td>B160</td>\n",
       "      <td>VR</td>\n",
       "      <td>[risk, lyme, disease, built, environments, nor...</td>\n",
       "      <td>2</td>\n",
       "      <td>[risk, lyme, disease, build, environment, nort...</td>\n",
       "    </tr>\n",
       "    <tr>\n",
       "      <th>109</th>\n",
       "      <td>9500587</td>\n",
       "      <td>B120</td>\n",
       "      <td>VR</td>\n",
       "      <td>[computational, techniques, correlating, micro...</td>\n",
       "      <td>1</td>\n",
       "      <td>[computational, techniques, correlating_microb...</td>\n",
       "    </tr>\n",
       "    <tr>\n",
       "      <th>111</th>\n",
       "      <td>9536067</td>\n",
       "      <td>B210</td>\n",
       "      <td>HR</td>\n",
       "      <td>[training, training, abstract, mmbios, continu...</td>\n",
       "      <td>2</td>\n",
       "      <td>[training, training, abstract, mmbio, continue...</td>\n",
       "    </tr>\n",
       "  </tbody>\n",
       "</table>\n",
       "</div>"
      ],
      "text/plain": [
       "         AID   PAC  PO                                               text  \\\n",
       "33   9476252  B160  PB  [drug, effect, discovery, data, mining, integr...   \n",
       "47   9470885  B301  LP  [markov, state, approaches, folding, binding, ...   \n",
       "67   9499981  B160  VR  [risk, lyme, disease, built, environments, nor...   \n",
       "109  9500587  B120  VR  [computational, techniques, correlating, micro...   \n",
       "111  9536067  B210  HR  [training, training, abstract, mmbios, continu...   \n",
       "\n",
       "     topic                                     processed_text  \n",
       "33       3  [drug, effect, discovery, datum, mining, integ...  \n",
       "47       3  [markov_state, approach, fold, bind, design, p...  \n",
       "67       2  [risk, lyme, disease, build, environment, nort...  \n",
       "109      1  [computational, techniques, correlating_microb...  \n",
       "111      2  [training, training, abstract, mmbio, continue...  "
      ]
     },
     "execution_count": 51,
     "metadata": {},
     "output_type": "execute_result"
    }
   ],
   "source": [
    "db.head()"
   ]
  },
  {
   "cell_type": "code",
   "execution_count": 52,
   "metadata": {},
   "outputs": [],
   "source": [
    "topics_list = []"
   ]
  },
  {
   "cell_type": "code",
   "execution_count": 61,
   "metadata": {},
   "outputs": [
    {
     "name": "stdout",
     "output_type": "stream",
     "text": [
      "[[('disease', 0.04960071), ('patient', 0.028840242), ('population', 0.027339885), ('health', 0.027121972), ('study', 0.022957904), ('predictive', 0.019929267), ('outcome', 0.018016132), ('treatment', 0.017427385), ('transmission', 0.016838435), ('infection', 0.01664983)], [('cell', 0.037677407), ('network', 0.01980725), ('disease', 0.019211678), ('gene', 0.016817957), ('study', 0.0165815), ('sequence', 0.015881496), ('human', 0.014353269), ('microbiome', 0.011943415), ('biological', 0.009983526), ('analysis', 0.009856406)], [('datum', 0.04914551), ('tool', 0.02230473), ('analysis', 0.018903948), ('software', 0.014632522), ('project', 0.013908196), ('data', 0.011706139), ('clinical', 0.011431328), ('biomedical', 0.011242711), ('improve', 0.009495707), ('system', 0.00942379)], [('protein', 0.029778015), ('structure', 0.014159313), ('interaction', 0.0120006045), ('dynamic', 0.011604793), ('drug', 0.011233369), ('bind', 0.009956021), ('molecular', 0.0098042255), ('simulation', 0.009796691), ('design', 0.009278357), ('target', 0.008851177)], [('disease', 0.04960071), ('patient', 0.028840242), ('population', 0.027339885), ('health', 0.027121972), ('study', 0.022957904), ('predictive', 0.019929267), ('outcome', 0.018016132), ('treatment', 0.017427385), ('transmission', 0.016838435), ('infection', 0.01664983)], [('cell', 0.037677407), ('network', 0.01980725), ('disease', 0.019211678), ('gene', 0.016817957), ('study', 0.0165815), ('sequence', 0.015881496), ('human', 0.014353269), ('microbiome', 0.011943415), ('biological', 0.009983526), ('analysis', 0.009856406)], [('datum', 0.04914551), ('tool', 0.02230473), ('analysis', 0.018903948), ('software', 0.014632522), ('project', 0.013908196), ('data', 0.011706139), ('clinical', 0.011431328), ('biomedical', 0.011242711), ('improve', 0.009495707), ('system', 0.00942379)], [('protein', 0.029778015), ('structure', 0.014159313), ('interaction', 0.0120006045), ('dynamic', 0.011604793), ('drug', 0.011233369), ('bind', 0.009956021), ('molecular', 0.0098042255), ('simulation', 0.009796691), ('design', 0.009278357), ('target', 0.008851177)], [('disease', 0.04960071), ('patient', 0.028840242), ('population', 0.027339885), ('health', 0.027121972), ('study', 0.022957904), ('predictive', 0.019929267), ('outcome', 0.018016132), ('treatment', 0.017427385), ('transmission', 0.016838435), ('infection', 0.01664983)], [('cell', 0.037677407), ('network', 0.01980725), ('disease', 0.019211678), ('gene', 0.016817957), ('study', 0.0165815), ('sequence', 0.015881496), ('human', 0.014353269), ('microbiome', 0.011943415), ('biological', 0.009983526), ('analysis', 0.009856406)], [('datum', 0.04914551), ('tool', 0.02230473), ('analysis', 0.018903948), ('software', 0.014632522), ('project', 0.013908196), ('data', 0.011706139), ('clinical', 0.011431328), ('biomedical', 0.011242711), ('improve', 0.009495707), ('system', 0.00942379)], [('protein', 0.029778015), ('structure', 0.014159313), ('interaction', 0.0120006045), ('dynamic', 0.011604793), ('drug', 0.011233369), ('bind', 0.009956021), ('molecular', 0.0098042255), ('simulation', 0.009796691), ('design', 0.009278357), ('target', 0.008851177)], [('disease', 0.04960071), ('patient', 0.028840242), ('population', 0.027339885), ('health', 0.027121972), ('study', 0.022957904), ('predictive', 0.019929267), ('outcome', 0.018016132), ('treatment', 0.017427385), ('transmission', 0.016838435), ('infection', 0.01664983)], [('cell', 0.037677407), ('network', 0.01980725), ('disease', 0.019211678), ('gene', 0.016817957), ('study', 0.0165815), ('sequence', 0.015881496), ('human', 0.014353269), ('microbiome', 0.011943415), ('biological', 0.009983526), ('analysis', 0.009856406)], [('datum', 0.04914551), ('tool', 0.02230473), ('analysis', 0.018903948), ('software', 0.014632522), ('project', 0.013908196), ('data', 0.011706139), ('clinical', 0.011431328), ('biomedical', 0.011242711), ('improve', 0.009495707), ('system', 0.00942379)], [('protein', 0.029778015), ('structure', 0.014159313), ('interaction', 0.0120006045), ('dynamic', 0.011604793), ('drug', 0.011233369), ('bind', 0.009956021), ('molecular', 0.0098042255), ('simulation', 0.009796691), ('design', 0.009278357), ('target', 0.008851177)]]\n",
      "16\n"
     ]
    }
   ],
   "source": [
    "for t in lda_model.show_topics(num_words=10, formatted=False):\n",
    "    t_list = []\n",
    "    for w in t[1]:\n",
    "        t_list.append(w)\n",
    "    topics_list.append(t_list)\n",
    "    \n",
    "print(topics_list)\n",
    "print(len(topics_list))\n",
    "    "
   ]
  },
  {
   "cell_type": "code",
   "execution_count": 59,
   "metadata": {},
   "outputs": [
    {
     "name": "stderr",
     "output_type": "stream",
     "text": [
      "IOPub data rate exceeded.\n",
      "The notebook server will temporarily stop sending output\n",
      "to the client in order to avoid crashing it.\n",
      "To change this limit, set the config variable\n",
      "`--NotebookApp.iopub_data_rate_limit`.\n",
      "\n",
      "Current values:\n",
      "NotebookApp.iopub_data_rate_limit=1000000.0 (bytes/sec)\n",
      "NotebookApp.rate_limit_window=3.0 (secs)\n",
      "\n"
     ]
    }
   ],
   "source": [
    "topics = []\n",
    "for i in range(NUM_TOPICS):\n",
    "    topics.append([])\n",
    "\n",
    "for index, row in db.iterrows():\n",
    "    topic = row['topic']\n",
    "    topics[topic].append(row['processed_text'])\n",
    "    \n",
    "print(topics)"
   ]
  },
  {
   "cell_type": "code",
   "execution_count": 57,
   "metadata": {},
   "outputs": [],
   "source": [
    "from gensim.models import Word2Vec\n",
    "\n",
    "models = []\n",
    "\n",
    "for t in topics:\n",
    "    models.append(Word2Vec(t))"
   ]
  },
  {
   "cell_type": "markdown",
   "metadata": {},
   "source": [
    "Combine and format."
   ]
  },
  {
   "cell_type": "code",
   "execution_count": 58,
   "metadata": {},
   "outputs": [
    {
     "ename": "IndexError",
     "evalue": "list index out of range",
     "output_type": "error",
     "traceback": [
      "\u001b[1;31m---------------------------------------------------------------------------\u001b[0m",
      "\u001b[1;31mIndexError\u001b[0m                                Traceback (most recent call last)",
      "\u001b[1;32m<ipython-input-58-d8cc6a7fbd61>\u001b[0m in \u001b[0;36m<module>\u001b[1;34m\u001b[0m\n\u001b[0;32m      3\u001b[0m     \u001b[0msub_list\u001b[0m \u001b[1;33m=\u001b[0m \u001b[1;33m[\u001b[0m\u001b[1;33m]\u001b[0m\u001b[1;33m\u001b[0m\u001b[1;33m\u001b[0m\u001b[0m\n\u001b[0;32m      4\u001b[0m     \u001b[1;32mfor\u001b[0m \u001b[0mw\u001b[0m \u001b[1;32min\u001b[0m \u001b[0mtopics_list\u001b[0m\u001b[1;33m[\u001b[0m\u001b[0mt\u001b[0m\u001b[1;33m]\u001b[0m\u001b[1;33m:\u001b[0m\u001b[1;33m\u001b[0m\u001b[1;33m\u001b[0m\u001b[0m\n\u001b[1;32m----> 5\u001b[1;33m         \u001b[0msimilars\u001b[0m \u001b[1;33m=\u001b[0m \u001b[0mmodels\u001b[0m\u001b[1;33m[\u001b[0m\u001b[0mt\u001b[0m\u001b[1;33m]\u001b[0m\u001b[1;33m.\u001b[0m\u001b[0mmost_similar\u001b[0m\u001b[1;33m(\u001b[0m\u001b[0mpositive\u001b[0m\u001b[1;33m=\u001b[0m\u001b[1;33m[\u001b[0m\u001b[0mw\u001b[0m\u001b[1;33m[\u001b[0m\u001b[1;36m0\u001b[0m\u001b[1;33m]\u001b[0m\u001b[1;33m]\u001b[0m\u001b[1;33m,\u001b[0m \u001b[0mtopn\u001b[0m\u001b[1;33m=\u001b[0m\u001b[1;36m10\u001b[0m\u001b[1;33m)\u001b[0m\u001b[1;33m\u001b[0m\u001b[1;33m\u001b[0m\u001b[0m\n\u001b[0m\u001b[0;32m      6\u001b[0m         \u001b[0msub_list\u001b[0m\u001b[1;33m.\u001b[0m\u001b[0mappend\u001b[0m\u001b[1;33m(\u001b[0m\u001b[1;33m(\u001b[0m\u001b[0mw\u001b[0m\u001b[1;33m[\u001b[0m\u001b[1;36m0\u001b[0m\u001b[1;33m]\u001b[0m\u001b[1;33m,\u001b[0m \u001b[0msimilars\u001b[0m\u001b[1;33m)\u001b[0m\u001b[1;33m)\u001b[0m\u001b[1;33m\u001b[0m\u001b[1;33m\u001b[0m\u001b[0m\n\u001b[0;32m      7\u001b[0m     \u001b[0mcombined_list\u001b[0m\u001b[1;33m.\u001b[0m\u001b[0mappend\u001b[0m\u001b[1;33m(\u001b[0m\u001b[0msub_list\u001b[0m\u001b[1;33m)\u001b[0m\u001b[1;33m\u001b[0m\u001b[1;33m\u001b[0m\u001b[0m\n",
      "\u001b[1;31mIndexError\u001b[0m: list index out of range"
     ]
    }
   ],
   "source": [
    "combined_list = []\n",
    "for t in range(len(topics_list)):\n",
    "    sub_list = []\n",
    "    for w in topics_list[t]:\n",
    "        similars = models[t].most_similar(positive=[w[0]], topn=10)\n",
    "        sub_list.append((w[0], similars))\n",
    "    combined_list.append(sub_list)"
   ]
  },
  {
   "cell_type": "code",
   "execution_count": 79,
   "metadata": {},
   "outputs": [
    {
     "name": "stdout",
     "output_type": "stream",
     "text": [
      "[[('disease',\n",
      "   [('transmission', 0.9902886152267456),\n",
      "    ('datum', 0.9899731278419495),\n",
      "    ('intervention', 0.9898767471313477),\n",
      "    ('time', 0.9898668527603149),\n",
      "    ('measle', 0.9897240400314331),\n",
      "    ('risk', 0.9886634349822998),\n",
      "    ('biomarker', 0.9886497259140015),\n",
      "    ('infection', 0.9879155158996582),\n",
      "    ('factor', 0.9877915978431702),\n",
      "    ('epidemic', 0.9874793291091919)]),\n",
      "  ('patient',\n",
      "   [('propose', 0.991295337677002),\n",
      "    ('transmission', 0.9912083148956299),\n",
      "    ('study', 0.9911046624183655),\n",
      "    ('datum', 0.990837037563324),\n",
      "    ('risk', 0.9906517267227173),\n",
      "    ('measle', 0.9893420934677124),\n",
      "    ('treatment', 0.9892787933349609),\n",
      "    ('biomarker', 0.9892067313194275),\n",
      "    ('social', 0.9891880750656128),\n",
      "    ('control', 0.9881547093391418)]),\n",
      "  ('population',\n",
      "   [('patient', 0.9872965216636658),\n",
      "    ('measle', 0.9872666597366333),\n",
      "    ('intervention', 0.9869620203971863),\n",
      "    ('treatment', 0.9869066476821899),\n",
      "    ('control', 0.9868558049201965),\n",
      "    ('infection', 0.9866431951522827),\n",
      "    ('vaccination', 0.9865241646766663),\n",
      "    ('transmission', 0.9864526987075806),\n",
      "    ('datum', 0.9863073229789734),\n",
      "    ('social', 0.9860245585441589)]),\n",
      "  ('health',\n",
      "   [('social', 0.9899593591690063),\n",
      "    ('datum', 0.9891848564147949),\n",
      "    ('propose', 0.988843560218811),\n",
      "    ('include', 0.9888343811035156),\n",
      "    ('system', 0.9885204434394836),\n",
      "    ('intervention', 0.988420844078064),\n",
      "    ('risk', 0.9883720874786377),\n",
      "    ('infection', 0.9883122444152832),\n",
      "    ('control', 0.9883003830909729),\n",
      "    ('measle', 0.988118588924408)]),\n",
      "  ('study',\n",
      "   [('patient', 0.9911046624183655),\n",
      "    ('datum', 0.9908751249313354),\n",
      "    ('transmission', 0.9902370572090149),\n",
      "    ('biomarker', 0.989433765411377),\n",
      "    ('propose', 0.989359974861145),\n",
      "    ('infection', 0.9888919591903687),\n",
      "    ('measle', 0.9885642528533936),\n",
      "    ('social', 0.9884575009346008),\n",
      "    ('spatial', 0.9883795380592346),\n",
      "    ('approach', 0.9883546829223633)]),\n",
      "  ('predictive',\n",
      "   [('biomarker', 0.9749398231506348),\n",
      "    ('datum', 0.9747328758239746),\n",
      "    ('time', 0.9731663465499878),\n",
      "    ('transmission', 0.9724032878875732),\n",
      "    ('risk', 0.9723880290985107),\n",
      "    ('disease', 0.9720070362091064),\n",
      "    ('infection', 0.9715783596038818),\n",
      "    ('measle', 0.9710944294929504),\n",
      "    ('optimal', 0.9709082841873169),\n",
      "    ('cause', 0.9708566069602966)]),\n",
      "  ('outcome',\n",
      "   [('transmission', 0.9889536499977112),\n",
      "    ('social', 0.9887853860855103),\n",
      "    ('propose', 0.9885782599449158),\n",
      "    ('intervention', 0.9884077310562134),\n",
      "    ('risk', 0.9882140159606934),\n",
      "    ('effect', 0.9876599311828613),\n",
      "    ('measle', 0.9873340725898743),\n",
      "    ('datum', 0.987116813659668),\n",
      "    ('spatial', 0.9864668846130371),\n",
      "    ('prevention', 0.986297070980072)]),\n",
      "  ('treatment',\n",
      "   [('transmission', 0.9913474917411804),\n",
      "    ('measle', 0.9911402463912964),\n",
      "    ('intervention', 0.9906895756721497),\n",
      "    ('time', 0.9901207089424133),\n",
      "    ('social', 0.9898333549499512),\n",
      "    ('individual', 0.98944091796875),\n",
      "    ('patient', 0.9892788529396057),\n",
      "    ('datum', 0.9891442656517029),\n",
      "    ('infection', 0.9883513450622559),\n",
      "    ('effect', 0.9878254532814026)]),\n",
      "  ('transmission',\n",
      "   [('measle', 0.9931960701942444),\n",
      "    ('propose', 0.9922118186950684),\n",
      "    ('social', 0.9918796420097351),\n",
      "    ('treatment', 0.9913473725318909),\n",
      "    ('intervention', 0.9912182092666626),\n",
      "    ('patient', 0.9912082552909851),\n",
      "    ('datum', 0.9910875558853149),\n",
      "    ('infection', 0.990591287612915),\n",
      "    ('approach', 0.9905120730400085),\n",
      "    ('biomarker', 0.990402102470398)]),\n",
      "  ('infection',\n",
      "   [('social', 0.9919744729995728),\n",
      "    ('datum', 0.9908889532089233),\n",
      "    ('risk', 0.9906272888183594),\n",
      "    ('transmission', 0.990591287612915),\n",
      "    ('time', 0.9904483556747437),\n",
      "    ('measle', 0.9903321862220764),\n",
      "    ('network', 0.9902511835098267),\n",
      "    ('control', 0.9901876449584961),\n",
      "    ('system', 0.9896931052207947),\n",
      "    ('biomarker', 0.9895249605178833)])],\n",
      " [('cell',\n",
      "   [('type', 0.9596438407897949),\n",
      "    ('single', 0.9502409100532532),\n",
      "    ('tissue', 0.9423888921737671),\n",
      "    ('state', 0.9336670637130737),\n",
      "    ('differentiation', 0.9328249096870422),\n",
      "    ('different', 0.9308990240097046),\n",
      "    ('signal', 0.9304184913635254),\n",
      "    ('protein', 0.9302034378051758),\n",
      "    ('expression', 0.9275345206260681),\n",
      "    ('fate', 0.9256150722503662)]),\n",
      "  ('network',\n",
      "   [('interaction', 0.9905467629432678),\n",
      "    ('pathway', 0.9902529120445251),\n",
      "    ('regulation', 0.9879698157310486),\n",
      "    ('biological', 0.9871929287910461),\n",
      "    ('regulatory', 0.9863193035125732),\n",
      "    ('dynamic', 0.9862940311431885),\n",
      "    ('differentially_expresse', 0.9856224060058594),\n",
      "    ('molecular', 0.9852432608604431),\n",
      "    ('key', 0.9847304224967957),\n",
      "    ('understanding', 0.984161376953125)]),\n",
      "  ('disease',\n",
      "   [('understand', 0.9896914958953857),\n",
      "    ('complex', 0.9894744157791138),\n",
      "    ('human', 0.9892445206642151),\n",
      "    ('role', 0.9860717058181763),\n",
      "    ('play', 0.9813596606254578),\n",
      "    ('mechanism', 0.9811793565750122),\n",
      "    ('important', 0.9811686277389526),\n",
      "    ('regulation', 0.9791597127914429),\n",
      "    ('cancer', 0.977034330368042),\n",
      "    ('health', 0.9769109487533569)]),\n",
      "  ('gene',\n",
      "   [('regulatory', 0.9962170720100403),\n",
      "    ('regulation', 0.9934322834014893),\n",
      "    ('function', 0.9914284944534302),\n",
      "    ('mechanism', 0.9900158643722534),\n",
      "    ('change', 0.9888770580291748),\n",
      "    ('cellular', 0.9864592552185059),\n",
      "    ('molecular', 0.9855683445930481),\n",
      "    ('signal', 0.9842026233673096),\n",
      "    ('control', 0.9828004837036133),\n",
      "    ('role', 0.9817690849304199)]),\n",
      "  ('study',\n",
      "   [('goal', 0.9991041421890259),\n",
      "    ('facilitate', 0.9988009333610535),\n",
      "    ('work', 0.998775839805603),\n",
      "    ('objective', 0.9986295700073242),\n",
      "    ('design', 0.9985535144805908),\n",
      "    ('seek', 0.9984428882598877),\n",
      "    ('microbiome', 0.9983958005905151),\n",
      "    ('ongoing', 0.9982976913452148),\n",
      "    ('synthetic_biology', 0.9982341527938843),\n",
      "    ('improve', 0.9982097148895264)]),\n",
      "  ('sequence',\n",
      "   [('sequencing', 0.996955931186676),\n",
      "    ('large', 0.9934523105621338),\n",
      "    ('sample', 0.992524266242981),\n",
      "    ('rnaseq', 0.9923850297927856),\n",
      "    ('generate', 0.9906736612319946),\n",
      "    ('scrnaseq', 0.9905369281768799),\n",
      "    ('singlecell', 0.9903959631919861),\n",
      "    ('dataset', 0.9901242852210999),\n",
      "    ('technology', 0.9897415041923523),\n",
      "    ('base', 0.9887758493423462)]),\n",
      "  ('human',\n",
      "   [('important', 0.9954202175140381),\n",
      "    ('many', 0.9953229427337646),\n",
      "    ('cancer', 0.9952932000160217),\n",
      "    ('health', 0.9946603775024414),\n",
      "    ('play', 0.9944226741790771),\n",
      "    ('understand', 0.9938856363296509),\n",
      "    ('complex', 0.9931986331939697),\n",
      "    ('understanding', 0.992863655090332),\n",
      "    ('disease', 0.9892445206642151),\n",
      "    ('role', 0.987855076789856)]),\n",
      "  ('microbiome',\n",
      "   [('study', 0.9983958005905151),\n",
      "    ('goal', 0.9977673888206482),\n",
      "    ('work', 0.9968847036361694),\n",
      "    ('facilitate', 0.9968358874320984),\n",
      "    ('provide', 0.9965944290161133),\n",
      "    ('ongoing', 0.9963365793228149),\n",
      "    ('design', 0.9962618350982666),\n",
      "    ('objective', 0.9961791038513184),\n",
      "    ('seek', 0.9960702657699585),\n",
      "    ('ocean', 0.9960086941719055)]),\n",
      "  ('biological',\n",
      "   [('insight', 0.9964384436607361),\n",
      "    ('fundamental', 0.9962761402130127),\n",
      "    ('important', 0.995908796787262),\n",
      "    ('understanding', 0.9957308769226074),\n",
      "    ('key', 0.9949958324432373),\n",
      "    ('pathway', 0.9947049617767334),\n",
      "    ('unravel', 0.9945282936096191),\n",
      "    ('underlie', 0.9945151805877686),\n",
      "    ('etiology', 0.9942792057991028),\n",
      "    ('lead', 0.993861973285675)]),\n",
      "  ('analysis',\n",
      "   [('software', 0.9954961538314819),\n",
      "    ('datum', 0.994544506072998),\n",
      "    ('integrate', 0.9934343695640564),\n",
      "    ('experimental', 0.9933189749717712),\n",
      "    ('analyze', 0.9927693009376526),\n",
      "    ('propose', 0.9919660091400146),\n",
      "    ('data', 0.9915370941162109),\n",
      "    ('statistical', 0.9906165599822998),\n",
      "    ('tool', 0.9890878200531006),\n",
      "    ('framework', 0.9881414175033569)])],\n",
      " [('datum',\n",
      "   [('data', 0.9828313589096069),\n",
      "    ('set', 0.9814344644546509),\n",
      "    ('dataset', 0.9750711917877197),\n",
      "    ('analyze', 0.9749571084976196),\n",
      "    ('large', 0.9740049242973328),\n",
      "    ('omic', 0.9607343673706055),\n",
      "    ('integrate', 0.9590092897415161),\n",
      "    ('integration', 0.9556291699409485),\n",
      "    ('genomic', 0.9547985792160034),\n",
      "    ('proteomic', 0.9492908716201782)]),\n",
      "  ('tool',\n",
      "   [('computational', 0.9805607795715332),\n",
      "    ('platform', 0.9769852757453918),\n",
      "    ('exist', 0.974554717540741),\n",
      "    ('create', 0.9743713140487671),\n",
      "    ('package', 0.9694899320602417),\n",
      "    ('software', 0.9686377644538879),\n",
      "    ('ccms_submitte', 0.967940092086792),\n",
      "    ('lack_adequate', 0.9669846892356873),\n",
      "    ('implement', 0.9669193029403687),\n",
      "    ('framework', 0.9630711078643799)]),\n",
      "  ('analysis',\n",
      "   [('visualization', 0.9672335386276245),\n",
      "    ('integrate', 0.9621807336807251),\n",
      "    ('proteomic', 0.9603387713432312),\n",
      "    ('analyze', 0.9563049077987671),\n",
      "    ('metabolomic', 0.9557853937149048),\n",
      "    ('enable', 0.9548336267471313),\n",
      "    ('benchmark_enrichment', 0.9544505476951599),\n",
      "    ('lack_adequate', 0.9515373706817627),\n",
      "    ('big', 0.9508295059204102),\n",
      "    ('data', 0.9501453638076782)]),\n",
      "  ('software',\n",
      "   [('tool', 0.9686379432678223),\n",
      "    ('computational', 0.9588419198989868),\n",
      "    ('create', 0.9552042484283447),\n",
      "    ('implement', 0.9353521466255188),\n",
      "    ('package', 0.9297612309455872),\n",
      "    ('platform', 0.9290896654129028),\n",
      "    ('technology', 0.9281010031700134),\n",
      "    ('propose', 0.9279261827468872),\n",
      "    ('biomedical', 0.9261493682861328),\n",
      "    ('exist', 0.9230501651763916)]),\n",
      "  ('project',\n",
      "   [('narrative', 0.9528952836990356),\n",
      "    ('goal', 0.9499006271362305),\n",
      "    ('science', 0.9373515248298645),\n",
      "    ('biomedical', 0.932532012462616),\n",
      "    ('encourage_wide', 0.9277722835540771),\n",
      "    ('proposal', 0.925127387046814),\n",
      "    ('propose', 0.9197742938995361),\n",
      "    ('technology', 0.9195141792297363),\n",
      "    ('address', 0.9177065491676331),\n",
      "    ('summary', 0.9106507301330566)]),\n",
      "  ('data',\n",
      "   [('analyze', 0.991102933883667),\n",
      "    ('integration', 0.9888273477554321),\n",
      "    ('metabolomic', 0.9874609112739563),\n",
      "    ('set', 0.9866416454315186),\n",
      "    ('proteomic', 0.9863054156303406),\n",
      "    ('integrate', 0.9851906299591064),\n",
      "    ('omic', 0.9850005507469177),\n",
      "    ('datum', 0.9828312397003174),\n",
      "    ('genomic', 0.9810370206832886),\n",
      "    ('dataset', 0.9807693958282471)]),\n",
      "  ('clinical',\n",
      "   [('care', 0.9867803454399109),\n",
      "    ('electronic', 0.9760507345199585),\n",
      "    ('outcome', 0.9714638590812683),\n",
      "    ('population', 0.9664500951766968),\n",
      "    ('factor', 0.965995192527771),\n",
      "    ('prognosis', 0.965960681438446),\n",
      "    ('records_ehrs', 0.9645677208900452),\n",
      "    ('health', 0.9634798765182495),\n",
      "    ('diagnosis', 0.96172034740448),\n",
      "    ('records_ehr', 0.9612378478050232)]),\n",
      "  ('biomedical',\n",
      "   [('technology', 0.9771568179130554),\n",
      "    ('computational', 0.9753565788269043),\n",
      "    ('address', 0.962165117263794),\n",
      "    ('goal', 0.9535603523254395),\n",
      "    ('create', 0.9534758925437927),\n",
      "    ('propose', 0.9511783123016357),\n",
      "    ('proposal', 0.9468628168106079),\n",
      "    ('big', 0.9446816444396973),\n",
      "    ('ccms_submitte', 0.9437131881713867),\n",
      "    ('encourage_wide', 0.9435080885887146)]),\n",
      "  ('improve',\n",
      "   [('strategy', 0.9927487373352051),\n",
      "    ('quality', 0.9924346208572388),\n",
      "    ('hcv_elimination', 0.9915992617607117),\n",
      "    ('decision', 0.9912452697753906),\n",
      "    ('harm', 0.9910240173339844),\n",
      "    ('benefit', 0.990667462348938),\n",
      "    ('prevention', 0.9902931451797485),\n",
      "    ('reduce', 0.9901108741760254),\n",
      "    ('policy', 0.9900240898132324),\n",
      "    ('cost', 0.9898574948310852)]),\n",
      "  ('system',\n",
      "   [('monitor', 0.9967122077941895),\n",
      "    ('state', 0.9966832399368286),\n",
      "    ('evolution', 0.9966548085212708),\n",
      "    ('surgery', 0.9965274333953857),\n",
      "    ('insight', 0.9965063333511353),\n",
      "    ('infectious_disease', 0.9964608550071716),\n",
      "    ('history', 0.9964500069618225),\n",
      "    ('vector', 0.9964460134506226),\n",
      "    ('determinant', 0.996444821357727),\n",
      "    ('illness', 0.9964155554771423)])],\n",
      " [('protein',\n",
      "   [('residue', 0.9592634439468384),\n",
      "    ('substrate', 0.9533683061599731),\n",
      "    ('domain', 0.9472869634628296),\n",
      "    ('peptide', 0.9458699226379395),\n",
      "    ('allosteric', 0.9446382522583008),\n",
      "    ('water', 0.9440011978149414),\n",
      "    ('region', 0.9432877898216248),\n",
      "    ('fold', 0.9432567358016968),\n",
      "    ('solventexpose', 0.9407496452331543),\n",
      "    ('amino_acid', 0.9406977891921997)]),\n",
      "  ('structure',\n",
      "   [('sequence', 0.9517152309417725),\n",
      "    ('ensemble', 0.9275689721107483),\n",
      "    ('structural', 0.9253863096237183),\n",
      "    ('secondary_tertiary', 0.8988786935806274),\n",
      "    ('free_energy', 0.8879725933074951),\n",
      "    ('montecarlo', 0.8830860257148743),\n",
      "    ('conformation', 0.8714891672134399),\n",
      "    ('bank_pdb', 0.8650569915771484),\n",
      "    ('deepfolde', 0.863717794418335),\n",
      "    ('score', 0.8602641224861145)]),\n",
      "  ('interaction',\n",
      "   [('kinase', 0.9673372507095337),\n",
      "    ('modulate', 0.9635413885116577),\n",
      "    ('catalytic_activity', 0.9613512754440308),\n",
      "    ('activity', 0.9558969736099243),\n",
      "    ('dangerous_exces', 0.9550362825393677),\n",
      "    ('alter', 0.9543081521987915),\n",
      "    ('interdomain', 0.9520140886306763),\n",
      "    ('interact', 0.951603889465332),\n",
      "    ('dna', 0.950528621673584),\n",
      "    ('kinases_insulin', 0.9501967430114746)]),\n",
      "  ('dynamic',\n",
      "   [('molecular', 0.9121965169906616),\n",
      "    ('complex', 0.898091197013855),\n",
      "    ('scale', 0.8800173997879028),\n",
      "    ('fitness_landscape', 0.8647077679634094),\n",
      "    ('assembly', 0.8495764136314392),\n",
      "    ('recognition', 0.8493881225585938),\n",
      "    ('blebbe', 0.848915696144104),\n",
      "    ('level', 0.844063401222229),\n",
      "    ('determine', 0.8426042795181274),\n",
      "    ('ribosomebound', 0.8286406993865967)]),\n",
      "  ('drug',\n",
      "   [('therapeutic', 0.9486563205718994),\n",
      "    ('repurposing', 0.9452628493309021),\n",
      "    ('target', 0.9349809288978577),\n",
      "    ('discovery', 0.9167879223823547),\n",
      "    ('pglycoprotein', 0.8724666833877563),\n",
      "    ('todays_undruggable', 0.8662879467010498),\n",
      "    ('resistance', 0.8636648654937744),\n",
      "    ('therapy', 0.85780930519104),\n",
      "    ('lead', 0.8498252034187317),\n",
      "    ('approve', 0.8398090600967407)]),\n",
      "  ('bind',\n",
      "   [('site', 0.9868706464767456),\n",
      "    ('ligand', 0.9851396083831787),\n",
      "    ('binding', 0.9744206666946411),\n",
      "    ('pocket', 0.9150232672691345),\n",
      "    ('competitive_saturation', 0.910262405872345),\n",
      "    ('affinity', 0.9054951667785645),\n",
      "    ('hot_spot', 0.8870050311088562),\n",
      "    ('igsf', 0.8866894245147705),\n",
      "    ('small', 0.878615140914917),\n",
      "    ('substrate', 0.8777754902839661)]),\n",
      "  ('molecular',\n",
      "   [('dynamic', 0.9121965169906616),\n",
      "    ('system', 0.853167712688446),\n",
      "    ('quantitative', 0.850189208984375),\n",
      "    ('trajectorie', 0.8387033343315125),\n",
      "    ('protonmediate', 0.8380479216575623),\n",
      "    ('mechanic', 0.8370857238769531),\n",
      "    ('umbrella_sampling', 0.8343672752380371),\n",
      "    ('insight', 0.830865740776062),\n",
      "    ('fitness_landscape', 0.8244364261627197),\n",
      "    ('biophysical', 0.822925865650177)]),\n",
      "  ('simulation',\n",
      "   [('analysis', 0.9150660037994385),\n",
      "    ('combine', 0.9134052991867065),\n",
      "    ('experiment', 0.9016497135162354),\n",
      "    ('base', 0.9014581441879272),\n",
      "    ('quantum_mechanicalmolecular', 0.9002969264984131),\n",
      "    ('md', 0.8900803923606873),\n",
      "    ('qmmm', 0.88840651512146),\n",
      "    ('computer', 0.8877406120300293),\n",
      "    ('perform', 0.8843824863433838),\n",
      "    ('statistical', 0.8721905946731567)]),\n",
      "  ('design',\n",
      "   [('structurebase', 0.958258867263794),\n",
      "    ('discovery', 0.9481026530265808),\n",
      "    ('repurposing', 0.9379054307937622),\n",
      "    ('rational', 0.9372760653495789),\n",
      "    ('ppi_modulator', 0.9333170056343079),\n",
      "    ('computer_aided', 0.9209176898002625),\n",
      "    ('improve', 0.8937233090400696),\n",
      "    ('sbdd', 0.8867719173431396),\n",
      "    ('histone_methyltransferase', 0.8813380002975464),\n",
      "    ('computeraided_drug', 0.879075288772583)]),\n",
      "  ('target',\n",
      "   [('pglycoprotein', 0.9481126666069031),\n",
      "    ('repurposing', 0.9392869472503662),\n",
      "    ('drug', 0.9349809885025024),\n",
      "    ('todays_undruggable', 0.9142468571662903),\n",
      "    ('inhibitor', 0.90990149974823),\n",
      "    ('therapeutic', 0.9094527363777161),\n",
      "    ('identify', 0.8914154171943665),\n",
      "    ('resistance', 0.8747736215591431),\n",
      "    ('approve', 0.8747420310974121),\n",
      "    ('compound', 0.8734220266342163)])]]\n"
     ]
    }
   ],
   "source": [
    "pprint(combined_list)"
   ]
  },
  {
   "cell_type": "code",
   "execution_count": null,
   "metadata": {},
   "outputs": [],
   "source": []
  }
 ],
 "metadata": {
  "kernelspec": {
   "display_name": "Python 3",
   "language": "python",
   "name": "python3"
  },
  "language_info": {
   "codemirror_mode": {
    "name": "ipython",
    "version": 3
   },
   "file_extension": ".py",
   "mimetype": "text/x-python",
   "name": "python",
   "nbconvert_exporter": "python",
   "pygments_lexer": "ipython3",
   "version": "3.7.4"
  }
 },
 "nbformat": 4,
 "nbformat_minor": 2
}
